{
 "cells": [
  {
   "cell_type": "code",
   "execution_count": 1,
   "metadata": {
    "Collapsed": "false"
   },
   "outputs": [],
   "source": [
    "using XLSX"
   ]
  },
  {
   "cell_type": "code",
   "execution_count": 5,
   "metadata": {
    "Collapsed": "false"
   },
   "outputs": [],
   "source": [
    "using DataFrames"
   ]
  },
  {
   "cell_type": "code",
   "execution_count": 3,
   "metadata": {
    "Collapsed": "false"
   },
   "outputs": [],
   "source": [
    "using StatsPlots"
   ]
  },
  {
   "cell_type": "code",
   "execution_count": 6,
   "metadata": {
    "Collapsed": "false"
   },
   "outputs": [
    {
     "data": {
      "text/plain": [
       "\"./fir_comparison.xlsx\""
      ]
     },
     "execution_count": 6,
     "metadata": {},
     "output_type": "execute_result"
    }
   ],
   "source": [
    "fn = \"./fir_comparison.xlsx\""
   ]
  },
  {
   "cell_type": "code",
   "execution_count": 7,
   "metadata": {
    "Collapsed": "false"
   },
   "outputs": [
    {
     "data": {
      "text/plain": [
       "XLSXFile(\"fir_comparison.xlsx\") containing 2 Worksheets\n",
       "            sheetname size          range        \n",
       "-------------------------------------------------\n",
       "              Results 25x18         A1:R25       \n",
       "          Experiments 2x5           A1:E2        \n"
      ]
     },
     "execution_count": 7,
     "metadata": {},
     "output_type": "execute_result"
    }
   ],
   "source": [
    "xf = XLSX.readxlsx(fn)"
   ]
  },
  {
   "cell_type": "code",
   "execution_count": 8,
   "metadata": {
    "Collapsed": "false"
   },
   "outputs": [
    {
     "data": {
      "text/plain": [
       "Dict{String,DataFrame} with 2 entries:\n",
       "  \"Experiments\" => 1×5 DataFrame. Omitted printing of 1 columns…\n",
       "  \"Results\"     => 24×18 DataFrame. Omitted printing of 16 columns…"
      ]
     },
     "execution_count": 8,
     "metadata": {},
     "output_type": "execute_result"
    }
   ],
   "source": [
    "dfs = Dict([n=>DataFrame(XLSX.readtable(fn, n)...) for n in XLSX.sheetnames(xf)])"
   ]
  },
  {
   "cell_type": "code",
   "execution_count": 9,
   "metadata": {
    "Collapsed": "false"
   },
   "outputs": [
    {
     "data": {
      "text/html": [
       "<table class=\"data-frame\"><thead><tr><th></th><th>Design</th><th>Description</th><th>Bram18k</th><th>DSP48E</th></tr><tr><th></th><th>Any</th><th>Any</th><th>Any</th><th>Any</th></tr></thead><tbody><p>24 rows × 18 columns (omitted printing of 14 columns)</p><tr><th>1</th><td>basic</td><td>Stock Code</td><td>0</td><td>1</td></tr><tr><th>2</th><td>fission</td><td>split loop into 2</td><td>0</td><td>2</td></tr><tr><th>3</th><td>remove_if</td><td>remove conditional logic from loop</td><td>0</td><td>2</td></tr><tr><th>4</th><td>unroll_2</td><td>Unroll loops by factor of 2</td><td>0</td><td>11</td></tr><tr><th>5</th><td>unroll_all</td><td>Completely unroll loops</td><td>0</td><td>11</td></tr><tr><th>6</th><td>unroll_all_2pbram</td><td>unroll all and use a 2p bram for shift reg.</td><td>0</td><td>11</td></tr><tr><th>7</th><td>basic_1pbram</td><td>Basic code but with a 1p bram</td><td>0</td><td>3</td></tr><tr><th>8</th><td>unroll_all_1pbram</td><td>all unrolled, 1pbram</td><td>0</td><td>11</td></tr><tr><th>9</th><td>32b_unroll_all</td><td>all unrolled, full precision</td><td>0</td><td>33</td></tr><tr><th>10</th><td>32b_unroll_2</td><td>missing</td><td>0</td><td>9</td></tr><tr><th>11</th><td>32b_fission</td><td>missing</td><td>0</td><td>6</td></tr><tr><th>12</th><td>32b_basic</td><td>missing</td><td>0</td><td>3</td></tr><tr><th>13</th><td>Multiplier</td><td>missing</td><td>100</td><td>100</td></tr><tr><th>14</th><td>missing</td><td>missing</td><td>100</td><td>100</td></tr><tr><th>15</th><td>missing</td><td>missing</td><td>100</td><td>100</td></tr><tr><th>16</th><td>missing</td><td>missing</td><td>100</td><td>100</td></tr><tr><th>17</th><td>missing</td><td>missing</td><td>100</td><td>100</td></tr><tr><th>18</th><td>missing</td><td>missing</td><td>100</td><td>100</td></tr><tr><th>19</th><td>missing</td><td>missing</td><td>100</td><td>100</td></tr><tr><th>20</th><td>missing</td><td>missing</td><td>100</td><td>100</td></tr><tr><th>21</th><td>missing</td><td>missing</td><td>100</td><td>100</td></tr><tr><th>22</th><td>missing</td><td>missing</td><td>100</td><td>100</td></tr><tr><th>23</th><td>missing</td><td>missing</td><td>100</td><td>100</td></tr><tr><th>24</th><td>missing</td><td>missing</td><td>100</td><td>100</td></tr></tbody></table>"
      ],
      "text/latex": [
       "\\begin{tabular}{r|ccccc}\n",
       "\t& Design & Description & Bram18k & DSP48E & \\\\\n",
       "\t\\hline\n",
       "\t& Any & Any & Any & Any & \\\\\n",
       "\t\\hline\n",
       "\t1 & basic & Stock Code & 0 & 1 & $\\dots$ \\\\\n",
       "\t2 & fission & split loop into 2 & 0 & 2 & $\\dots$ \\\\\n",
       "\t3 & remove\\_if & remove conditional logic from loop & 0 & 2 & $\\dots$ \\\\\n",
       "\t4 & unroll\\_2 & Unroll loops by factor of 2 & 0 & 11 & $\\dots$ \\\\\n",
       "\t5 & unroll\\_all & Completely unroll loops & 0 & 11 & $\\dots$ \\\\\n",
       "\t6 & unroll\\_all\\_2pbram & unroll all and use a 2p bram for shift reg. & 0 & 11 & $\\dots$ \\\\\n",
       "\t7 & basic\\_1pbram & Basic code but with a 1p bram & 0 & 3 & $\\dots$ \\\\\n",
       "\t8 & unroll\\_all\\_1pbram & all unrolled, 1pbram & 0 & 11 & $\\dots$ \\\\\n",
       "\t9 & 32b\\_unroll\\_all & all unrolled, full precision & 0 & 33 & $\\dots$ \\\\\n",
       "\t10 & 32b\\_unroll\\_2 &  & 0 & 9 & $\\dots$ \\\\\n",
       "\t11 & 32b\\_fission &  & 0 & 6 & $\\dots$ \\\\\n",
       "\t12 & 32b\\_basic &  & 0 & 3 & $\\dots$ \\\\\n",
       "\t13 & Multiplier &  & 100 & 100 & $\\dots$ \\\\\n",
       "\t14 &  &  & 100 & 100 & $\\dots$ \\\\\n",
       "\t15 &  &  & 100 & 100 & $\\dots$ \\\\\n",
       "\t16 &  &  & 100 & 100 & $\\dots$ \\\\\n",
       "\t17 &  &  & 100 & 100 & $\\dots$ \\\\\n",
       "\t18 &  &  & 100 & 100 & $\\dots$ \\\\\n",
       "\t19 &  &  & 100 & 100 & $\\dots$ \\\\\n",
       "\t20 &  &  & 100 & 100 & $\\dots$ \\\\\n",
       "\t21 &  &  & 100 & 100 & $\\dots$ \\\\\n",
       "\t22 &  &  & 100 & 100 & $\\dots$ \\\\\n",
       "\t23 &  &  & 100 & 100 & $\\dots$ \\\\\n",
       "\t24 &  &  & 100 & 100 & $\\dots$ \\\\\n",
       "\\end{tabular}\n"
      ],
      "text/plain": [
       "24×18 DataFrame. Omitted printing of 16 columns\n",
       "│ Row │ Design            │ Description                                 │\n",
       "│     │ \u001b[90mAny\u001b[39m               │ \u001b[90mAny\u001b[39m                                         │\n",
       "├─────┼───────────────────┼─────────────────────────────────────────────┤\n",
       "│ 1   │ basic             │ Stock Code                                  │\n",
       "│ 2   │ fission           │ split loop into 2                           │\n",
       "│ 3   │ remove_if         │ remove conditional logic from loop          │\n",
       "│ 4   │ unroll_2          │ Unroll loops by factor of 2                 │\n",
       "│ 5   │ unroll_all        │ Completely unroll loops                     │\n",
       "│ 6   │ unroll_all_2pbram │ unroll all and use a 2p bram for shift reg. │\n",
       "│ 7   │ basic_1pbram      │ Basic code but with a 1p bram               │\n",
       "│ 8   │ unroll_all_1pbram │ all unrolled, 1pbram                        │\n",
       "│ 9   │ 32b_unroll_all    │ all unrolled, full precision                │\n",
       "│ 10  │ 32b_unroll_2      │ \u001b[90mmissing\u001b[39m                                     │\n",
       "⋮\n",
       "│ 14  │ \u001b[90mmissing\u001b[39m           │ \u001b[90mmissing\u001b[39m                                     │\n",
       "│ 15  │ \u001b[90mmissing\u001b[39m           │ \u001b[90mmissing\u001b[39m                                     │\n",
       "│ 16  │ \u001b[90mmissing\u001b[39m           │ \u001b[90mmissing\u001b[39m                                     │\n",
       "│ 17  │ \u001b[90mmissing\u001b[39m           │ \u001b[90mmissing\u001b[39m                                     │\n",
       "│ 18  │ \u001b[90mmissing\u001b[39m           │ \u001b[90mmissing\u001b[39m                                     │\n",
       "│ 19  │ \u001b[90mmissing\u001b[39m           │ \u001b[90mmissing\u001b[39m                                     │\n",
       "│ 20  │ \u001b[90mmissing\u001b[39m           │ \u001b[90mmissing\u001b[39m                                     │\n",
       "│ 21  │ \u001b[90mmissing\u001b[39m           │ \u001b[90mmissing\u001b[39m                                     │\n",
       "│ 22  │ \u001b[90mmissing\u001b[39m           │ \u001b[90mmissing\u001b[39m                                     │\n",
       "│ 23  │ \u001b[90mmissing\u001b[39m           │ \u001b[90mmissing\u001b[39m                                     │\n",
       "│ 24  │ \u001b[90mmissing\u001b[39m           │ \u001b[90mmissing\u001b[39m                                     │"
      ]
     },
     "execution_count": 9,
     "metadata": {},
     "output_type": "execute_result"
    }
   ],
   "source": [
    "res = dfs[\"Results\"]"
   ]
  },
  {
   "cell_type": "code",
   "execution_count": 10,
   "metadata": {
    "Collapsed": "false"
   },
   "outputs": [],
   "source": [
    "res = res[1:12, :];"
   ]
  },
  {
   "cell_type": "code",
   "execution_count": 11,
   "metadata": {
    "Collapsed": "false"
   },
   "outputs": [
    {
     "data": {
      "text/html": [
       "<script>\n",
       "// Immediately-invoked-function-expression to avoid global variables.\n",
       "(function() {\n",
       "    var warning_div = document.getElementById(\"webio-warning-4522156033374641797\");\n",
       "    var hide = function () {\n",
       "        var script = document.getElementById(\"webio-setup-10105547249244088998\");\n",
       "        var parent = script && script.parentElement;\n",
       "        var grandparent = parent && parent.parentElement;\n",
       "        if (grandparent) {\n",
       "            grandparent.style.display = \"none\";\n",
       "        }\n",
       "        warning_div.style.display = \"none\";\n",
       "    };\n",
       "    if (typeof Jupyter !== \"undefined\") {\n",
       "        console.log(\"WebIO detected Jupyter notebook environment.\");\n",
       "        // Jupyter notebook.\n",
       "        var extensions = (\n",
       "            Jupyter\n",
       "            && Jupyter.notebook.config.data\n",
       "            && Jupyter.notebook.config.data.load_extensions\n",
       "        );\n",
       "        if (extensions && extensions[\"webio-jupyter-notebook\"]) {\n",
       "            // Extension already loaded.\n",
       "            console.log(\"Jupyter WebIO nbextension detected; not loading ad-hoc.\");\n",
       "            hide();\n",
       "            return;\n",
       "        }\n",
       "    } else if (window.location.pathname.includes(\"/lab\")) {\n",
       "        // Guessing JupyterLa\n",
       "        console.log(\"Jupyter Lab detected; make sure the @webio/jupyter-lab-provider labextension is installed.\");\n",
       "        hide();\n",
       "        return;\n",
       "    }\n",
       "})();\n",
       "\n",
       "</script>\n",
       "<p\n",
       "    id=\"webio-warning-4522156033374641797\"\n",
       "    class=\"output_text output_stderr\"\n",
       "    style=\"padding: 1em; font-weight: bold;\"\n",
       ">\n",
       "    Unable to load WebIO. Please make sure WebIO works for your Jupyter client.\n",
       "    For troubleshooting, please see <a href=\"https://juliagizmos.github.io/WebIO.jl/latest/providers/ijulia/\">\n",
       "    the WebIO/IJulia documentation</a>.\n",
       "    <!-- TODO: link to installation docs. -->\n",
       "</p>\n"
      ],
      "text/plain": [
       "HTML{String}(\"<script>\\n// Immediately-invoked-function-expression to avoid global variables.\\n(function() {\\n    var warning_div = document.getElementById(\\\"webio-warning-4522156033374641797\\\");\\n    var hide = function () {\\n        var script = document.getElementById(\\\"webio-setup-10105547249244088998\\\");\\n        var parent = script && script.parentElement;\\n        var grandparent = parent && parent.parentElement;\\n        if (grandparent) {\\n            grandparent.style.display = \\\"none\\\";\\n        }\\n        warning_div.style.display = \\\"none\\\";\\n    };\\n    if (typeof Jupyter !== \\\"undefined\\\") {\\n        console.log(\\\"WebIO detected Jupyter notebook environment.\\\");\\n        // Jupyter notebook.\\n        var extensions = (\\n            Jupyter\\n            && Jupyter.notebook.config.data\\n            && Jupyter.notebook.config.data.load_extensions\\n        );\\n        if (extensions && extensions[\\\"webio-jupyter-notebook\\\"]) {\\n            // Extension already loaded.\\n            console.log(\\\"Jupyter WebIO nbextension detected; not loading ad-hoc.\\\");\\n            hide();\\n            return;\\n        }\\n    } else if (window.location.pathname.includes(\\\"/lab\\\")) {\\n        // Guessing JupyterLa\\n        console.log(\\\"Jupyter Lab detected; make sure the @webio/jupyter-lab-provider labextension is installed.\\\");\\n        hide();\\n        return;\\n    }\\n})();\\n\\n</script>\\n<p\\n    id=\\\"webio-warning-4522156033374641797\\\"\\n    class=\\\"output_text output_stderr\\\"\\n    style=\\\"padding: 1em; font-weight: bold;\\\"\\n>\\n    Unable to load WebIO. Please make sure WebIO works for your Jupyter client.\\n    For troubleshooting, please see <a href=\\\"https://juliagizmos.github.io/WebIO.jl/latest/providers/ijulia/\\\">\\n    the WebIO/IJulia documentation</a>.\\n    <!-- TODO: link to installation docs. -->\\n</p>\\n\")"
      ]
     },
     "metadata": {},
     "output_type": "display_data"
    },
    {
     "data": {
      "text/plain": [
       "Plots.PlotlyJSBackend()"
      ]
     },
     "execution_count": 11,
     "metadata": {},
     "output_type": "execute_result"
    }
   ],
   "source": [
    "plotlyjs()"
   ]
  },
  {
   "cell_type": "code",
   "execution_count": 25,
   "metadata": {
    "Collapsed": "false"
   },
   "outputs": [
    {
     "data": {
      "application/vnd.plotly.v1+json": {
       "data": [
        {
         "colorbar": {
          "title": {
           "text": ""
          }
         },
         "hoverinfo": "text",
         "legendgroup": "32b_basic",
         "marker": {
          "color": "rgba(0, 154, 250, 1.000)",
          "line": {
           "color": "rgba(0, 0, 0, 1)",
           "width": 1
          },
          "size": 8,
          "symbol": "circle"
         },
         "mode": "markers",
         "name": "32b_basic",
         "showlegend": true,
         "text": [
          null
         ],
         "type": "scatter",
         "x": [
          541
         ],
         "xaxis": "x",
         "y": [
          476.56
         ],
         "yaxis": "y",
         "zmax": 0.1,
         "zmin": -0.1
        },
        {
         "colorbar": {
          "title": {
           "text": ""
          }
         },
         "hoverinfo": "text",
         "legendgroup": "32b_fission",
         "marker": {
          "color": "rgba(227, 111, 71, 1.000)",
          "line": {
           "color": "rgba(0, 0, 0, 1)",
           "width": 1
          },
          "size": 8,
          "symbol": "circle"
         },
         "mode": "markers",
         "name": "32b_fission",
         "showlegend": true,
         "text": [
          null
         ],
         "type": "scatter",
         "x": [
          902
         ],
         "xaxis": "x",
         "y": [
          553.15
         ],
         "yaxis": "y",
         "zmax": 0.1,
         "zmin": -0.1
        },
        {
         "colorbar": {
          "title": {
           "text": ""
          }
         },
         "hoverinfo": "text",
         "legendgroup": "32b_unroll_2",
         "marker": {
          "color": "rgba(62, 164, 78, 1.000)",
          "line": {
           "color": "rgba(0, 0, 0, 1)",
           "width": 1
          },
          "size": 8,
          "symbol": "circle"
         },
         "mode": "markers",
         "name": "32b_unroll_2",
         "showlegend": true,
         "text": [
          null
         ],
         "type": "scatter",
         "x": [
          1953
         ],
         "xaxis": "x",
         "y": [
          382.95
         ],
         "yaxis": "y",
         "zmax": 0.1,
         "zmin": -0.1
        },
        {
         "colorbar": {
          "title": {
           "text": ""
          }
         },
         "hoverinfo": "text",
         "legendgroup": "32b_unroll_all",
         "marker": {
          "color": "rgba(195, 113, 210, 1.000)",
          "line": {
           "color": "rgba(0, 0, 0, 1)",
           "width": 1
          },
          "size": 8,
          "symbol": "circle"
         },
         "mode": "markers",
         "name": "32b_unroll_all",
         "showlegend": true,
         "text": [
          null
         ],
         "type": "scatter",
         "x": [
          4238
         ],
         "xaxis": "x",
         "y": [
          78.67800000000001
         ],
         "yaxis": "y",
         "zmax": 0.1,
         "zmin": -0.1
        },
        {
         "colorbar": {
          "title": {
           "text": ""
          }
         },
         "hoverinfo": "text",
         "legendgroup": "basic",
         "marker": {
          "color": "rgba(172, 142, 24, 1.000)",
          "line": {
           "color": "rgba(0, 0, 0, 1)",
           "width": 1
          },
          "size": 8,
          "symbol": "circle"
         },
         "mode": "markers",
         "name": "basic",
         "showlegend": true,
         "text": [
          null
         ],
         "type": "scatter",
         "x": [
          234
         ],
         "xaxis": "x",
         "y": [
          295.868
         ],
         "yaxis": "y",
         "zmax": 0.1,
         "zmin": -0.1
        },
        {
         "colorbar": {
          "title": {
           "text": ""
          }
         },
         "hoverinfo": "text",
         "legendgroup": "basic_1pbram",
         "marker": {
          "color": "rgba(0, 170, 174, 1.000)",
          "line": {
           "color": "rgba(0, 0, 0, 1)",
           "width": 1
          },
          "size": 8,
          "symbol": "circle"
         },
         "mode": "markers",
         "name": "basic_1pbram",
         "showlegend": true,
         "text": [
          null
         ],
         "type": "scatter",
         "x": [
          541
         ],
         "xaxis": "x",
         "y": [
          349.02
         ],
         "yaxis": "y",
         "zmax": 0.1,
         "zmin": -0.1
        },
        {
         "colorbar": {
          "title": {
           "text": ""
          }
         },
         "hoverinfo": "text",
         "legendgroup": "fission",
         "marker": {
          "color": "rgba(237, 94, 147, 1.000)",
          "line": {
           "color": "rgba(0, 0, 0, 1)",
           "width": 1
          },
          "size": 8,
          "symbol": "circle"
         },
         "mode": "markers",
         "name": "fission",
         "showlegend": true,
         "text": [
          null
         ],
         "type": "scatter",
         "x": [
          369
         ],
         "xaxis": "x",
         "y": [
          374.186
         ],
         "yaxis": "y",
         "zmax": 0.1,
         "zmin": -0.1
        },
        {
         "colorbar": {
          "title": {
           "text": ""
          }
         },
         "hoverinfo": "text",
         "legendgroup": "remove_if",
         "marker": {
          "color": "rgba(198, 130, 37, 1.000)",
          "line": {
           "color": "rgba(0, 0, 0, 1)",
           "width": 1
          },
          "size": 8,
          "symbol": "circle"
         },
         "mode": "markers",
         "name": "remove_if",
         "showlegend": true,
         "text": [
          null
         ],
         "type": "scatter",
         "x": [
          321
         ],
         "xaxis": "x",
         "y": [
          191.444
         ],
         "yaxis": "y",
         "zmax": 0.1,
         "zmin": -0.1
        },
        {
         "colorbar": {
          "title": {
           "text": ""
          }
         },
         "hoverinfo": "text",
         "legendgroup": "unroll_2",
         "marker": {
          "color": "rgba(0, 169, 141, 1.000)",
          "line": {
           "color": "rgba(0, 0, 0, 1)",
           "width": 1
          },
          "size": 8,
          "symbol": "circle"
         },
         "mode": "markers",
         "name": "unroll_2",
         "showlegend": true,
         "text": [
          null
         ],
         "type": "scatter",
         "x": [
          1487
         ],
         "xaxis": "x",
         "y": [
          327.18
         ],
         "yaxis": "y",
         "zmax": 0.1,
         "zmin": -0.1
        },
        {
         "colorbar": {
          "title": {
           "text": ""
          }
         },
         "hoverinfo": "text",
         "legendgroup": "unroll_all",
         "marker": {
          "color": "rgba(142, 151, 30, 1.000)",
          "line": {
           "color": "rgba(0, 0, 0, 1)",
           "width": 1
          },
          "size": 8,
          "symbol": "circle"
         },
         "mode": "markers",
         "name": "unroll_all",
         "showlegend": true,
         "text": [
          null
         ],
         "type": "scatter",
         "x": [
          1473
         ],
         "xaxis": "x",
         "y": [
          75.2
         ],
         "yaxis": "y",
         "zmax": 0.1,
         "zmin": -0.1
        },
        {
         "colorbar": {
          "title": {
           "text": ""
          }
         },
         "hoverinfo": "text",
         "legendgroup": "unroll_all_1pbram",
         "marker": {
          "color": "rgba(0, 169, 204, 1.000)",
          "line": {
           "color": "rgba(0, 0, 0, 1)",
           "width": 1
          },
          "size": 8,
          "symbol": "circle"
         },
         "mode": "markers",
         "name": "unroll_all_1pbram",
         "showlegend": true,
         "text": [
          null
         ],
         "type": "scatter",
         "x": [
          1529
         ],
         "xaxis": "x",
         "y": [
          319.6
         ],
         "yaxis": "y",
         "zmax": 0.1,
         "zmin": -0.1
        },
        {
         "colorbar": {
          "title": {
           "text": ""
          }
         },
         "hoverinfo": "text",
         "legendgroup": "unroll_all_2pbram",
         "marker": {
          "color": "rgba(155, 127, 233, 1.000)",
          "line": {
           "color": "rgba(0, 0, 0, 1)",
           "width": 1
          },
          "size": 8,
          "symbol": "circle"
         },
         "mode": "markers",
         "name": "unroll_all_2pbram",
         "showlegend": true,
         "text": [
          null
         ],
         "type": "scatter",
         "x": [
          1521
         ],
         "xaxis": "x",
         "y": [
          272.6
         ],
         "yaxis": "y",
         "zmax": 0.1,
         "zmin": -0.1
        }
       ],
       "layout": {
        "annotations": [],
        "height": 400,
        "legend": {
         "bgcolor": "rgba(255, 255, 255, 1.000)",
         "bordercolor": "rgba(0, 0, 0, 1)",
         "font": {
          "color": "rgba(0, 0, 0, 1)",
          "family": "sans-serif",
          "size": 11
         },
         "tracegroupgap": 0,
         "x": 1,
         "y": 1
        },
        "margin": {
         "b": 20,
         "l": 0,
         "r": 0,
         "t": 20
        },
        "paper_bgcolor": "rgba(255, 255, 255, 1.000)",
        "plot_bgcolor": "rgba(255, 255, 255, 1.000)",
        "showlegend": true,
        "width": 600,
        "xaxis": {
         "anchor": "y",
         "domain": [
          0.07646908719743364,
          0.9934383202099737
         ],
         "gridcolor": "rgba(0, 0, 0, 0.1)",
         "gridwidth": 0.5,
         "linecolor": "rgba(0, 0, 0, 1)",
         "mirror": false,
         "range": [
          113.88000000000001,
          4358.12
         ],
         "showgrid": true,
         "showline": true,
         "showticklabels": true,
         "tickangle": 0,
         "tickcolor": "rgb(0, 0, 0)",
         "tickfont": {
          "color": "rgba(0, 0, 0, 1)",
          "family": "sans-serif",
          "size": 11
         },
         "tickmode": "array",
         "ticks": "inside",
         "ticktext": [
          "1000",
          "2000",
          "3000",
          "4000"
         ],
         "tickvals": [
          1000,
          2000,
          3000,
          4000
         ],
         "title": {
          "font": {
           "color": "rgba(0, 0, 0, 1)",
           "family": "sans-serif",
           "size": 15
          },
          "text": "Estimated Area"
         },
         "type": "linear",
         "visible": true,
         "zeroline": false,
         "zerolinecolor": "rgba(0, 0, 0, 1)"
        },
        "yaxis": {
         "anchor": "x",
         "domain": [
          0.07581474190726165,
          0.9901574803149606
         ],
         "gridcolor": "rgba(0, 0, 0, 0.1)",
         "gridwidth": 0.5,
         "linecolor": "rgba(0, 0, 0, 1)",
         "mirror": false,
         "range": [
          60.86150000000001,
          567.4884999999999
         ],
         "showgrid": true,
         "showline": true,
         "showticklabels": true,
         "tickangle": 0,
         "tickcolor": "rgb(0, 0, 0)",
         "tickfont": {
          "color": "rgba(0, 0, 0, 1)",
          "family": "sans-serif",
          "size": 11
         },
         "tickmode": "array",
         "ticks": "inside",
         "ticktext": [
          "100",
          "200",
          "300",
          "400",
          "500"
         ],
         "tickvals": [
          100,
          200,
          300,
          400,
          500
         ],
         "title": {
          "font": {
           "color": "rgba(0, 0, 0, 1)",
           "family": "sans-serif",
           "size": 15
          },
          "text": "Latency (ns)"
         },
         "type": "linear",
         "visible": true,
         "zeroline": false,
         "zerolinecolor": "rgba(0, 0, 0, 1)"
        }
       }
      },
      "image/png": "[encoded data removed]",
      "text/html": [
       "<!DOCTYPE html>\n",
       "<html>\n",
       "    <head>\n",
       "        <title>Plots.jl</title>\n",
       "        <meta http-equiv=\"content-type\" content=\"text/html; charset=UTF-8\">\n",
       "        <script src=\"https://cdn.plot.ly/plotly-latest.min.js\"></script>\n",
       "    </head>\n",
       "    <body>\n",
       "            <div id=\"026a770d-517e-4081-906e-f3c71ebbaece\" style=\"width:600px;height:400px;\"></div>\n",
       "    <script>\n",
       "    PLOT = document.getElementById('026a770d-517e-4081-906e-f3c71ebbaece');\n",
       "    Plotly.plot(PLOT, [\n",
       "    {\n",
       "        \"xaxis\": \"x1\",\n",
       "        \"colorbar\": {\n",
       "            \"title\": \"\"\n",
       "        },\n",
       "        \"yaxis\": \"y1\",\n",
       "        \"text\": [\n",
       "            null\n",
       "        ],\n",
       "        \"x\": [\n",
       "            541.0\n",
       "        ],\n",
       "        \"showlegend\": true,\n",
       "        \"mode\": \"markers\",\n",
       "        \"name\": \"32b_basic\",\n",
       "        \"zmin\": -0.1,\n",
       "        \"legendgroup\": \"32b_basic\",\n",
       "        \"marker\": {\n",
       "            \"symbol\": \"circle\",\n",
       "            \"color\": \"rgba(0, 154, 250, 1.000)\",\n",
       "            \"line\": {\n",
       "                \"color\": \"rgba(0, 0, 0, 1.000)\",\n",
       "                \"width\": 1\n",
       "            },\n",
       "            \"size\": 8\n",
       "        },\n",
       "        \"zmax\": 0.1,\n",
       "        \"y\": [\n",
       "            476.56\n",
       "        ],\n",
       "        \"type\": \"scatter\",\n",
       "        \"hoverinfo\": \"text\"\n",
       "    },\n",
       "    {\n",
       "        \"xaxis\": \"x1\",\n",
       "        \"colorbar\": {\n",
       "            \"title\": \"\"\n",
       "        },\n",
       "        \"yaxis\": \"y1\",\n",
       "        \"text\": [\n",
       "            null\n",
       "        ],\n",
       "        \"x\": [\n",
       "            902.0\n",
       "        ],\n",
       "        \"showlegend\": true,\n",
       "        \"mode\": \"markers\",\n",
       "        \"name\": \"32b_fission\",\n",
       "        \"zmin\": -0.1,\n",
       "        \"legendgroup\": \"32b_fission\",\n",
       "        \"marker\": {\n",
       "            \"symbol\": \"circle\",\n",
       "            \"color\": \"rgba(227, 111, 71, 1.000)\",\n",
       "            \"line\": {\n",
       "                \"color\": \"rgba(0, 0, 0, 1.000)\",\n",
       "                \"width\": 1\n",
       "            },\n",
       "            \"size\": 8\n",
       "        },\n",
       "        \"zmax\": 0.1,\n",
       "        \"y\": [\n",
       "            553.15\n",
       "        ],\n",
       "        \"type\": \"scatter\",\n",
       "        \"hoverinfo\": \"text\"\n",
       "    },\n",
       "    {\n",
       "        \"xaxis\": \"x1\",\n",
       "        \"colorbar\": {\n",
       "            \"title\": \"\"\n",
       "        },\n",
       "        \"yaxis\": \"y1\",\n",
       "        \"text\": [\n",
       "            null\n",
       "        ],\n",
       "        \"x\": [\n",
       "            1953.0\n",
       "        ],\n",
       "        \"showlegend\": true,\n",
       "        \"mode\": \"markers\",\n",
       "        \"name\": \"32b_unroll_2\",\n",
       "        \"zmin\": -0.1,\n",
       "        \"legendgroup\": \"32b_unroll_2\",\n",
       "        \"marker\": {\n",
       "            \"symbol\": \"circle\",\n",
       "            \"color\": \"rgba(62, 164, 78, 1.000)\",\n",
       "            \"line\": {\n",
       "                \"color\": \"rgba(0, 0, 0, 1.000)\",\n",
       "                \"width\": 1\n",
       "            },\n",
       "            \"size\": 8\n",
       "        },\n",
       "        \"zmax\": 0.1,\n",
       "        \"y\": [\n",
       "            382.95\n",
       "        ],\n",
       "        \"type\": \"scatter\",\n",
       "        \"hoverinfo\": \"text\"\n",
       "    },\n",
       "    {\n",
       "        \"xaxis\": \"x1\",\n",
       "        \"colorbar\": {\n",
       "            \"title\": \"\"\n",
       "        },\n",
       "        \"yaxis\": \"y1\",\n",
       "        \"text\": [\n",
       "            null\n",
       "        ],\n",
       "        \"x\": [\n",
       "            4238.0\n",
       "        ],\n",
       "        \"showlegend\": true,\n",
       "        \"mode\": \"markers\",\n",
       "        \"name\": \"32b_unroll_all\",\n",
       "        \"zmin\": -0.1,\n",
       "        \"legendgroup\": \"32b_unroll_all\",\n",
       "        \"marker\": {\n",
       "            \"symbol\": \"circle\",\n",
       "            \"color\": \"rgba(195, 113, 210, 1.000)\",\n",
       "            \"line\": {\n",
       "                \"color\": \"rgba(0, 0, 0, 1.000)\",\n",
       "                \"width\": 1\n",
       "            },\n",
       "            \"size\": 8\n",
       "        },\n",
       "        \"zmax\": 0.1,\n",
       "        \"y\": [\n",
       "            78.67800000000001\n",
       "        ],\n",
       "        \"type\": \"scatter\",\n",
       "        \"hoverinfo\": \"text\"\n",
       "    },\n",
       "    {\n",
       "        \"xaxis\": \"x1\",\n",
       "        \"colorbar\": {\n",
       "            \"title\": \"\"\n",
       "        },\n",
       "        \"yaxis\": \"y1\",\n",
       "        \"text\": [\n",
       "            null\n",
       "        ],\n",
       "        \"x\": [\n",
       "            234.0\n",
       "        ],\n",
       "        \"showlegend\": true,\n",
       "        \"mode\": \"markers\",\n",
       "        \"name\": \"basic\",\n",
       "        \"zmin\": -0.1,\n",
       "        \"legendgroup\": \"basic\",\n",
       "        \"marker\": {\n",
       "            \"symbol\": \"circle\",\n",
       "            \"color\": \"rgba(172, 142, 24, 1.000)\",\n",
       "            \"line\": {\n",
       "                \"color\": \"rgba(0, 0, 0, 1.000)\",\n",
       "                \"width\": 1\n",
       "            },\n",
       "            \"size\": 8\n",
       "        },\n",
       "        \"zmax\": 0.1,\n",
       "        \"y\": [\n",
       "            295.868\n",
       "        ],\n",
       "        \"type\": \"scatter\",\n",
       "        \"hoverinfo\": \"text\"\n",
       "    },\n",
       "    {\n",
       "        \"xaxis\": \"x1\",\n",
       "        \"colorbar\": {\n",
       "            \"title\": \"\"\n",
       "        },\n",
       "        \"yaxis\": \"y1\",\n",
       "        \"text\": [\n",
       "            null\n",
       "        ],\n",
       "        \"x\": [\n",
       "            541.0\n",
       "        ],\n",
       "        \"showlegend\": true,\n",
       "        \"mode\": \"markers\",\n",
       "        \"name\": \"basic_1pbram\",\n",
       "        \"zmin\": -0.1,\n",
       "        \"legendgroup\": \"basic_1pbram\",\n",
       "        \"marker\": {\n",
       "            \"symbol\": \"circle\",\n",
       "            \"color\": \"rgba(0, 170, 174, 1.000)\",\n",
       "            \"line\": {\n",
       "                \"color\": \"rgba(0, 0, 0, 1.000)\",\n",
       "                \"width\": 1\n",
       "            },\n",
       "            \"size\": 8\n",
       "        },\n",
       "        \"zmax\": 0.1,\n",
       "        \"y\": [\n",
       "            349.02\n",
       "        ],\n",
       "        \"type\": \"scatter\",\n",
       "        \"hoverinfo\": \"text\"\n",
       "    },\n",
       "    {\n",
       "        \"xaxis\": \"x1\",\n",
       "        \"colorbar\": {\n",
       "            \"title\": \"\"\n",
       "        },\n",
       "        \"yaxis\": \"y1\",\n",
       "        \"text\": [\n",
       "            null\n",
       "        ],\n",
       "        \"x\": [\n",
       "            369.0\n",
       "        ],\n",
       "        \"showlegend\": true,\n",
       "        \"mode\": \"markers\",\n",
       "        \"name\": \"fission\",\n",
       "        \"zmin\": -0.1,\n",
       "        \"legendgroup\": \"fission\",\n",
       "        \"marker\": {\n",
       "            \"symbol\": \"circle\",\n",
       "            \"color\": \"rgba(237, 94, 147, 1.000)\",\n",
       "            \"line\": {\n",
       "                \"color\": \"rgba(0, 0, 0, 1.000)\",\n",
       "                \"width\": 1\n",
       "            },\n",
       "            \"size\": 8\n",
       "        },\n",
       "        \"zmax\": 0.1,\n",
       "        \"y\": [\n",
       "            374.186\n",
       "        ],\n",
       "        \"type\": \"scatter\",\n",
       "        \"hoverinfo\": \"text\"\n",
       "    },\n",
       "    {\n",
       "        \"xaxis\": \"x1\",\n",
       "        \"colorbar\": {\n",
       "            \"title\": \"\"\n",
       "        },\n",
       "        \"yaxis\": \"y1\",\n",
       "        \"text\": [\n",
       "            null\n",
       "        ],\n",
       "        \"x\": [\n",
       "            321.0\n",
       "        ],\n",
       "        \"showlegend\": true,\n",
       "        \"mode\": \"markers\",\n",
       "        \"name\": \"remove_if\",\n",
       "        \"zmin\": -0.1,\n",
       "        \"legendgroup\": \"remove_if\",\n",
       "        \"marker\": {\n",
       "            \"symbol\": \"circle\",\n",
       "            \"color\": \"rgba(198, 130, 37, 1.000)\",\n",
       "            \"line\": {\n",
       "                \"color\": \"rgba(0, 0, 0, 1.000)\",\n",
       "                \"width\": 1\n",
       "            },\n",
       "            \"size\": 8\n",
       "        },\n",
       "        \"zmax\": 0.1,\n",
       "        \"y\": [\n",
       "            191.444\n",
       "        ],\n",
       "        \"type\": \"scatter\",\n",
       "        \"hoverinfo\": \"text\"\n",
       "    },\n",
       "    {\n",
       "        \"xaxis\": \"x1\",\n",
       "        \"colorbar\": {\n",
       "            \"title\": \"\"\n",
       "        },\n",
       "        \"yaxis\": \"y1\",\n",
       "        \"text\": [\n",
       "            null\n",
       "        ],\n",
       "        \"x\": [\n",
       "            1487.0\n",
       "        ],\n",
       "        \"showlegend\": true,\n",
       "        \"mode\": \"markers\",\n",
       "        \"name\": \"unroll_2\",\n",
       "        \"zmin\": -0.1,\n",
       "        \"legendgroup\": \"unroll_2\",\n",
       "        \"marker\": {\n",
       "            \"symbol\": \"circle\",\n",
       "            \"color\": \"rgba(0, 169, 141, 1.000)\",\n",
       "            \"line\": {\n",
       "                \"color\": \"rgba(0, 0, 0, 1.000)\",\n",
       "                \"width\": 1\n",
       "            },\n",
       "            \"size\": 8\n",
       "        },\n",
       "        \"zmax\": 0.1,\n",
       "        \"y\": [\n",
       "            327.18\n",
       "        ],\n",
       "        \"type\": \"scatter\",\n",
       "        \"hoverinfo\": \"text\"\n",
       "    },\n",
       "    {\n",
       "        \"xaxis\": \"x1\",\n",
       "        \"colorbar\": {\n",
       "            \"title\": \"\"\n",
       "        },\n",
       "        \"yaxis\": \"y1\",\n",
       "        \"text\": [\n",
       "            null\n",
       "        ],\n",
       "        \"x\": [\n",
       "            1473.0\n",
       "        ],\n",
       "        \"showlegend\": true,\n",
       "        \"mode\": \"markers\",\n",
       "        \"name\": \"unroll_all\",\n",
       "        \"zmin\": -0.1,\n",
       "        \"legendgroup\": \"unroll_all\",\n",
       "        \"marker\": {\n",
       "            \"symbol\": \"circle\",\n",
       "            \"color\": \"rgba(142, 151, 30, 1.000)\",\n",
       "            \"line\": {\n",
       "                \"color\": \"rgba(0, 0, 0, 1.000)\",\n",
       "                \"width\": 1\n",
       "            },\n",
       "            \"size\": 8\n",
       "        },\n",
       "        \"zmax\": 0.1,\n",
       "        \"y\": [\n",
       "            75.2\n",
       "        ],\n",
       "        \"type\": \"scatter\",\n",
       "        \"hoverinfo\": \"text\"\n",
       "    },\n",
       "    {\n",
       "        \"xaxis\": \"x1\",\n",
       "        \"colorbar\": {\n",
       "            \"title\": \"\"\n",
       "        },\n",
       "        \"yaxis\": \"y1\",\n",
       "        \"text\": [\n",
       "            null\n",
       "        ],\n",
       "        \"x\": [\n",
       "            1529.0\n",
       "        ],\n",
       "        \"showlegend\": true,\n",
       "        \"mode\": \"markers\",\n",
       "        \"name\": \"unroll_all_1pbram\",\n",
       "        \"zmin\": -0.1,\n",
       "        \"legendgroup\": \"unroll_all_1pbram\",\n",
       "        \"marker\": {\n",
       "            \"symbol\": \"circle\",\n",
       "            \"color\": \"rgba(0, 169, 204, 1.000)\",\n",
       "            \"line\": {\n",
       "                \"color\": \"rgba(0, 0, 0, 1.000)\",\n",
       "                \"width\": 1\n",
       "            },\n",
       "            \"size\": 8\n",
       "        },\n",
       "        \"zmax\": 0.1,\n",
       "        \"y\": [\n",
       "            319.6\n",
       "        ],\n",
       "        \"type\": \"scatter\",\n",
       "        \"hoverinfo\": \"text\"\n",
       "    },\n",
       "    {\n",
       "        \"xaxis\": \"x1\",\n",
       "        \"colorbar\": {\n",
       "            \"title\": \"\"\n",
       "        },\n",
       "        \"yaxis\": \"y1\",\n",
       "        \"text\": [\n",
       "            null\n",
       "        ],\n",
       "        \"x\": [\n",
       "            1521.0\n",
       "        ],\n",
       "        \"showlegend\": true,\n",
       "        \"mode\": \"markers\",\n",
       "        \"name\": \"unroll_all_2pbram\",\n",
       "        \"zmin\": -0.1,\n",
       "        \"legendgroup\": \"unroll_all_2pbram\",\n",
       "        \"marker\": {\n",
       "            \"symbol\": \"circle\",\n",
       "            \"color\": \"rgba(155, 127, 233, 1.000)\",\n",
       "            \"line\": {\n",
       "                \"color\": \"rgba(0, 0, 0, 1.000)\",\n",
       "                \"width\": 1\n",
       "            },\n",
       "            \"size\": 8\n",
       "        },\n",
       "        \"zmax\": 0.1,\n",
       "        \"y\": [\n",
       "            272.6\n",
       "        ],\n",
       "        \"type\": \"scatter\",\n",
       "        \"hoverinfo\": \"text\"\n",
       "    }\n",
       "]\n",
       ", {\n",
       "    \"showlegend\": true,\n",
       "    \"xaxis\": {\n",
       "        \"showticklabels\": true,\n",
       "        \"gridwidth\": 0.5,\n",
       "        \"tickvals\": [\n",
       "            1000.0,\n",
       "            2000.0,\n",
       "            3000.0,\n",
       "            4000.0\n",
       "        ],\n",
       "        \"visible\": true,\n",
       "        \"ticks\": \"inside\",\n",
       "        \"range\": [\n",
       "            113.88000000000001,\n",
       "            4358.12\n",
       "        ],\n",
       "        \"domain\": [\n",
       "            0.07646908719743364,\n",
       "            0.9934383202099737\n",
       "        ],\n",
       "        \"tickmode\": \"array\",\n",
       "        \"linecolor\": \"rgba(0, 0, 0, 1.000)\",\n",
       "        \"showgrid\": true,\n",
       "        \"title\": \"Estimated Area\",\n",
       "        \"mirror\": false,\n",
       "        \"tickangle\": 0,\n",
       "        \"showline\": true,\n",
       "        \"gridcolor\": \"rgba(0, 0, 0, 0.100)\",\n",
       "        \"titlefont\": {\n",
       "            \"color\": \"rgba(0, 0, 0, 1.000)\",\n",
       "            \"family\": \"sans-serif\",\n",
       "            \"size\": 15\n",
       "        },\n",
       "        \"tickcolor\": \"rgb(0, 0, 0)\",\n",
       "        \"ticktext\": [\n",
       "            \"1000\",\n",
       "            \"2000\",\n",
       "            \"3000\",\n",
       "            \"4000\"\n",
       "        ],\n",
       "        \"zeroline\": false,\n",
       "        \"type\": \"-\",\n",
       "        \"tickfont\": {\n",
       "            \"color\": \"rgba(0, 0, 0, 1.000)\",\n",
       "            \"family\": \"sans-serif\",\n",
       "            \"size\": 11\n",
       "        },\n",
       "        \"zerolinecolor\": \"rgba(0, 0, 0, 1.000)\",\n",
       "        \"anchor\": \"y1\"\n",
       "    },\n",
       "    \"paper_bgcolor\": \"rgba(255, 255, 255, 1.000)\",\n",
       "    \"annotations\": [],\n",
       "    \"height\": 400,\n",
       "    \"margin\": {\n",
       "        \"l\": 0,\n",
       "        \"b\": 20,\n",
       "        \"r\": 0,\n",
       "        \"t\": 20\n",
       "    },\n",
       "    \"plot_bgcolor\": \"rgba(255, 255, 255, 1.000)\",\n",
       "    \"yaxis\": {\n",
       "        \"showticklabels\": true,\n",
       "        \"gridwidth\": 0.5,\n",
       "        \"tickvals\": [\n",
       "            100.0,\n",
       "            200.0,\n",
       "            300.0,\n",
       "            400.0,\n",
       "            500.0\n",
       "        ],\n",
       "        \"visible\": true,\n",
       "        \"ticks\": \"inside\",\n",
       "        \"range\": [\n",
       "            60.86150000000001,\n",
       "            567.4884999999999\n",
       "        ],\n",
       "        \"domain\": [\n",
       "            0.07581474190726165,\n",
       "            0.9901574803149606\n",
       "        ],\n",
       "        \"tickmode\": \"array\",\n",
       "        \"linecolor\": \"rgba(0, 0, 0, 1.000)\",\n",
       "        \"showgrid\": true,\n",
       "        \"title\": \"Latency (ns)\",\n",
       "        \"mirror\": false,\n",
       "        \"tickangle\": 0,\n",
       "        \"showline\": true,\n",
       "        \"gridcolor\": \"rgba(0, 0, 0, 0.100)\",\n",
       "        \"titlefont\": {\n",
       "            \"color\": \"rgba(0, 0, 0, 1.000)\",\n",
       "            \"family\": \"sans-serif\",\n",
       "            \"size\": 15\n",
       "        },\n",
       "        \"tickcolor\": \"rgb(0, 0, 0)\",\n",
       "        \"ticktext\": [\n",
       "            \"100\",\n",
       "            \"200\",\n",
       "            \"300\",\n",
       "            \"400\",\n",
       "            \"500\"\n",
       "        ],\n",
       "        \"zeroline\": false,\n",
       "        \"type\": \"-\",\n",
       "        \"tickfont\": {\n",
       "            \"color\": \"rgba(0, 0, 0, 1.000)\",\n",
       "            \"family\": \"sans-serif\",\n",
       "            \"size\": 11\n",
       "        },\n",
       "        \"zerolinecolor\": \"rgba(0, 0, 0, 1.000)\",\n",
       "        \"anchor\": \"x1\"\n",
       "    },\n",
       "    \"legend\": {\n",
       "        \"tracegroupgap\": 0,\n",
       "        \"bordercolor\": \"rgba(0, 0, 0, 1.000)\",\n",
       "        \"bgcolor\": \"rgba(255, 255, 255, 1.000)\",\n",
       "        \"font\": {\n",
       "            \"color\": \"rgba(0, 0, 0, 1.000)\",\n",
       "            \"family\": \"sans-serif\",\n",
       "            \"size\": 11\n",
       "        },\n",
       "        \"y\": 1.0,\n",
       "        \"x\": 1.0\n",
       "    },\n",
       "    \"width\": 600\n",
       "}\n",
       ");\n",
       "    </script>\n",
       "\n",
       "    </body>\n",
       "</html>\n"
      ]
     },
     "execution_count": 25,
     "metadata": {},
     "output_type": "execute_result"
    }
   ],
   "source": [
    "p1 = @df res scatter(:Area_Estimate, :MAX_LATENCY_NS, \n",
    "    group=:Design,\n",
    "    xlabel=\"Estimated Area\",\n",
    "    ylabel=\"Latency (ns)\"\n",
    "    )"
   ]
  },
  {
   "cell_type": "code",
   "execution_count": 18,
   "metadata": {
    "Collapsed": "false"
   },
   "outputs": [
    {
     "data": {
      "text/plain": [
       "get_pareto (generic function with 1 method)"
      ]
     },
     "execution_count": 18,
     "metadata": {},
     "output_type": "execute_result"
    }
   ],
   "source": [
    "function get_pareto(xs, ys)\n",
    "    besty = maximum(ys)\n",
    "    bxs, bys = [], []\n",
    "    for i in 1:length(xs)\n",
    "        if ys[i] < besty\n",
    "            # println(\"$(ys[i]) < $(besty)\")\n",
    "            besty = ys[i]\n",
    "        end\n",
    "        push!(bxs, xs[i])\n",
    "        push!(bys, besty)\n",
    "    end\n",
    "    return bxs, bys\n",
    "end"
   ]
  },
  {
   "cell_type": "code",
   "execution_count": 19,
   "metadata": {
    "Collapsed": "false"
   },
   "outputs": [],
   "source": [
    "cols = sort(res, :Area_Estimate, rev=false)[:, [:Area_Estimate, :MAX_LATENCY_NS]];\n",
    "xs, ys = get_pareto(cols[:,1], cols[:,2]);"
   ]
  },
  {
   "cell_type": "code",
   "execution_count": 26,
   "metadata": {
    "Collapsed": "false"
   },
   "outputs": [
    {
     "data": {
      "application/vnd.plotly.v1+json": {
       "data": [
        {
         "colorbar": {
          "title": {
           "text": ""
          }
         },
         "hoverinfo": "text",
         "legendgroup": "32b_basic",
         "marker": {
          "color": "rgba(0, 154, 250, 1.000)",
          "line": {
           "color": "rgba(0, 0, 0, 1)",
           "width": 1
          },
          "size": 8,
          "symbol": "circle"
         },
         "mode": "markers",
         "name": "32b_basic",
         "showlegend": true,
         "text": [
          null
         ],
         "type": "scatter",
         "x": [
          541
         ],
         "xaxis": "x",
         "y": [
          476.56
         ],
         "yaxis": "y",
         "zmax": 0.1,
         "zmin": -0.1
        },
        {
         "colorbar": {
          "title": {
           "text": ""
          }
         },
         "hoverinfo": "text",
         "legendgroup": "32b_fission",
         "marker": {
          "color": "rgba(227, 111, 71, 1.000)",
          "line": {
           "color": "rgba(0, 0, 0, 1)",
           "width": 1
          },
          "size": 8,
          "symbol": "circle"
         },
         "mode": "markers",
         "name": "32b_fission",
         "showlegend": true,
         "text": [
          null
         ],
         "type": "scatter",
         "x": [
          902
         ],
         "xaxis": "x",
         "y": [
          553.15
         ],
         "yaxis": "y",
         "zmax": 0.1,
         "zmin": -0.1
        },
        {
         "colorbar": {
          "title": {
           "text": ""
          }
         },
         "hoverinfo": "text",
         "legendgroup": "32b_unroll_2",
         "marker": {
          "color": "rgba(62, 164, 78, 1.000)",
          "line": {
           "color": "rgba(0, 0, 0, 1)",
           "width": 1
          },
          "size": 8,
          "symbol": "circle"
         },
         "mode": "markers",
         "name": "32b_unroll_2",
         "showlegend": true,
         "text": [
          null
         ],
         "type": "scatter",
         "x": [
          1953
         ],
         "xaxis": "x",
         "y": [
          382.95
         ],
         "yaxis": "y",
         "zmax": 0.1,
         "zmin": -0.1
        },
        {
         "colorbar": {
          "title": {
           "text": ""
          }
         },
         "hoverinfo": "text",
         "legendgroup": "32b_unroll_all",
         "marker": {
          "color": "rgba(195, 113, 210, 1.000)",
          "line": {
           "color": "rgba(0, 0, 0, 1)",
           "width": 1
          },
          "size": 8,
          "symbol": "circle"
         },
         "mode": "markers",
         "name": "32b_unroll_all",
         "showlegend": true,
         "text": [
          null
         ],
         "type": "scatter",
         "x": [
          4238
         ],
         "xaxis": "x",
         "y": [
          78.67800000000001
         ],
         "yaxis": "y",
         "zmax": 0.1,
         "zmin": -0.1
        },
        {
         "colorbar": {
          "title": {
           "text": ""
          }
         },
         "hoverinfo": "text",
         "legendgroup": "basic",
         "marker": {
          "color": "rgba(172, 142, 24, 1.000)",
          "line": {
           "color": "rgba(0, 0, 0, 1)",
           "width": 1
          },
          "size": 8,
          "symbol": "circle"
         },
         "mode": "markers",
         "name": "basic",
         "showlegend": true,
         "text": [
          null
         ],
         "type": "scatter",
         "x": [
          234
         ],
         "xaxis": "x",
         "y": [
          295.868
         ],
         "yaxis": "y",
         "zmax": 0.1,
         "zmin": -0.1
        },
        {
         "colorbar": {
          "title": {
           "text": ""
          }
         },
         "hoverinfo": "text",
         "legendgroup": "basic_1pbram",
         "marker": {
          "color": "rgba(0, 170, 174, 1.000)",
          "line": {
           "color": "rgba(0, 0, 0, 1)",
           "width": 1
          },
          "size": 8,
          "symbol": "circle"
         },
         "mode": "markers",
         "name": "basic_1pbram",
         "showlegend": true,
         "text": [
          null
         ],
         "type": "scatter",
         "x": [
          541
         ],
         "xaxis": "x",
         "y": [
          349.02
         ],
         "yaxis": "y",
         "zmax": 0.1,
         "zmin": -0.1
        },
        {
         "colorbar": {
          "title": {
           "text": ""
          }
         },
         "hoverinfo": "text",
         "legendgroup": "fission",
         "marker": {
          "color": "rgba(237, 94, 147, 1.000)",
          "line": {
           "color": "rgba(0, 0, 0, 1)",
           "width": 1
          },
          "size": 8,
          "symbol": "circle"
         },
         "mode": "markers",
         "name": "fission",
         "showlegend": true,
         "text": [
          null
         ],
         "type": "scatter",
         "x": [
          369
         ],
         "xaxis": "x",
         "y": [
          374.186
         ],
         "yaxis": "y",
         "zmax": 0.1,
         "zmin": -0.1
        },
        {
         "colorbar": {
          "title": {
           "text": ""
          }
         },
         "hoverinfo": "text",
         "legendgroup": "remove_if",
         "marker": {
          "color": "rgba(198, 130, 37, 1.000)",
          "line": {
           "color": "rgba(0, 0, 0, 1)",
           "width": 1
          },
          "size": 8,
          "symbol": "circle"
         },
         "mode": "markers",
         "name": "remove_if",
         "showlegend": true,
         "text": [
          null
         ],
         "type": "scatter",
         "x": [
          321
         ],
         "xaxis": "x",
         "y": [
          191.444
         ],
         "yaxis": "y",
         "zmax": 0.1,
         "zmin": -0.1
        },
        {
         "colorbar": {
          "title": {
           "text": ""
          }
         },
         "hoverinfo": "text",
         "legendgroup": "unroll_2",
         "marker": {
          "color": "rgba(0, 169, 141, 1.000)",
          "line": {
           "color": "rgba(0, 0, 0, 1)",
           "width": 1
          },
          "size": 8,
          "symbol": "circle"
         },
         "mode": "markers",
         "name": "unroll_2",
         "showlegend": true,
         "text": [
          null
         ],
         "type": "scatter",
         "x": [
          1487
         ],
         "xaxis": "x",
         "y": [
          327.18
         ],
         "yaxis": "y",
         "zmax": 0.1,
         "zmin": -0.1
        },
        {
         "colorbar": {
          "title": {
           "text": ""
          }
         },
         "hoverinfo": "text",
         "legendgroup": "unroll_all",
         "marker": {
          "color": "rgba(142, 151, 30, 1.000)",
          "line": {
           "color": "rgba(0, 0, 0, 1)",
           "width": 1
          },
          "size": 8,
          "symbol": "circle"
         },
         "mode": "markers",
         "name": "unroll_all",
         "showlegend": true,
         "text": [
          null
         ],
         "type": "scatter",
         "x": [
          1473
         ],
         "xaxis": "x",
         "y": [
          75.2
         ],
         "yaxis": "y",
         "zmax": 0.1,
         "zmin": -0.1
        },
        {
         "colorbar": {
          "title": {
           "text": ""
          }
         },
         "hoverinfo": "text",
         "legendgroup": "unroll_all_1pbram",
         "marker": {
          "color": "rgba(0, 169, 204, 1.000)",
          "line": {
           "color": "rgba(0, 0, 0, 1)",
           "width": 1
          },
          "size": 8,
          "symbol": "circle"
         },
         "mode": "markers",
         "name": "unroll_all_1pbram",
         "showlegend": true,
         "text": [
          null
         ],
         "type": "scatter",
         "x": [
          1529
         ],
         "xaxis": "x",
         "y": [
          319.6
         ],
         "yaxis": "y",
         "zmax": 0.1,
         "zmin": -0.1
        },
        {
         "colorbar": {
          "title": {
           "text": ""
          }
         },
         "hoverinfo": "text",
         "legendgroup": "unroll_all_2pbram",
         "marker": {
          "color": "rgba(155, 127, 233, 1.000)",
          "line": {
           "color": "rgba(0, 0, 0, 1)",
           "width": 1
          },
          "size": 8,
          "symbol": "circle"
         },
         "mode": "markers",
         "name": "unroll_all_2pbram",
         "showlegend": true,
         "text": [
          null
         ],
         "type": "scatter",
         "x": [
          1521
         ],
         "xaxis": "x",
         "y": [
          272.6
         ],
         "yaxis": "y",
         "zmax": 0.1,
         "zmin": -0.1
        },
        {
         "colorbar": {
          "title": {
           "text": ""
          }
         },
         "hoverinfo": "text",
         "legendgroup": "Pareto Frontier",
         "line": {
          "color": "rgba(97, 141, 246, 1.000)",
          "dash": "solid",
          "shape": "linear",
          "width": 1
         },
         "mode": "lines",
         "name": "Pareto Frontier",
         "showlegend": true,
         "text": [
          null,
          null,
          null,
          null,
          null,
          null,
          null,
          null,
          null,
          null,
          null,
          null
         ],
         "type": "scatter",
         "x": [
          234,
          321,
          369,
          541,
          541,
          902,
          1473,
          1487,
          1521,
          1529,
          1953,
          4238
         ],
         "xaxis": "x",
         "y": [
          295.868,
          191.444,
          191.444,
          191.444,
          191.444,
          191.444,
          75.2,
          75.2,
          75.2,
          75.2,
          75.2,
          75.2
         ],
         "yaxis": "y",
         "zmax": 0.1,
         "zmin": -0.1
        }
       ],
       "layout": {
        "annotations": [],
        "height": 400,
        "legend": {
         "bgcolor": "rgba(255, 255, 255, 1.000)",
         "bordercolor": "rgba(0, 0, 0, 1)",
         "font": {
          "color": "rgba(0, 0, 0, 1)",
          "family": "sans-serif",
          "size": 11
         },
         "tracegroupgap": 0,
         "x": 1,
         "y": 1
        },
        "margin": {
         "b": 20,
         "l": 0,
         "r": 0,
         "t": 20
        },
        "paper_bgcolor": "rgba(255, 255, 255, 1.000)",
        "plot_bgcolor": "rgba(255, 255, 255, 1.000)",
        "showlegend": true,
        "width": 600,
        "xaxis": {
         "anchor": "y",
         "domain": [
          0.07646908719743364,
          0.9934383202099737
         ],
         "gridcolor": "rgba(0, 0, 0, 0.1)",
         "gridwidth": 0.5,
         "linecolor": "rgba(0, 0, 0, 1)",
         "mirror": false,
         "range": [
          113.88000000000001,
          4358.12
         ],
         "showgrid": true,
         "showline": true,
         "showticklabels": true,
         "tickangle": 0,
         "tickcolor": "rgb(0, 0, 0)",
         "tickfont": {
          "color": "rgba(0, 0, 0, 1)",
          "family": "sans-serif",
          "size": 11
         },
         "tickmode": "array",
         "ticks": "inside",
         "ticktext": [
          "1000",
          "2000",
          "3000",
          "4000"
         ],
         "tickvals": [
          1000,
          2000,
          3000,
          4000
         ],
         "title": {
          "font": {
           "color": "rgba(0, 0, 0, 1)",
           "family": "sans-serif",
           "size": 15
          },
          "text": "Estimated Area"
         },
         "type": "linear",
         "visible": true,
         "zeroline": false,
         "zerolinecolor": "rgba(0, 0, 0, 1)"
        },
        "yaxis": {
         "anchor": "x",
         "domain": [
          0.07581474190726165,
          0.9901574803149606
         ],
         "gridcolor": "rgba(0, 0, 0, 0.1)",
         "gridwidth": 0.5,
         "linecolor": "rgba(0, 0, 0, 1)",
         "mirror": false,
         "range": [
          60.86150000000001,
          567.4884999999999
         ],
         "showgrid": true,
         "showline": true,
         "showticklabels": true,
         "tickangle": 0,
         "tickcolor": "rgb(0, 0, 0)",
         "tickfont": {
          "color": "rgba(0, 0, 0, 1)",
          "family": "sans-serif",
          "size": 11
         },
         "tickmode": "array",
         "ticks": "inside",
         "ticktext": [
          "100",
          "200",
          "300",
          "400",
          "500"
         ],
         "tickvals": [
          100,
          200,
          300,
          400,
          500
         ],
         "title": {
          "font": {
           "color": "rgba(0, 0, 0, 1)",
           "family": "sans-serif",
           "size": 15
          },
          "text": "Latency (ns)"
         },
         "type": "linear",
         "visible": true,
         "zeroline": false,
         "zerolinecolor": "rgba(0, 0, 0, 1)"
        }
       }
      },
      "image/png": "[encoded data removed]",
      "text/html": [
       "<!DOCTYPE html>\n",
       "<html>\n",
       "    <head>\n",
       "        <title>Plots.jl</title>\n",
       "        <meta http-equiv=\"content-type\" content=\"text/html; charset=UTF-8\">\n",
       "        <script src=\"https://cdn.plot.ly/plotly-latest.min.js\"></script>\n",
       "    </head>\n",
       "    <body>\n",
       "            <div id=\"0bb00f69-67cf-43ce-857d-b3deda4e780b\" style=\"width:600px;height:400px;\"></div>\n",
       "    <script>\n",
       "    PLOT = document.getElementById('0bb00f69-67cf-43ce-857d-b3deda4e780b');\n",
       "    Plotly.plot(PLOT, [\n",
       "    {\n",
       "        \"xaxis\": \"x1\",\n",
       "        \"colorbar\": {\n",
       "            \"title\": \"\"\n",
       "        },\n",
       "        \"yaxis\": \"y1\",\n",
       "        \"text\": [\n",
       "            null\n",
       "        ],\n",
       "        \"x\": [\n",
       "            541.0\n",
       "        ],\n",
       "        \"showlegend\": true,\n",
       "        \"mode\": \"markers\",\n",
       "        \"name\": \"32b_basic\",\n",
       "        \"zmin\": -0.1,\n",
       "        \"legendgroup\": \"32b_basic\",\n",
       "        \"marker\": {\n",
       "            \"symbol\": \"circle\",\n",
       "            \"color\": \"rgba(0, 154, 250, 1.000)\",\n",
       "            \"line\": {\n",
       "                \"color\": \"rgba(0, 0, 0, 1.000)\",\n",
       "                \"width\": 1\n",
       "            },\n",
       "            \"size\": 8\n",
       "        },\n",
       "        \"zmax\": 0.1,\n",
       "        \"y\": [\n",
       "            476.56\n",
       "        ],\n",
       "        \"type\": \"scatter\",\n",
       "        \"hoverinfo\": \"text\"\n",
       "    },\n",
       "    {\n",
       "        \"xaxis\": \"x1\",\n",
       "        \"colorbar\": {\n",
       "            \"title\": \"\"\n",
       "        },\n",
       "        \"yaxis\": \"y1\",\n",
       "        \"text\": [\n",
       "            null\n",
       "        ],\n",
       "        \"x\": [\n",
       "            902.0\n",
       "        ],\n",
       "        \"showlegend\": true,\n",
       "        \"mode\": \"markers\",\n",
       "        \"name\": \"32b_fission\",\n",
       "        \"zmin\": -0.1,\n",
       "        \"legendgroup\": \"32b_fission\",\n",
       "        \"marker\": {\n",
       "            \"symbol\": \"circle\",\n",
       "            \"color\": \"rgba(227, 111, 71, 1.000)\",\n",
       "            \"line\": {\n",
       "                \"color\": \"rgba(0, 0, 0, 1.000)\",\n",
       "                \"width\": 1\n",
       "            },\n",
       "            \"size\": 8\n",
       "        },\n",
       "        \"zmax\": 0.1,\n",
       "        \"y\": [\n",
       "            553.15\n",
       "        ],\n",
       "        \"type\": \"scatter\",\n",
       "        \"hoverinfo\": \"text\"\n",
       "    },\n",
       "    {\n",
       "        \"xaxis\": \"x1\",\n",
       "        \"colorbar\": {\n",
       "            \"title\": \"\"\n",
       "        },\n",
       "        \"yaxis\": \"y1\",\n",
       "        \"text\": [\n",
       "            null\n",
       "        ],\n",
       "        \"x\": [\n",
       "            1953.0\n",
       "        ],\n",
       "        \"showlegend\": true,\n",
       "        \"mode\": \"markers\",\n",
       "        \"name\": \"32b_unroll_2\",\n",
       "        \"zmin\": -0.1,\n",
       "        \"legendgroup\": \"32b_unroll_2\",\n",
       "        \"marker\": {\n",
       "            \"symbol\": \"circle\",\n",
       "            \"color\": \"rgba(62, 164, 78, 1.000)\",\n",
       "            \"line\": {\n",
       "                \"color\": \"rgba(0, 0, 0, 1.000)\",\n",
       "                \"width\": 1\n",
       "            },\n",
       "            \"size\": 8\n",
       "        },\n",
       "        \"zmax\": 0.1,\n",
       "        \"y\": [\n",
       "            382.95\n",
       "        ],\n",
       "        \"type\": \"scatter\",\n",
       "        \"hoverinfo\": \"text\"\n",
       "    },\n",
       "    {\n",
       "        \"xaxis\": \"x1\",\n",
       "        \"colorbar\": {\n",
       "            \"title\": \"\"\n",
       "        },\n",
       "        \"yaxis\": \"y1\",\n",
       "        \"text\": [\n",
       "            null\n",
       "        ],\n",
       "        \"x\": [\n",
       "            4238.0\n",
       "        ],\n",
       "        \"showlegend\": true,\n",
       "        \"mode\": \"markers\",\n",
       "        \"name\": \"32b_unroll_all\",\n",
       "        \"zmin\": -0.1,\n",
       "        \"legendgroup\": \"32b_unroll_all\",\n",
       "        \"marker\": {\n",
       "            \"symbol\": \"circle\",\n",
       "            \"color\": \"rgba(195, 113, 210, 1.000)\",\n",
       "            \"line\": {\n",
       "                \"color\": \"rgba(0, 0, 0, 1.000)\",\n",
       "                \"width\": 1\n",
       "            },\n",
       "            \"size\": 8\n",
       "        },\n",
       "        \"zmax\": 0.1,\n",
       "        \"y\": [\n",
       "            78.67800000000001\n",
       "        ],\n",
       "        \"type\": \"scatter\",\n",
       "        \"hoverinfo\": \"text\"\n",
       "    },\n",
       "    {\n",
       "        \"xaxis\": \"x1\",\n",
       "        \"colorbar\": {\n",
       "            \"title\": \"\"\n",
       "        },\n",
       "        \"yaxis\": \"y1\",\n",
       "        \"text\": [\n",
       "            null\n",
       "        ],\n",
       "        \"x\": [\n",
       "            234.0\n",
       "        ],\n",
       "        \"showlegend\": true,\n",
       "        \"mode\": \"markers\",\n",
       "        \"name\": \"basic\",\n",
       "        \"zmin\": -0.1,\n",
       "        \"legendgroup\": \"basic\",\n",
       "        \"marker\": {\n",
       "            \"symbol\": \"circle\",\n",
       "            \"color\": \"rgba(172, 142, 24, 1.000)\",\n",
       "            \"line\": {\n",
       "                \"color\": \"rgba(0, 0, 0, 1.000)\",\n",
       "                \"width\": 1\n",
       "            },\n",
       "            \"size\": 8\n",
       "        },\n",
       "        \"zmax\": 0.1,\n",
       "        \"y\": [\n",
       "            295.868\n",
       "        ],\n",
       "        \"type\": \"scatter\",\n",
       "        \"hoverinfo\": \"text\"\n",
       "    },\n",
       "    {\n",
       "        \"xaxis\": \"x1\",\n",
       "        \"colorbar\": {\n",
       "            \"title\": \"\"\n",
       "        },\n",
       "        \"yaxis\": \"y1\",\n",
       "        \"text\": [\n",
       "            null\n",
       "        ],\n",
       "        \"x\": [\n",
       "            541.0\n",
       "        ],\n",
       "        \"showlegend\": true,\n",
       "        \"mode\": \"markers\",\n",
       "        \"name\": \"basic_1pbram\",\n",
       "        \"zmin\": -0.1,\n",
       "        \"legendgroup\": \"basic_1pbram\",\n",
       "        \"marker\": {\n",
       "            \"symbol\": \"circle\",\n",
       "            \"color\": \"rgba(0, 170, 174, 1.000)\",\n",
       "            \"line\": {\n",
       "                \"color\": \"rgba(0, 0, 0, 1.000)\",\n",
       "                \"width\": 1\n",
       "            },\n",
       "            \"size\": 8\n",
       "        },\n",
       "        \"zmax\": 0.1,\n",
       "        \"y\": [\n",
       "            349.02\n",
       "        ],\n",
       "        \"type\": \"scatter\",\n",
       "        \"hoverinfo\": \"text\"\n",
       "    },\n",
       "    {\n",
       "        \"xaxis\": \"x1\",\n",
       "        \"colorbar\": {\n",
       "            \"title\": \"\"\n",
       "        },\n",
       "        \"yaxis\": \"y1\",\n",
       "        \"text\": [\n",
       "            null\n",
       "        ],\n",
       "        \"x\": [\n",
       "            369.0\n",
       "        ],\n",
       "        \"showlegend\": true,\n",
       "        \"mode\": \"markers\",\n",
       "        \"name\": \"fission\",\n",
       "        \"zmin\": -0.1,\n",
       "        \"legendgroup\": \"fission\",\n",
       "        \"marker\": {\n",
       "            \"symbol\": \"circle\",\n",
       "            \"color\": \"rgba(237, 94, 147, 1.000)\",\n",
       "            \"line\": {\n",
       "                \"color\": \"rgba(0, 0, 0, 1.000)\",\n",
       "                \"width\": 1\n",
       "            },\n",
       "            \"size\": 8\n",
       "        },\n",
       "        \"zmax\": 0.1,\n",
       "        \"y\": [\n",
       "            374.186\n",
       "        ],\n",
       "        \"type\": \"scatter\",\n",
       "        \"hoverinfo\": \"text\"\n",
       "    },\n",
       "    {\n",
       "        \"xaxis\": \"x1\",\n",
       "        \"colorbar\": {\n",
       "            \"title\": \"\"\n",
       "        },\n",
       "        \"yaxis\": \"y1\",\n",
       "        \"text\": [\n",
       "            null\n",
       "        ],\n",
       "        \"x\": [\n",
       "            321.0\n",
       "        ],\n",
       "        \"showlegend\": true,\n",
       "        \"mode\": \"markers\",\n",
       "        \"name\": \"remove_if\",\n",
       "        \"zmin\": -0.1,\n",
       "        \"legendgroup\": \"remove_if\",\n",
       "        \"marker\": {\n",
       "            \"symbol\": \"circle\",\n",
       "            \"color\": \"rgba(198, 130, 37, 1.000)\",\n",
       "            \"line\": {\n",
       "                \"color\": \"rgba(0, 0, 0, 1.000)\",\n",
       "                \"width\": 1\n",
       "            },\n",
       "            \"size\": 8\n",
       "        },\n",
       "        \"zmax\": 0.1,\n",
       "        \"y\": [\n",
       "            191.444\n",
       "        ],\n",
       "        \"type\": \"scatter\",\n",
       "        \"hoverinfo\": \"text\"\n",
       "    },\n",
       "    {\n",
       "        \"xaxis\": \"x1\",\n",
       "        \"colorbar\": {\n",
       "            \"title\": \"\"\n",
       "        },\n",
       "        \"yaxis\": \"y1\",\n",
       "        \"text\": [\n",
       "            null\n",
       "        ],\n",
       "        \"x\": [\n",
       "            1487.0\n",
       "        ],\n",
       "        \"showlegend\": true,\n",
       "        \"mode\": \"markers\",\n",
       "        \"name\": \"unroll_2\",\n",
       "        \"zmin\": -0.1,\n",
       "        \"legendgroup\": \"unroll_2\",\n",
       "        \"marker\": {\n",
       "            \"symbol\": \"circle\",\n",
       "            \"color\": \"rgba(0, 169, 141, 1.000)\",\n",
       "            \"line\": {\n",
       "                \"color\": \"rgba(0, 0, 0, 1.000)\",\n",
       "                \"width\": 1\n",
       "            },\n",
       "            \"size\": 8\n",
       "        },\n",
       "        \"zmax\": 0.1,\n",
       "        \"y\": [\n",
       "            327.18\n",
       "        ],\n",
       "        \"type\": \"scatter\",\n",
       "        \"hoverinfo\": \"text\"\n",
       "    },\n",
       "    {\n",
       "        \"xaxis\": \"x1\",\n",
       "        \"colorbar\": {\n",
       "            \"title\": \"\"\n",
       "        },\n",
       "        \"yaxis\": \"y1\",\n",
       "        \"text\": [\n",
       "            null\n",
       "        ],\n",
       "        \"x\": [\n",
       "            1473.0\n",
       "        ],\n",
       "        \"showlegend\": true,\n",
       "        \"mode\": \"markers\",\n",
       "        \"name\": \"unroll_all\",\n",
       "        \"zmin\": -0.1,\n",
       "        \"legendgroup\": \"unroll_all\",\n",
       "        \"marker\": {\n",
       "            \"symbol\": \"circle\",\n",
       "            \"color\": \"rgba(142, 151, 30, 1.000)\",\n",
       "            \"line\": {\n",
       "                \"color\": \"rgba(0, 0, 0, 1.000)\",\n",
       "                \"width\": 1\n",
       "            },\n",
       "            \"size\": 8\n",
       "        },\n",
       "        \"zmax\": 0.1,\n",
       "        \"y\": [\n",
       "            75.2\n",
       "        ],\n",
       "        \"type\": \"scatter\",\n",
       "        \"hoverinfo\": \"text\"\n",
       "    },\n",
       "    {\n",
       "        \"xaxis\": \"x1\",\n",
       "        \"colorbar\": {\n",
       "            \"title\": \"\"\n",
       "        },\n",
       "        \"yaxis\": \"y1\",\n",
       "        \"text\": [\n",
       "            null\n",
       "        ],\n",
       "        \"x\": [\n",
       "            1529.0\n",
       "        ],\n",
       "        \"showlegend\": true,\n",
       "        \"mode\": \"markers\",\n",
       "        \"name\": \"unroll_all_1pbram\",\n",
       "        \"zmin\": -0.1,\n",
       "        \"legendgroup\": \"unroll_all_1pbram\",\n",
       "        \"marker\": {\n",
       "            \"symbol\": \"circle\",\n",
       "            \"color\": \"rgba(0, 169, 204, 1.000)\",\n",
       "            \"line\": {\n",
       "                \"color\": \"rgba(0, 0, 0, 1.000)\",\n",
       "                \"width\": 1\n",
       "            },\n",
       "            \"size\": 8\n",
       "        },\n",
       "        \"zmax\": 0.1,\n",
       "        \"y\": [\n",
       "            319.6\n",
       "        ],\n",
       "        \"type\": \"scatter\",\n",
       "        \"hoverinfo\": \"text\"\n",
       "    },\n",
       "    {\n",
       "        \"xaxis\": \"x1\",\n",
       "        \"colorbar\": {\n",
       "            \"title\": \"\"\n",
       "        },\n",
       "        \"yaxis\": \"y1\",\n",
       "        \"text\": [\n",
       "            null\n",
       "        ],\n",
       "        \"x\": [\n",
       "            1521.0\n",
       "        ],\n",
       "        \"showlegend\": true,\n",
       "        \"mode\": \"markers\",\n",
       "        \"name\": \"unroll_all_2pbram\",\n",
       "        \"zmin\": -0.1,\n",
       "        \"legendgroup\": \"unroll_all_2pbram\",\n",
       "        \"marker\": {\n",
       "            \"symbol\": \"circle\",\n",
       "            \"color\": \"rgba(155, 127, 233, 1.000)\",\n",
       "            \"line\": {\n",
       "                \"color\": \"rgba(0, 0, 0, 1.000)\",\n",
       "                \"width\": 1\n",
       "            },\n",
       "            \"size\": 8\n",
       "        },\n",
       "        \"zmax\": 0.1,\n",
       "        \"y\": [\n",
       "            272.6\n",
       "        ],\n",
       "        \"type\": \"scatter\",\n",
       "        \"hoverinfo\": \"text\"\n",
       "    },\n",
       "    {\n",
       "        \"xaxis\": \"x1\",\n",
       "        \"colorbar\": {\n",
       "            \"title\": \"\"\n",
       "        },\n",
       "        \"yaxis\": \"y1\",\n",
       "        \"text\": [\n",
       "            null,\n",
       "            null,\n",
       "            null,\n",
       "            null,\n",
       "            null,\n",
       "            null,\n",
       "            null,\n",
       "            null,\n",
       "            null,\n",
       "            null,\n",
       "            null,\n",
       "            null\n",
       "        ],\n",
       "        \"x\": [\n",
       "            234.0,\n",
       "            321.0,\n",
       "            369.0,\n",
       "            541.0,\n",
       "            541.0,\n",
       "            902.0,\n",
       "            1473.0,\n",
       "            1487.0,\n",
       "            1521.0,\n",
       "            1529.0,\n",
       "            1953.0,\n",
       "            4238.0\n",
       "        ],\n",
       "        \"showlegend\": true,\n",
       "        \"mode\": \"lines\",\n",
       "        \"name\": \"Pareto Frontier\",\n",
       "        \"zmin\": -0.1,\n",
       "        \"legendgroup\": \"Pareto Frontier\",\n",
       "        \"zmax\": 0.1,\n",
       "        \"line\": {\n",
       "            \"color\": \"rgba(97, 141, 246, 1.000)\",\n",
       "            \"shape\": \"linear\",\n",
       "            \"dash\": \"solid\",\n",
       "            \"width\": 1\n",
       "        },\n",
       "        \"y\": [\n",
       "            295.868,\n",
       "            191.444,\n",
       "            191.444,\n",
       "            191.444,\n",
       "            191.444,\n",
       "            191.444,\n",
       "            75.2,\n",
       "            75.2,\n",
       "            75.2,\n",
       "            75.2,\n",
       "            75.2,\n",
       "            75.2\n",
       "        ],\n",
       "        \"type\": \"scatter\",\n",
       "        \"hoverinfo\": \"text\"\n",
       "    }\n",
       "]\n",
       ", {\n",
       "    \"showlegend\": true,\n",
       "    \"xaxis\": {\n",
       "        \"showticklabels\": true,\n",
       "        \"gridwidth\": 0.5,\n",
       "        \"tickvals\": [\n",
       "            1000.0,\n",
       "            2000.0,\n",
       "            3000.0,\n",
       "            4000.0\n",
       "        ],\n",
       "        \"visible\": true,\n",
       "        \"ticks\": \"inside\",\n",
       "        \"range\": [\n",
       "            113.88000000000001,\n",
       "            4358.12\n",
       "        ],\n",
       "        \"domain\": [\n",
       "            0.07646908719743364,\n",
       "            0.9934383202099737\n",
       "        ],\n",
       "        \"tickmode\": \"array\",\n",
       "        \"linecolor\": \"rgba(0, 0, 0, 1.000)\",\n",
       "        \"showgrid\": true,\n",
       "        \"title\": \"Estimated Area\",\n",
       "        \"mirror\": false,\n",
       "        \"tickangle\": 0,\n",
       "        \"showline\": true,\n",
       "        \"gridcolor\": \"rgba(0, 0, 0, 0.100)\",\n",
       "        \"titlefont\": {\n",
       "            \"color\": \"rgba(0, 0, 0, 1.000)\",\n",
       "            \"family\": \"sans-serif\",\n",
       "            \"size\": 15\n",
       "        },\n",
       "        \"tickcolor\": \"rgb(0, 0, 0)\",\n",
       "        \"ticktext\": [\n",
       "            \"1000\",\n",
       "            \"2000\",\n",
       "            \"3000\",\n",
       "            \"4000\"\n",
       "        ],\n",
       "        \"zeroline\": false,\n",
       "        \"type\": \"-\",\n",
       "        \"tickfont\": {\n",
       "            \"color\": \"rgba(0, 0, 0, 1.000)\",\n",
       "            \"family\": \"sans-serif\",\n",
       "            \"size\": 11\n",
       "        },\n",
       "        \"zerolinecolor\": \"rgba(0, 0, 0, 1.000)\",\n",
       "        \"anchor\": \"y1\"\n",
       "    },\n",
       "    \"paper_bgcolor\": \"rgba(255, 255, 255, 1.000)\",\n",
       "    \"annotations\": [],\n",
       "    \"height\": 400,\n",
       "    \"margin\": {\n",
       "        \"l\": 0,\n",
       "        \"b\": 20,\n",
       "        \"r\": 0,\n",
       "        \"t\": 20\n",
       "    },\n",
       "    \"plot_bgcolor\": \"rgba(255, 255, 255, 1.000)\",\n",
       "    \"yaxis\": {\n",
       "        \"showticklabels\": true,\n",
       "        \"gridwidth\": 0.5,\n",
       "        \"tickvals\": [\n",
       "            100.0,\n",
       "            200.0,\n",
       "            300.0,\n",
       "            400.0,\n",
       "            500.0\n",
       "        ],\n",
       "        \"visible\": true,\n",
       "        \"ticks\": \"inside\",\n",
       "        \"range\": [\n",
       "            60.86150000000001,\n",
       "            567.4884999999999\n",
       "        ],\n",
       "        \"domain\": [\n",
       "            0.07581474190726165,\n",
       "            0.9901574803149606\n",
       "        ],\n",
       "        \"tickmode\": \"array\",\n",
       "        \"linecolor\": \"rgba(0, 0, 0, 1.000)\",\n",
       "        \"showgrid\": true,\n",
       "        \"title\": \"Latency (ns)\",\n",
       "        \"mirror\": false,\n",
       "        \"tickangle\": 0,\n",
       "        \"showline\": true,\n",
       "        \"gridcolor\": \"rgba(0, 0, 0, 0.100)\",\n",
       "        \"titlefont\": {\n",
       "            \"color\": \"rgba(0, 0, 0, 1.000)\",\n",
       "            \"family\": \"sans-serif\",\n",
       "            \"size\": 15\n",
       "        },\n",
       "        \"tickcolor\": \"rgb(0, 0, 0)\",\n",
       "        \"ticktext\": [\n",
       "            \"100\",\n",
       "            \"200\",\n",
       "            \"300\",\n",
       "            \"400\",\n",
       "            \"500\"\n",
       "        ],\n",
       "        \"zeroline\": false,\n",
       "        \"type\": \"-\",\n",
       "        \"tickfont\": {\n",
       "            \"color\": \"rgba(0, 0, 0, 1.000)\",\n",
       "            \"family\": \"sans-serif\",\n",
       "            \"size\": 11\n",
       "        },\n",
       "        \"zerolinecolor\": \"rgba(0, 0, 0, 1.000)\",\n",
       "        \"anchor\": \"x1\"\n",
       "    },\n",
       "    \"legend\": {\n",
       "        \"tracegroupgap\": 0,\n",
       "        \"bordercolor\": \"rgba(0, 0, 0, 1.000)\",\n",
       "        \"bgcolor\": \"rgba(255, 255, 255, 1.000)\",\n",
       "        \"font\": {\n",
       "            \"color\": \"rgba(0, 0, 0, 1.000)\",\n",
       "            \"family\": \"sans-serif\",\n",
       "            \"size\": 11\n",
       "        },\n",
       "        \"y\": 1.0,\n",
       "        \"x\": 1.0\n",
       "    },\n",
       "    \"width\": 600\n",
       "}\n",
       ");\n",
       "    </script>\n",
       "\n",
       "    </body>\n",
       "</html>\n"
      ]
     },
     "execution_count": 26,
     "metadata": {},
     "output_type": "execute_result"
    }
   ],
   "source": [
    "p2 = plot(p1)\n",
    "plot!(xs, ys, label=\"Pareto Frontier\")"
   ]
  },
  {
   "cell_type": "code",
   "execution_count": 35,
   "metadata": {
    "Collapsed": "false"
   },
   "outputs": [],
   "source": [
    "savefig(p2, \"report/imgs/pareto.pdf\")"
   ]
  },
  {
   "cell_type": "code",
   "execution_count": 73,
   "metadata": {
    "Collapsed": "false"
   },
   "outputs": [
    {
     "data": {
      "text/plain": [
       "Plots.PGFPlotsBackend()"
      ]
     },
     "execution_count": 73,
     "metadata": {},
     "output_type": "execute_result"
    }
   ],
   "source": [
    "pgfplots()"
   ]
  },
  {
   "cell_type": "code",
   "execution_count": 27,
   "metadata": {
    "Collapsed": "false"
   },
   "outputs": [
    {
     "name": "stderr",
     "output_type": "stream",
     "text": [
      "┌ Info: Precompiling RDatasets [ce6b1742-4840-55fa-b093-852dadbb1d8b]\n",
      "└ @ Base loading.jl:1252\n"
     ]
    }
   ],
   "source": [
    "using RDatasets"
   ]
  },
  {
   "cell_type": "code",
   "execution_count": 28,
   "metadata": {
    "Collapsed": "false"
   },
   "outputs": [
    {
     "data": {
      "text/html": [
       "<table class=\"data-frame\"><thead><tr><th></th><th>SepalLength</th><th>SepalWidth</th><th>PetalLength</th><th>PetalWidth</th><th>Species</th></tr><tr><th></th><th>Float64</th><th>Float64</th><th>Float64</th><th>Float64</th><th>Categorical…</th></tr></thead><tbody><p>150 rows × 5 columns</p><tr><th>1</th><td>5.1</td><td>3.5</td><td>1.4</td><td>0.2</td><td>setosa</td></tr><tr><th>2</th><td>4.9</td><td>3.0</td><td>1.4</td><td>0.2</td><td>setosa</td></tr><tr><th>3</th><td>4.7</td><td>3.2</td><td>1.3</td><td>0.2</td><td>setosa</td></tr><tr><th>4</th><td>4.6</td><td>3.1</td><td>1.5</td><td>0.2</td><td>setosa</td></tr><tr><th>5</th><td>5.0</td><td>3.6</td><td>1.4</td><td>0.2</td><td>setosa</td></tr><tr><th>6</th><td>5.4</td><td>3.9</td><td>1.7</td><td>0.4</td><td>setosa</td></tr><tr><th>7</th><td>4.6</td><td>3.4</td><td>1.4</td><td>0.3</td><td>setosa</td></tr><tr><th>8</th><td>5.0</td><td>3.4</td><td>1.5</td><td>0.2</td><td>setosa</td></tr><tr><th>9</th><td>4.4</td><td>2.9</td><td>1.4</td><td>0.2</td><td>setosa</td></tr><tr><th>10</th><td>4.9</td><td>3.1</td><td>1.5</td><td>0.1</td><td>setosa</td></tr><tr><th>11</th><td>5.4</td><td>3.7</td><td>1.5</td><td>0.2</td><td>setosa</td></tr><tr><th>12</th><td>4.8</td><td>3.4</td><td>1.6</td><td>0.2</td><td>setosa</td></tr><tr><th>13</th><td>4.8</td><td>3.0</td><td>1.4</td><td>0.1</td><td>setosa</td></tr><tr><th>14</th><td>4.3</td><td>3.0</td><td>1.1</td><td>0.1</td><td>setosa</td></tr><tr><th>15</th><td>5.8</td><td>4.0</td><td>1.2</td><td>0.2</td><td>setosa</td></tr><tr><th>16</th><td>5.7</td><td>4.4</td><td>1.5</td><td>0.4</td><td>setosa</td></tr><tr><th>17</th><td>5.4</td><td>3.9</td><td>1.3</td><td>0.4</td><td>setosa</td></tr><tr><th>18</th><td>5.1</td><td>3.5</td><td>1.4</td><td>0.3</td><td>setosa</td></tr><tr><th>19</th><td>5.7</td><td>3.8</td><td>1.7</td><td>0.3</td><td>setosa</td></tr><tr><th>20</th><td>5.1</td><td>3.8</td><td>1.5</td><td>0.3</td><td>setosa</td></tr><tr><th>21</th><td>5.4</td><td>3.4</td><td>1.7</td><td>0.2</td><td>setosa</td></tr><tr><th>22</th><td>5.1</td><td>3.7</td><td>1.5</td><td>0.4</td><td>setosa</td></tr><tr><th>23</th><td>4.6</td><td>3.6</td><td>1.0</td><td>0.2</td><td>setosa</td></tr><tr><th>24</th><td>5.1</td><td>3.3</td><td>1.7</td><td>0.5</td><td>setosa</td></tr><tr><th>25</th><td>4.8</td><td>3.4</td><td>1.9</td><td>0.2</td><td>setosa</td></tr><tr><th>26</th><td>5.0</td><td>3.0</td><td>1.6</td><td>0.2</td><td>setosa</td></tr><tr><th>27</th><td>5.0</td><td>3.4</td><td>1.6</td><td>0.4</td><td>setosa</td></tr><tr><th>28</th><td>5.2</td><td>3.5</td><td>1.5</td><td>0.2</td><td>setosa</td></tr><tr><th>29</th><td>5.2</td><td>3.4</td><td>1.4</td><td>0.2</td><td>setosa</td></tr><tr><th>30</th><td>4.7</td><td>3.2</td><td>1.6</td><td>0.2</td><td>setosa</td></tr><tr><th>&vellip;</th><td>&vellip;</td><td>&vellip;</td><td>&vellip;</td><td>&vellip;</td><td>&vellip;</td></tr></tbody></table>"
      ],
      "text/latex": [
       "\\begin{tabular}{r|ccccc}\n",
       "\t& SepalLength & SepalWidth & PetalLength & PetalWidth & Species\\\\\n",
       "\t\\hline\n",
       "\t& Float64 & Float64 & Float64 & Float64 & Categorical…\\\\\n",
       "\t\\hline\n",
       "\t1 & 5.1 & 3.5 & 1.4 & 0.2 & setosa \\\\\n",
       "\t2 & 4.9 & 3.0 & 1.4 & 0.2 & setosa \\\\\n",
       "\t3 & 4.7 & 3.2 & 1.3 & 0.2 & setosa \\\\\n",
       "\t4 & 4.6 & 3.1 & 1.5 & 0.2 & setosa \\\\\n",
       "\t5 & 5.0 & 3.6 & 1.4 & 0.2 & setosa \\\\\n",
       "\t6 & 5.4 & 3.9 & 1.7 & 0.4 & setosa \\\\\n",
       "\t7 & 4.6 & 3.4 & 1.4 & 0.3 & setosa \\\\\n",
       "\t8 & 5.0 & 3.4 & 1.5 & 0.2 & setosa \\\\\n",
       "\t9 & 4.4 & 2.9 & 1.4 & 0.2 & setosa \\\\\n",
       "\t10 & 4.9 & 3.1 & 1.5 & 0.1 & setosa \\\\\n",
       "\t11 & 5.4 & 3.7 & 1.5 & 0.2 & setosa \\\\\n",
       "\t12 & 4.8 & 3.4 & 1.6 & 0.2 & setosa \\\\\n",
       "\t13 & 4.8 & 3.0 & 1.4 & 0.1 & setosa \\\\\n",
       "\t14 & 4.3 & 3.0 & 1.1 & 0.1 & setosa \\\\\n",
       "\t15 & 5.8 & 4.0 & 1.2 & 0.2 & setosa \\\\\n",
       "\t16 & 5.7 & 4.4 & 1.5 & 0.4 & setosa \\\\\n",
       "\t17 & 5.4 & 3.9 & 1.3 & 0.4 & setosa \\\\\n",
       "\t18 & 5.1 & 3.5 & 1.4 & 0.3 & setosa \\\\\n",
       "\t19 & 5.7 & 3.8 & 1.7 & 0.3 & setosa \\\\\n",
       "\t20 & 5.1 & 3.8 & 1.5 & 0.3 & setosa \\\\\n",
       "\t21 & 5.4 & 3.4 & 1.7 & 0.2 & setosa \\\\\n",
       "\t22 & 5.1 & 3.7 & 1.5 & 0.4 & setosa \\\\\n",
       "\t23 & 4.6 & 3.6 & 1.0 & 0.2 & setosa \\\\\n",
       "\t24 & 5.1 & 3.3 & 1.7 & 0.5 & setosa \\\\\n",
       "\t25 & 4.8 & 3.4 & 1.9 & 0.2 & setosa \\\\\n",
       "\t26 & 5.0 & 3.0 & 1.6 & 0.2 & setosa \\\\\n",
       "\t27 & 5.0 & 3.4 & 1.6 & 0.4 & setosa \\\\\n",
       "\t28 & 5.2 & 3.5 & 1.5 & 0.2 & setosa \\\\\n",
       "\t29 & 5.2 & 3.4 & 1.4 & 0.2 & setosa \\\\\n",
       "\t30 & 4.7 & 3.2 & 1.6 & 0.2 & setosa \\\\\n",
       "\t$\\dots$ & $\\dots$ & $\\dots$ & $\\dots$ & $\\dots$ & $\\dots$ \\\\\n",
       "\\end{tabular}\n"
      ],
      "text/plain": [
       "150×5 DataFrame\n",
       "│ Row │ SepalLength │ SepalWidth │ PetalLength │ PetalWidth │ Species      │\n",
       "│     │ \u001b[90mFloat64\u001b[39m     │ \u001b[90mFloat64\u001b[39m    │ \u001b[90mFloat64\u001b[39m     │ \u001b[90mFloat64\u001b[39m    │ \u001b[90mCategorical…\u001b[39m │\n",
       "├─────┼─────────────┼────────────┼─────────────┼────────────┼──────────────┤\n",
       "│ 1   │ 5.1         │ 3.5        │ 1.4         │ 0.2        │ setosa       │\n",
       "│ 2   │ 4.9         │ 3.0        │ 1.4         │ 0.2        │ setosa       │\n",
       "│ 3   │ 4.7         │ 3.2        │ 1.3         │ 0.2        │ setosa       │\n",
       "│ 4   │ 4.6         │ 3.1        │ 1.5         │ 0.2        │ setosa       │\n",
       "│ 5   │ 5.0         │ 3.6        │ 1.4         │ 0.2        │ setosa       │\n",
       "│ 6   │ 5.4         │ 3.9        │ 1.7         │ 0.4        │ setosa       │\n",
       "│ 7   │ 4.6         │ 3.4        │ 1.4         │ 0.3        │ setosa       │\n",
       "│ 8   │ 5.0         │ 3.4        │ 1.5         │ 0.2        │ setosa       │\n",
       "│ 9   │ 4.4         │ 2.9        │ 1.4         │ 0.2        │ setosa       │\n",
       "│ 10  │ 4.9         │ 3.1        │ 1.5         │ 0.1        │ setosa       │\n",
       "⋮\n",
       "│ 140 │ 6.9         │ 3.1        │ 5.4         │ 2.1        │ virginica    │\n",
       "│ 141 │ 6.7         │ 3.1        │ 5.6         │ 2.4        │ virginica    │\n",
       "│ 142 │ 6.9         │ 3.1        │ 5.1         │ 2.3        │ virginica    │\n",
       "│ 143 │ 5.8         │ 2.7        │ 5.1         │ 1.9        │ virginica    │\n",
       "│ 144 │ 6.8         │ 3.2        │ 5.9         │ 2.3        │ virginica    │\n",
       "│ 145 │ 6.7         │ 3.3        │ 5.7         │ 2.5        │ virginica    │\n",
       "│ 146 │ 6.7         │ 3.0        │ 5.2         │ 2.3        │ virginica    │\n",
       "│ 147 │ 6.3         │ 2.5        │ 5.0         │ 1.9        │ virginica    │\n",
       "│ 148 │ 6.5         │ 3.0        │ 5.2         │ 2.0        │ virginica    │\n",
       "│ 149 │ 6.2         │ 3.4        │ 5.4         │ 2.3        │ virginica    │\n",
       "│ 150 │ 5.9         │ 3.0        │ 5.1         │ 1.8        │ virginica    │"
      ]
     },
     "execution_count": 28,
     "metadata": {},
     "output_type": "execute_result"
    }
   ],
   "source": [
    "ds = dataset(\"datasets\", \"iris\")"
   ]
  },
  {
   "cell_type": "code",
   "execution_count": 32,
   "metadata": {
    "Collapsed": "false"
   },
   "outputs": [
    {
     "data": {
      "image/svg+xml": [
       "<?xml version=\"1.0\" encoding=\"UTF-8\"?>\n",
       "<svg xmlns=\"http://www.w3.org/2000/svg\" xmlns:xlink=\"http://www.w3.org/1999/xlink\" width=\"409.457pt\" height=\"255.641pt\" viewBox=\"0 0 409.457 255.641\" version=\"1.1\">\n",
       "<defs>\n",
       "<g>\n",
       "<symbol overflow=\"visible\" id=\"glyph-1575557357254132-0-0\">\n",
       "<path style=\"stroke:none;\" d=\"\"/>\n",
       "</symbol>\n",
       "<symbol overflow=\"visible\" id=\"glyph-1575557357254132-0-1\">\n",
       "<path style=\"stroke:none;\" d=\"M 1.109375 -4.484375 C 1.21875 -4.453125 1.53125 -4.359375 1.875 -4.359375 C 2.875 -4.359375 3.46875 -5.0625 3.46875 -5.1875 C 3.46875 -5.28125 3.421875 -5.296875 3.375 -5.296875 C 3.359375 -5.296875 3.34375 -5.296875 3.28125 -5.265625 C 2.96875 -5.140625 2.59375 -5.046875 2.171875 -5.046875 C 1.703125 -5.046875 1.3125 -5.15625 1.0625 -5.265625 C 0.984375 -5.296875 0.96875 -5.296875 0.953125 -5.296875 C 0.859375 -5.296875 0.859375 -5.21875 0.859375 -5.0625 L 0.859375 -2.734375 C 0.859375 -2.59375 0.859375 -2.5 0.984375 -2.5 C 1.046875 -2.5 1.0625 -2.53125 1.109375 -2.59375 C 1.203125 -2.703125 1.5 -3.109375 2.1875 -3.109375 C 2.625 -3.109375 2.84375 -2.75 2.921875 -2.59375 C 3.046875 -2.3125 3.0625 -1.9375 3.0625 -1.640625 C 3.0625 -1.34375 3.0625 -0.90625 2.84375 -0.5625 C 2.6875 -0.3125 2.359375 -0.078125 1.9375 -0.078125 C 1.421875 -0.078125 0.921875 -0.390625 0.734375 -0.921875 C 0.75 -0.90625 0.8125 -0.90625 0.8125 -0.90625 C 1.03125 -0.90625 1.21875 -1.046875 1.21875 -1.296875 C 1.21875 -1.59375 0.984375 -1.703125 0.828125 -1.703125 C 0.671875 -1.703125 0.421875 -1.625 0.421875 -1.28125 C 0.421875 -0.5625 1.046875 0.171875 1.953125 0.171875 C 2.953125 0.171875 3.796875 -0.609375 3.796875 -1.59375 C 3.796875 -2.515625 3.125 -3.34375 2.1875 -3.34375 C 1.796875 -3.34375 1.421875 -3.21875 1.109375 -2.9375 Z M 1.109375 -4.484375 \"/>\n",
       "</symbol>\n",
       "<symbol overflow=\"visible\" id=\"glyph-1575557357254132-0-2\">\n",
       "<path style=\"stroke:none;\" d=\"M 1.09375 -2.640625 C 1.09375 -3.296875 1.15625 -3.875 1.4375 -4.359375 C 1.6875 -4.765625 2.09375 -5.09375 2.59375 -5.09375 C 2.75 -5.09375 3.109375 -5.0625 3.296875 -4.796875 C 2.9375 -4.765625 2.90625 -4.5 2.90625 -4.421875 C 2.90625 -4.171875 3.09375 -4.046875 3.28125 -4.046875 C 3.421875 -4.046875 3.65625 -4.125 3.65625 -4.4375 C 3.65625 -4.90625 3.296875 -5.296875 2.578125 -5.296875 C 1.46875 -5.296875 0.34375 -4.25 0.34375 -2.53125 C 0.34375 -0.359375 1.359375 0.171875 2.125 0.171875 C 2.515625 0.171875 2.921875 0.0625 3.28125 -0.28125 C 3.609375 -0.59375 3.875 -0.921875 3.875 -1.625 C 3.875 -2.65625 3.078125 -3.390625 2.203125 -3.390625 C 1.625 -3.390625 1.28125 -3.03125 1.09375 -2.640625 Z M 2.125 -0.078125 C 1.703125 -0.078125 1.4375 -0.359375 1.328125 -0.59375 C 1.140625 -0.953125 1.125 -1.484375 1.125 -1.796875 C 1.125 -2.578125 1.546875 -3.171875 2.171875 -3.171875 C 2.5625 -3.171875 2.8125 -2.96875 2.953125 -2.6875 C 3.125 -2.390625 3.125 -2.03125 3.125 -1.625 C 3.125 -1.21875 3.125 -0.875 2.96875 -0.578125 C 2.75 -0.21875 2.484375 -0.078125 2.125 -0.078125 Z M 2.125 -0.078125 \"/>\n",
       "</symbol>\n",
       "<symbol overflow=\"visible\" id=\"glyph-1575557357254132-0-3\">\n",
       "<path style=\"stroke:none;\" d=\"M 4.03125 -4.859375 C 4.109375 -4.9375 4.109375 -4.953125 4.109375 -5.125 L 2.078125 -5.125 C 1.875 -5.125 1.640625 -5.140625 1.4375 -5.15625 C 1.015625 -5.1875 1.015625 -5.265625 0.984375 -5.390625 L 0.734375 -5.390625 L 0.46875 -3.703125 L 0.71875 -3.703125 C 0.734375 -3.828125 0.828125 -4.375 0.9375 -4.4375 C 1.015625 -4.484375 1.625 -4.484375 1.734375 -4.484375 L 3.421875 -4.484375 L 2.609375 -3.375 C 1.703125 -2.171875 1.5 -0.90625 1.5 -0.28125 C 1.5 -0.203125 1.5 0.171875 1.875 0.171875 C 2.25 0.171875 2.25 -0.1875 2.25 -0.28125 L 2.25 -0.671875 C 2.25 -1.8125 2.453125 -2.75 2.84375 -3.28125 Z M 4.03125 -4.859375 \"/>\n",
       "</symbol>\n",
       "<symbol overflow=\"visible\" id=\"glyph-1575557357254132-0-4\">\n",
       "<path style=\"stroke:none;\" d=\"M 2.640625 -2.875 C 3.09375 -3.09375 3.640625 -3.484375 3.640625 -4.109375 C 3.640625 -4.875 2.859375 -5.296875 2.125 -5.296875 C 1.28125 -5.296875 0.59375 -4.71875 0.59375 -3.96875 C 0.59375 -3.671875 0.6875 -3.40625 0.890625 -3.171875 C 1.03125 -3 1.0625 -2.984375 1.546875 -2.671875 C 0.5625 -2.234375 0.34375 -1.65625 0.34375 -1.21875 C 0.34375 -0.328125 1.234375 0.171875 2.109375 0.171875 C 3.078125 0.171875 3.875 -0.5 3.875 -1.34375 C 3.875 -1.84375 3.609375 -2.171875 3.46875 -2.3125 C 3.34375 -2.4375 3.328125 -2.453125 2.640625 -2.875 Z M 1.40625 -3.625 C 1.171875 -3.765625 0.984375 -4 0.984375 -4.265625 C 0.984375 -4.765625 1.53125 -5.09375 2.109375 -5.09375 C 2.71875 -5.09375 3.234375 -4.671875 3.234375 -4.109375 C 3.234375 -3.65625 2.875 -3.265625 2.40625 -3.03125 Z M 1.796875 -2.53125 C 1.828125 -2.515625 2.734375 -1.953125 2.875 -1.875 C 3 -1.796875 3.421875 -1.546875 3.421875 -1.0625 C 3.421875 -0.453125 2.765625 -0.078125 2.125 -0.078125 C 1.40625 -0.078125 0.8125 -0.5625 0.8125 -1.21875 C 0.8125 -1.8125 1.25 -2.28125 1.796875 -2.53125 Z M 1.796875 -2.53125 \"/>\n",
       "</symbol>\n",
       "<symbol overflow=\"visible\" id=\"glyph-1575557357254132-0-5\">\n",
       "<path style=\"stroke:none;\" d=\"M 2.25 -1.625 C 2.375 -1.75 2.703125 -2.015625 2.84375 -2.125 C 3.328125 -2.578125 3.796875 -3.015625 3.796875 -3.734375 C 3.796875 -4.6875 3 -5.296875 2.015625 -5.296875 C 1.046875 -5.296875 0.421875 -4.578125 0.421875 -3.859375 C 0.421875 -3.46875 0.734375 -3.421875 0.84375 -3.421875 C 1.015625 -3.421875 1.265625 -3.53125 1.265625 -3.84375 C 1.265625 -4.25 0.859375 -4.25 0.765625 -4.25 C 1 -4.84375 1.53125 -5.03125 1.921875 -5.03125 C 2.65625 -5.03125 3.046875 -4.40625 3.046875 -3.734375 C 3.046875 -2.90625 2.46875 -2.296875 1.515625 -1.34375 L 0.515625 -0.296875 C 0.421875 -0.21875 0.421875 -0.203125 0.421875 0 L 3.5625 0 L 3.796875 -1.421875 L 3.546875 -1.421875 C 3.53125 -1.265625 3.46875 -0.875 3.375 -0.71875 C 3.328125 -0.65625 2.71875 -0.65625 2.59375 -0.65625 L 1.171875 -0.65625 Z M 2.25 -1.625 \"/>\n",
       "</symbol>\n",
       "<symbol overflow=\"visible\" id=\"glyph-1575557357254132-0-6\">\n",
       "<path style=\"stroke:none;\" d=\"M 3.890625 -2.546875 C 3.890625 -3.390625 3.8125 -3.90625 3.546875 -4.421875 C 3.203125 -5.125 2.546875 -5.296875 2.109375 -5.296875 C 1.109375 -5.296875 0.734375 -4.546875 0.625 -4.328125 C 0.34375 -3.75 0.328125 -2.953125 0.328125 -2.546875 C 0.328125 -2.015625 0.34375 -1.21875 0.734375 -0.578125 C 1.09375 0.015625 1.6875 0.171875 2.109375 0.171875 C 2.5 0.171875 3.171875 0.046875 3.578125 -0.734375 C 3.875 -1.3125 3.890625 -2.03125 3.890625 -2.546875 Z M 2.109375 -0.0625 C 1.84375 -0.0625 1.296875 -0.1875 1.125 -1.015625 C 1.03125 -1.46875 1.03125 -2.21875 1.03125 -2.640625 C 1.03125 -3.1875 1.03125 -3.75 1.125 -4.1875 C 1.296875 -5 1.90625 -5.078125 2.109375 -5.078125 C 2.375 -5.078125 2.9375 -4.9375 3.09375 -4.21875 C 3.1875 -3.78125 3.1875 -3.171875 3.1875 -2.640625 C 3.1875 -2.171875 3.1875 -1.453125 3.09375 -1 C 2.921875 -0.171875 2.375 -0.0625 2.109375 -0.0625 Z M 2.109375 -0.0625 \"/>\n",
       "</symbol>\n",
       "<symbol overflow=\"visible\" id=\"glyph-1575557357254132-0-7\">\n",
       "<path style=\"stroke:none;\" d=\"M 2.015625 -2.65625 C 2.640625 -2.65625 3.046875 -2.203125 3.046875 -1.359375 C 3.046875 -0.359375 2.484375 -0.078125 2.0625 -0.078125 C 1.625 -0.078125 1.015625 -0.234375 0.734375 -0.65625 C 1.03125 -0.65625 1.234375 -0.84375 1.234375 -1.09375 C 1.234375 -1.359375 1.046875 -1.53125 0.78125 -1.53125 C 0.578125 -1.53125 0.34375 -1.40625 0.34375 -1.078125 C 0.34375 -0.328125 1.15625 0.171875 2.078125 0.171875 C 3.125 0.171875 3.875 -0.5625 3.875 -1.359375 C 3.875 -2.03125 3.34375 -2.625 2.53125 -2.8125 C 3.15625 -3.03125 3.640625 -3.5625 3.640625 -4.203125 C 3.640625 -4.84375 2.921875 -5.296875 2.09375 -5.296875 C 1.234375 -5.296875 0.59375 -4.84375 0.59375 -4.234375 C 0.59375 -3.9375 0.78125 -3.8125 1 -3.8125 C 1.25 -3.8125 1.40625 -3.984375 1.40625 -4.21875 C 1.40625 -4.515625 1.140625 -4.625 0.96875 -4.625 C 1.3125 -5.0625 1.921875 -5.09375 2.0625 -5.09375 C 2.265625 -5.09375 2.875 -5.03125 2.875 -4.203125 C 2.875 -3.65625 2.640625 -3.3125 2.53125 -3.1875 C 2.296875 -2.9375 2.109375 -2.921875 1.625 -2.890625 C 1.46875 -2.890625 1.40625 -2.875 1.40625 -2.765625 C 1.40625 -2.65625 1.484375 -2.65625 1.625 -2.65625 Z M 2.015625 -2.65625 \"/>\n",
       "</symbol>\n",
       "<symbol overflow=\"visible\" id=\"glyph-1575557357254132-0-8\">\n",
       "<path style=\"stroke:none;\" d=\"M 3.140625 -5.15625 C 3.140625 -5.3125 3.140625 -5.375 2.96875 -5.375 C 2.875 -5.375 2.859375 -5.375 2.78125 -5.265625 L 0.234375 -1.5625 L 0.234375 -1.3125 L 2.484375 -1.3125 L 2.484375 -0.640625 C 2.484375 -0.34375 2.46875 -0.265625 1.84375 -0.265625 L 1.671875 -0.265625 L 1.671875 0 C 2.34375 -0.03125 2.359375 -0.03125 2.8125 -0.03125 C 3.265625 -0.03125 3.28125 -0.03125 3.953125 0 L 3.953125 -0.265625 L 3.78125 -0.265625 C 3.15625 -0.265625 3.140625 -0.34375 3.140625 -0.640625 L 3.140625 -1.3125 L 3.984375 -1.3125 L 3.984375 -1.5625 L 3.140625 -1.5625 Z M 2.546875 -4.515625 L 2.546875 -1.5625 L 0.515625 -1.5625 Z M 2.546875 -4.515625 \"/>\n",
       "</symbol>\n",
       "<symbol overflow=\"visible\" id=\"glyph-1575557357254132-1-0\">\n",
       "<path style=\"stroke:none;\" d=\"\"/>\n",
       "</symbol>\n",
       "<symbol overflow=\"visible\" id=\"glyph-1575557357254132-1-1\">\n",
       "<path style=\"stroke:none;\" d=\"M 1.625 -0.4375 C 1.625 -0.703125 1.390625 -0.890625 1.171875 -0.890625 C 0.921875 -0.890625 0.734375 -0.671875 0.734375 -0.453125 C 0.734375 -0.171875 0.953125 0 1.171875 0 C 1.421875 0 1.625 -0.203125 1.625 -0.4375 Z M 1.625 -0.4375 \"/>\n",
       "</symbol>\n",
       "<symbol overflow=\"visible\" id=\"glyph-1575557357254132-2-0\">\n",
       "<path style=\"stroke:none;\" d=\"\"/>\n",
       "</symbol>\n",
       "<symbol overflow=\"visible\" id=\"glyph-1575557357254132-2-1\">\n",
       "<path style=\"stroke:none;\" d=\"M 3.046875 -1.03125 C 3.046875 -1.40625 2.828125 -1.96875 1.875 -2.140625 C 1.8125 -2.15625 1.359375 -2.234375 1.328125 -2.234375 C 1.078125 -2.296875 0.703125 -2.46875 0.703125 -2.78125 C 0.703125 -3.015625 0.890625 -3.359375 1.640625 -3.359375 C 2.53125 -3.359375 2.578125 -2.703125 2.59375 -2.484375 C 2.59375 -2.421875 2.65625 -2.390625 2.703125 -2.390625 C 2.84375 -2.390625 2.84375 -2.453125 2.84375 -2.59375 L 2.84375 -3.34375 C 2.84375 -3.46875 2.84375 -3.546875 2.734375 -3.546875 C 2.6875 -3.546875 2.671875 -3.546875 2.546875 -3.421875 C 2.53125 -3.421875 2.453125 -3.34375 2.4375 -3.34375 C 2.4375 -3.34375 2.40625 -3.34375 2.359375 -3.375 C 2.234375 -3.46875 2 -3.546875 1.640625 -3.546875 C 0.53125 -3.546875 0.28125 -2.953125 0.28125 -2.5625 C 0.28125 -2.171875 0.578125 -1.9375 0.59375 -1.90625 C 0.921875 -1.671875 1.09375 -1.640625 1.640625 -1.546875 C 2.015625 -1.46875 2.625 -1.359375 2.625 -0.828125 C 2.625 -0.515625 2.421875 -0.140625 1.6875 -0.140625 C 0.875 -0.140625 0.640625 -0.765625 0.546875 -1.1875 C 0.515625 -1.296875 0.5 -1.328125 0.40625 -1.328125 C 0.28125 -1.328125 0.28125 -1.265625 0.28125 -1.109375 L 0.28125 -0.125 C 0.28125 0 0.28125 0.078125 0.375 0.078125 C 0.4375 0.078125 0.4375 0.078125 0.578125 -0.078125 C 0.625 -0.125 0.703125 -0.21875 0.75 -0.265625 C 1.109375 0.0625 1.484375 0.078125 1.6875 0.078125 C 2.703125 0.078125 3.046875 -0.5 3.046875 -1.03125 Z M 3.046875 -1.03125 \"/>\n",
       "</symbol>\n",
       "<symbol overflow=\"visible\" id=\"glyph-1575557357254132-2-2\">\n",
       "<path style=\"stroke:none;\" d=\"M 3.515625 -0.953125 C 3.515625 -0.984375 3.484375 -1.0625 3.390625 -1.0625 C 3.296875 -1.0625 3.28125 -1.015625 3.265625 -0.96875 C 2.984375 -0.1875 2.296875 -0.171875 2.15625 -0.171875 C 1.796875 -0.171875 1.421875 -0.328125 1.1875 -0.703125 C 0.953125 -1.0625 0.953125 -1.578125 0.953125 -1.8125 L 3.296875 -1.8125 C 3.46875 -1.8125 3.515625 -1.8125 3.515625 -2 C 3.515625 -2.703125 3.125 -3.546875 2 -3.546875 C 1.015625 -3.546875 0.234375 -2.734375 0.234375 -1.75 C 0.234375 -0.71875 1.09375 0.078125 2.109375 0.078125 C 3.109375 0.078125 3.515625 -0.765625 3.515625 -0.953125 Z M 2.96875 -2.03125 L 0.953125 -2.03125 C 1.03125 -3.140625 1.703125 -3.328125 2 -3.328125 C 2.9375 -3.328125 2.96875 -2.203125 2.96875 -2.03125 Z M 2.96875 -2.03125 \"/>\n",
       "</symbol>\n",
       "<symbol overflow=\"visible\" id=\"glyph-1575557357254132-2-3\">\n",
       "<path style=\"stroke:none;\" d=\"M 2.8125 -1 L 2.8125 -1.4375 L 2.5625 -1.4375 L 2.5625 -1.015625 C 2.5625 -0.46875 2.3125 -0.171875 2.015625 -0.171875 C 1.484375 -0.171875 1.484375 -0.859375 1.484375 -0.984375 L 1.484375 -3.171875 L 2.671875 -3.171875 L 2.671875 -3.4375 L 1.484375 -3.4375 L 1.484375 -4.90625 L 1.234375 -4.90625 C 1.234375 -4.171875 0.90625 -3.421875 0.15625 -3.390625 L 0.15625 -3.171875 L 0.875 -3.171875 L 0.875 -1 C 0.875 -0.0625 1.59375 0.078125 1.953125 0.078125 C 2.5 0.078125 2.8125 -0.390625 2.8125 -1 Z M 2.8125 -1 \"/>\n",
       "</symbol>\n",
       "<symbol overflow=\"visible\" id=\"glyph-1575557357254132-2-4\">\n",
       "<path style=\"stroke:none;\" d=\"M 3.984375 -1.703125 C 3.984375 -2.6875 3.15625 -3.546875 2.109375 -3.546875 C 1.0625 -3.546875 0.234375 -2.6875 0.234375 -1.703125 C 0.234375 -0.703125 1.09375 0.078125 2.109375 0.078125 C 3.140625 0.078125 3.984375 -0.703125 3.984375 -1.703125 Z M 3.28125 -1.765625 C 3.28125 -1.40625 3.265625 -0.96875 3.03125 -0.625 C 2.828125 -0.3125 2.46875 -0.171875 2.109375 -0.171875 C 1.6875 -0.171875 1.34375 -0.375 1.171875 -0.65625 C 0.96875 -0.984375 0.953125 -1.375 0.953125 -1.765625 C 0.953125 -2.078125 0.953125 -2.546875 1.1875 -2.890625 C 1.40625 -3.171875 1.734375 -3.328125 2.109375 -3.328125 C 2.53125 -3.328125 2.875 -3.125 3.046875 -2.859375 C 3.265625 -2.515625 3.28125 -2.09375 3.28125 -1.765625 Z M 3.28125 -1.765625 \"/>\n",
       "</symbol>\n",
       "<symbol overflow=\"visible\" id=\"glyph-1575557357254132-2-5\">\n",
       "<path style=\"stroke:none;\" d=\"M 4.09375 -0.71875 L 4.09375 -1.15625 L 3.84375 -1.15625 L 3.84375 -0.71875 C 3.84375 -0.390625 3.734375 -0.265625 3.5625 -0.265625 C 3.265625 -0.265625 3.265625 -0.625 3.265625 -0.71875 L 3.265625 -2.375 C 3.265625 -3.15625 2.515625 -3.546875 1.78125 -3.546875 C 1.125 -3.546875 0.53125 -3.296875 0.53125 -2.765625 C 0.53125 -2.53125 0.703125 -2.390625 0.90625 -2.390625 C 1.125 -2.390625 1.28125 -2.546875 1.28125 -2.765625 C 1.28125 -2.953125 1.15625 -3.09375 0.984375 -3.125 C 1.28125 -3.328125 1.71875 -3.328125 1.765625 -3.328125 C 2.21875 -3.328125 2.65625 -3.015625 2.65625 -2.359375 L 2.65625 -2.125 C 2.203125 -2.09375 1.671875 -2.078125 1.109375 -1.84375 C 0.40625 -1.53125 0.265625 -1.078125 0.265625 -0.8125 C 0.265625 -0.125 1.078125 0.078125 1.625 0.078125 C 2.203125 0.078125 2.5625 -0.25 2.734375 -0.5625 C 2.78125 -0.265625 2.984375 0.046875 3.34375 0.046875 C 3.421875 0.046875 4.09375 0.015625 4.09375 -0.71875 Z M 2.65625 -1.125 C 2.65625 -0.34375 2.015625 -0.140625 1.6875 -0.140625 C 1.28125 -0.140625 0.921875 -0.421875 0.921875 -0.8125 C 0.921875 -1.328125 1.421875 -1.875 2.65625 -1.90625 Z M 2.65625 -1.125 \"/>\n",
       "</symbol>\n",
       "<symbol overflow=\"visible\" id=\"glyph-1575557357254132-2-6\">\n",
       "<path style=\"stroke:none;\" d=\"M 4.28125 -3.171875 L 4.28125 -3.4375 C 4.015625 -3.40625 4 -3.40625 3.671875 -3.40625 C 3.59375 -3.40625 3.21875 -3.40625 2.96875 -3.4375 L 2.96875 -3.171875 C 3.25 -3.15625 3.328125 -2.984375 3.328125 -2.84375 C 3.328125 -2.765625 3.3125 -2.71875 3.28125 -2.65625 L 2.421875 -0.640625 L 1.46875 -2.8125 C 1.421875 -2.90625 1.421875 -2.96875 1.421875 -2.96875 C 1.421875 -3.171875 1.71875 -3.171875 1.84375 -3.171875 L 1.84375 -3.4375 C 1.5 -3.40625 1.125 -3.40625 0.984375 -3.40625 C 0.8125 -3.40625 0.4375 -3.40625 0.171875 -3.4375 L 0.171875 -3.171875 C 0.65625 -3.171875 0.703125 -3.125 0.828125 -2.859375 L 2.015625 -0.09375 C 2.078125 0.03125 2.125 0.078125 2.234375 0.078125 C 2.34375 0.078125 2.40625 0.015625 2.4375 -0.078125 L 3.53125 -2.609375 C 3.71875 -3.0625 4 -3.15625 4.28125 -3.171875 Z M 4.28125 -3.171875 \"/>\n",
       "</symbol>\n",
       "<symbol overflow=\"visible\" id=\"glyph-1575557357254132-2-7\">\n",
       "<path style=\"stroke:none;\" d=\"M 3.0625 -3.015625 C 3.0625 -3.296875 2.8125 -3.515625 2.453125 -3.515625 C 1.9375 -3.515625 1.578125 -3.125 1.421875 -2.671875 L 1.40625 -2.671875 L 1.40625 -3.515625 L 0.28125 -3.421875 L 0.28125 -3.15625 C 0.828125 -3.15625 0.890625 -3.109375 0.890625 -2.71875 L 0.890625 -0.625 C 0.890625 -0.265625 0.78125 -0.265625 0.28125 -0.265625 L 0.28125 0 C 0.59375 -0.03125 1.03125 -0.03125 1.21875 -0.03125 C 1.6875 -0.03125 1.703125 -0.03125 2.21875 0 L 2.21875 -0.265625 L 2.0625 -0.265625 C 1.484375 -0.265625 1.46875 -0.34375 1.46875 -0.640625 L 1.46875 -1.8125 C 1.46875 -2.421875 1.71875 -3.28125 2.484375 -3.296875 C 2.4375 -3.265625 2.34375 -3.203125 2.34375 -3.015625 C 2.34375 -2.765625 2.546875 -2.65625 2.703125 -2.65625 C 2.890625 -2.65625 3.0625 -2.78125 3.0625 -3.015625 Z M 3.0625 -3.015625 \"/>\n",
       "</symbol>\n",
       "<symbol overflow=\"visible\" id=\"glyph-1575557357254132-2-8\">\n",
       "<path style=\"stroke:none;\" d=\"M 2.078125 0 L 2.078125 -0.265625 C 1.546875 -0.265625 1.515625 -0.296875 1.515625 -0.609375 L 1.515625 -3.515625 L 0.359375 -3.421875 L 0.359375 -3.15625 C 0.875 -3.15625 0.9375 -3.109375 0.9375 -2.71875 L 0.9375 -0.625 C 0.9375 -0.265625 0.84375 -0.265625 0.328125 -0.265625 L 0.328125 0 C 0.640625 -0.03125 1.09375 -0.03125 1.21875 -0.03125 C 1.3125 -0.03125 1.796875 -0.03125 2.078125 0 Z M 1.625 -4.796875 C 1.625 -5.0625 1.40625 -5.25 1.171875 -5.25 C 0.953125 -5.25 0.734375 -5.0625 0.734375 -4.796875 C 0.734375 -4.5625 0.921875 -4.359375 1.171875 -4.359375 C 1.421875 -4.359375 1.625 -4.5625 1.625 -4.796875 Z M 1.625 -4.796875 \"/>\n",
       "</symbol>\n",
       "<symbol overflow=\"visible\" id=\"glyph-1575557357254132-2-9\">\n",
       "<path style=\"stroke:none;\" d=\"M 3.515625 -0.953125 C 3.515625 -1.046875 3.40625 -1.046875 3.390625 -1.046875 C 3.328125 -1.046875 3.296875 -1.046875 3.265625 -0.96875 C 3.21875 -0.796875 2.984375 -0.171875 2.1875 -0.171875 C 1.703125 -0.171875 0.984375 -0.546875 0.984375 -1.734375 C 0.984375 -2.875 1.578125 -3.3125 2.15625 -3.3125 C 2.234375 -3.3125 2.65625 -3.3125 2.9375 -3.15625 C 2.703125 -3.09375 2.671875 -2.90625 2.671875 -2.8125 C 2.671875 -2.59375 2.828125 -2.4375 3.046875 -2.4375 C 3.265625 -2.4375 3.421875 -2.578125 3.421875 -2.828125 C 3.421875 -3.3125 2.890625 -3.546875 2.140625 -3.546875 C 1.03125 -3.546875 0.28125 -2.671875 0.28125 -1.71875 C 0.28125 -0.703125 1.109375 0.078125 2.109375 0.078125 C 3.234375 0.078125 3.515625 -0.859375 3.515625 -0.953125 Z M 3.515625 -0.953125 \"/>\n",
       "</symbol>\n",
       "<symbol overflow=\"visible\" id=\"glyph-1575557357254132-2-10\">\n",
       "<path style=\"stroke:none;\" d=\"M 2.125 0 L 2.125 -0.265625 C 1.625 -0.265625 1.515625 -0.265625 1.515625 -0.625 L 1.515625 -5.53125 L 0.328125 -5.4375 L 0.328125 -5.171875 C 0.875 -5.171875 0.9375 -5.125 0.9375 -4.734375 L 0.9375 -0.625 C 0.9375 -0.265625 0.84375 -0.265625 0.328125 -0.265625 L 0.328125 0 C 0.640625 -0.03125 1.09375 -0.03125 1.234375 -0.03125 C 1.390625 -0.03125 1.8125 -0.03125 2.125 0 Z M 2.125 0 \"/>\n",
       "</symbol>\n",
       "<symbol overflow=\"visible\" id=\"glyph-1575557357254132-2-11\">\n",
       "<path style=\"stroke:none;\" d=\"M 4.109375 -3.203125 C 4.109375 -3.328125 4 -3.609375 3.65625 -3.609375 C 3.515625 -3.609375 3.125 -3.5625 2.765625 -3.234375 C 2.5625 -3.375 2.25 -3.515625 1.875 -3.515625 C 1.09375 -3.515625 0.515625 -2.96875 0.515625 -2.34375 C 0.515625 -1.96875 0.71875 -1.6875 0.890625 -1.53125 C 0.703125 -1.328125 0.640625 -1.078125 0.640625 -0.890625 C 0.640625 -0.5625 0.8125 -0.3125 0.984375 -0.171875 C 0.5625 -0.0625 0.234375 0.25 0.234375 0.609375 C 0.234375 1.1875 1.0625 1.640625 2.109375 1.640625 C 3.109375 1.640625 3.984375 1.234375 3.984375 0.59375 C 3.984375 0.171875 3.734375 -0.171875 3.46875 -0.296875 C 3 -0.546875 2.609375 -0.546875 1.828125 -0.546875 L 1.375 -0.546875 C 1.125 -0.578125 0.9375 -0.78125 0.9375 -1.078125 C 0.9375 -1.265625 0.984375 -1.34375 1.03125 -1.40625 C 1.375 -1.21875 1.6875 -1.171875 1.875 -1.171875 C 2.65625 -1.171875 3.25 -1.71875 3.25 -2.34375 C 3.25 -2.640625 3.109375 -2.90625 2.921875 -3.109375 C 3.03125 -3.203125 3.296875 -3.375 3.6875 -3.375 C 3.65625 -3.359375 3.609375 -3.3125 3.609375 -3.1875 C 3.609375 -3.046875 3.71875 -2.9375 3.859375 -2.9375 C 3.96875 -2.9375 4.109375 -3.015625 4.109375 -3.203125 Z M 2.609375 -2.34375 C 2.609375 -2.046875 2.578125 -1.84375 2.453125 -1.6875 C 2.28125 -1.453125 2.03125 -1.40625 1.875 -1.40625 C 1.140625 -1.40625 1.140625 -2.171875 1.140625 -2.34375 C 1.140625 -2.640625 1.171875 -2.84375 1.296875 -3 C 1.4375 -3.1875 1.65625 -3.28125 1.875 -3.28125 C 2.609375 -3.28125 2.609375 -2.515625 2.609375 -2.34375 Z M 3.515625 0.609375 C 3.515625 1.03125 2.90625 1.40625 2.109375 1.40625 C 1.3125 1.40625 0.703125 1.03125 0.703125 0.609375 C 0.703125 0.4375 0.84375 -0.03125 1.484375 -0.03125 L 2.25 -0.03125 C 2.46875 -0.03125 3.515625 -0.03125 3.515625 0.609375 Z M 3.515625 0.609375 \"/>\n",
       "</symbol>\n",
       "<symbol overflow=\"visible\" id=\"glyph-1575557357254132-2-12\">\n",
       "<path style=\"stroke:none;\" d=\"M 4.484375 0 L 4.484375 -0.265625 C 3.96875 -0.265625 3.875 -0.265625 3.875 -0.625 L 3.875 -2.421875 C 3.875 -3.078125 3.5625 -3.515625 2.734375 -3.515625 C 1.9375 -3.515625 1.578125 -2.9375 1.484375 -2.75 L 1.484375 -3.515625 L 0.328125 -3.421875 L 0.328125 -3.15625 C 0.875 -3.15625 0.9375 -3.109375 0.9375 -2.71875 L 0.9375 -0.625 C 0.9375 -0.265625 0.84375 -0.265625 0.328125 -0.265625 L 0.328125 0 C 0.671875 -0.03125 1.015625 -0.03125 1.234375 -0.03125 C 1.46875 -0.03125 1.796875 -0.03125 2.140625 0 L 2.140625 -0.265625 C 1.640625 -0.265625 1.53125 -0.265625 1.53125 -0.625 L 1.53125 -2.0625 C 1.53125 -2.90625 2.171875 -3.296875 2.65625 -3.296875 C 3.140625 -3.296875 3.265625 -2.953125 3.265625 -2.453125 L 3.265625 -0.625 C 3.265625 -0.265625 3.171875 -0.265625 2.65625 -0.265625 L 2.65625 0 C 3 -0.03125 3.359375 -0.03125 3.5625 -0.03125 C 3.796875 -0.03125 4.140625 -0.03125 4.484375 0 Z M 4.484375 0 \"/>\n",
       "</symbol>\n",
       "</g>\n",
       "<clipPath id=\"clip-1575557357254132-1\">\n",
       "  <path d=\"M 375 46 L 409.457031 46 L 409.457031 83 L 375 83 Z M 375 46 \"/>\n",
       "</clipPath>\n",
       "</defs>\n",
       "<g id=\"surface1\">\n",
       "<path style=\" stroke:none;fill-rule:nonzero;fill:rgb(100%,100%,100%);fill-opacity:1;\" d=\"M 17.660156 243.664062 L 404.835938 243.664062 L 404.835938 0.496094 L 17.660156 0.496094 Z M 17.660156 243.664062 \"/>\n",
       "<path style=\"fill:none;stroke-width:0.49814;stroke-linecap:butt;stroke-linejoin:miter;stroke:rgb(0%,0%,0%);stroke-opacity:0.1;stroke-miterlimit:10;\" d=\"M 81.979625 -0.0000625 L 81.979625 243.167906 M 183.440562 -0.0000625 L 183.440562 243.167906 M 284.9015 -0.0000625 L 284.9015 243.167906 M 386.362437 -0.0000625 L 386.362437 243.167906 \" transform=\"matrix(1,0,0,-1,17.661,243.664)\"/>\n",
       "<path style=\"fill:none;stroke-width:0.49814;stroke-linecap:butt;stroke-linejoin:miter;stroke:rgb(0%,0%,0%);stroke-opacity:0.1;stroke-miterlimit:10;\" d=\"M -0.00084375 6.88275 L 387.174937 6.88275 M -0.00084375 54.675719 L 387.174937 54.675719 M -0.00084375 102.468687 L 387.174937 102.468687 M -0.00084375 150.261656 L 387.174937 150.261656 M -0.00084375 198.054625 L 387.174937 198.054625 \" transform=\"matrix(1,0,0,-1,17.661,243.664)\"/>\n",
       "<path style=\"fill:none;stroke-width:0.19925;stroke-linecap:butt;stroke-linejoin:miter;stroke:rgb(50%,50%,50%);stroke-opacity:1;stroke-miterlimit:10;\" d=\"M 81.979625 -0.0000625 L 81.979625 4.249937 M 183.440562 -0.0000625 L 183.440562 4.249937 M 284.9015 -0.0000625 L 284.9015 4.249937 M 386.362437 -0.0000625 L 386.362437 4.249937 \" transform=\"matrix(1,0,0,-1,17.661,243.664)\"/>\n",
       "<path style=\"fill:none;stroke-width:0.19925;stroke-linecap:butt;stroke-linejoin:miter;stroke:rgb(50%,50%,50%);stroke-opacity:1;stroke-miterlimit:10;\" d=\"M -0.00084375 6.88275 L 4.253062 6.88275 M -0.00084375 54.675719 L 4.253062 54.675719 M -0.00084375 102.468687 L 4.253062 102.468687 M -0.00084375 150.261656 L 4.253062 150.261656 M -0.00084375 198.054625 L 4.253062 198.054625 \" transform=\"matrix(1,0,0,-1,17.661,243.664)\"/>\n",
       "<path style=\"fill:none;stroke-width:0.99628;stroke-linecap:butt;stroke-linejoin:miter;stroke:rgb(0%,0%,0%);stroke-opacity:1;stroke-miterlimit:10;\" d=\"M -0.00084375 -0.0000625 L 387.174937 -0.0000625 \" transform=\"matrix(1,0,0,-1,17.661,243.664)\"/>\n",
       "<path style=\"fill:none;stroke-width:0.99628;stroke-linecap:butt;stroke-linejoin:miter;stroke:rgb(0%,0%,0%);stroke-opacity:1;stroke-miterlimit:10;\" d=\"M -0.00084375 -0.0000625 L -0.00084375 243.167906 \" transform=\"matrix(1,0,0,-1,17.661,243.664)\"/>\n",
       "<g style=\"fill:rgb(0%,0%,0%);fill-opacity:1;\">\n",
       "  <use xlink:href=\"#glyph-1575557357254132-0-1\" x=\"97.523\" y=\"252.32\"/>\n",
       "</g>\n",
       "<g style=\"fill:rgb(0%,0%,0%);fill-opacity:1;\">\n",
       "  <use xlink:href=\"#glyph-1575557357254132-0-2\" x=\"198.983\" y=\"252.32\"/>\n",
       "</g>\n",
       "<g style=\"fill:rgb(0%,0%,0%);fill-opacity:1;\">\n",
       "  <use xlink:href=\"#glyph-1575557357254132-0-3\" x=\"300.443\" y=\"252.32\"/>\n",
       "</g>\n",
       "<g style=\"fill:rgb(0%,0%,0%);fill-opacity:1;\">\n",
       "  <use xlink:href=\"#glyph-1575557357254132-0-4\" x=\"401.903\" y=\"252.32\"/>\n",
       "</g>\n",
       "<g style=\"fill:rgb(0%,0%,0%);fill-opacity:1;\">\n",
       "  <use xlink:href=\"#glyph-1575557357254132-0-5\" x=\"3.321\" y=\"239.35\"/>\n",
       "</g>\n",
       "<g style=\"fill:rgb(0%,0%,0%);fill-opacity:1;\">\n",
       "  <use xlink:href=\"#glyph-1575557357254132-1-1\" x=\"7.555\" y=\"239.35\"/>\n",
       "</g>\n",
       "<g style=\"fill:rgb(0%,0%,0%);fill-opacity:1;\">\n",
       "  <use xlink:href=\"#glyph-1575557357254132-0-6\" x=\"9.907\" y=\"239.35\"/>\n",
       "</g>\n",
       "<g style=\"fill:rgb(0%,0%,0%);fill-opacity:1;\">\n",
       "  <use xlink:href=\"#glyph-1575557357254132-0-5\" x=\"3.321\" y=\"191.558\"/>\n",
       "</g>\n",
       "<g style=\"fill:rgb(0%,0%,0%);fill-opacity:1;\">\n",
       "  <use xlink:href=\"#glyph-1575557357254132-1-1\" x=\"7.555\" y=\"191.558\"/>\n",
       "</g>\n",
       "<g style=\"fill:rgb(0%,0%,0%);fill-opacity:1;\">\n",
       "  <use xlink:href=\"#glyph-1575557357254132-0-1\" x=\"9.907\" y=\"191.558\"/>\n",
       "</g>\n",
       "<g style=\"fill:rgb(0%,0%,0%);fill-opacity:1;\">\n",
       "  <use xlink:href=\"#glyph-1575557357254132-0-7\" x=\"3.321\" y=\"143.766\"/>\n",
       "</g>\n",
       "<g style=\"fill:rgb(0%,0%,0%);fill-opacity:1;\">\n",
       "  <use xlink:href=\"#glyph-1575557357254132-1-1\" x=\"7.555\" y=\"143.766\"/>\n",
       "</g>\n",
       "<g style=\"fill:rgb(0%,0%,0%);fill-opacity:1;\">\n",
       "  <use xlink:href=\"#glyph-1575557357254132-0-6\" x=\"9.907\" y=\"143.766\"/>\n",
       "</g>\n",
       "<g style=\"fill:rgb(0%,0%,0%);fill-opacity:1;\">\n",
       "  <use xlink:href=\"#glyph-1575557357254132-0-7\" x=\"3.321\" y=\"95.974\"/>\n",
       "</g>\n",
       "<g style=\"fill:rgb(0%,0%,0%);fill-opacity:1;\">\n",
       "  <use xlink:href=\"#glyph-1575557357254132-1-1\" x=\"7.555\" y=\"95.974\"/>\n",
       "</g>\n",
       "<g style=\"fill:rgb(0%,0%,0%);fill-opacity:1;\">\n",
       "  <use xlink:href=\"#glyph-1575557357254132-0-1\" x=\"9.907\" y=\"95.974\"/>\n",
       "</g>\n",
       "<g style=\"fill:rgb(0%,0%,0%);fill-opacity:1;\">\n",
       "  <use xlink:href=\"#glyph-1575557357254132-0-8\" x=\"3.321\" y=\"48.182\"/>\n",
       "</g>\n",
       "<g style=\"fill:rgb(0%,0%,0%);fill-opacity:1;\">\n",
       "  <use xlink:href=\"#glyph-1575557357254132-1-1\" x=\"7.555\" y=\"48.182\"/>\n",
       "</g>\n",
       "<g style=\"fill:rgb(0%,0%,0%);fill-opacity:1;\">\n",
       "  <use xlink:href=\"#glyph-1575557357254132-0-6\" x=\"9.907\" y=\"48.182\"/>\n",
       "</g>\n",
       "<path style=\"fill-rule:nonzero;fill:rgb(0%,60.559082%,97.866821%);fill-opacity:1;stroke-width:0.99628;stroke-linecap:butt;stroke-linejoin:miter;stroke:rgb(0%,0%,0%);stroke-opacity:1;stroke-miterlimit:10;\" d=\"M 96.112437 150.261656 C 96.112437 152.460875 94.327281 154.246031 92.128062 154.246031 C 89.924937 154.246031 88.139781 152.460875 88.139781 150.261656 C 88.139781 148.058531 89.924937 146.277281 92.128062 146.277281 C 94.327281 146.277281 96.112437 148.058531 96.112437 150.261656 Z M 96.112437 150.261656 \" transform=\"matrix(1,0,0,-1,17.661,243.664)\"/>\n",
       "<path style=\"fill-rule:nonzero;fill:rgb(0%,60.559082%,97.866821%);fill-opacity:1;stroke-width:0.99628;stroke-linecap:butt;stroke-linejoin:miter;stroke:rgb(0%,0%,0%);stroke-opacity:1;stroke-miterlimit:10;\" d=\"M 75.819469 102.468687 C 75.819469 104.667906 74.034312 106.453062 71.835094 106.453062 C 69.631969 106.453062 67.850719 104.667906 67.850719 102.468687 C 67.850719 100.265562 69.631969 98.484312 71.835094 98.484312 C 74.034312 98.484312 75.819469 100.265562 75.819469 102.468687 Z M 75.819469 102.468687 \" transform=\"matrix(1,0,0,-1,17.661,243.664)\"/>\n",
       "<path style=\"fill-rule:nonzero;fill:rgb(0%,60.559082%,97.866821%);fill-opacity:1;stroke-width:0.99628;stroke-linecap:butt;stroke-linejoin:miter;stroke:rgb(0%,0%,0%);stroke-opacity:1;stroke-miterlimit:10;\" d=\"M 55.5265 121.585875 C 55.5265 123.785094 53.741344 125.57025 51.542125 125.57025 C 49.342906 125.57025 47.55775 123.785094 47.55775 121.585875 C 47.55775 119.38275 49.342906 117.6015 51.542125 117.6015 C 53.741344 117.6015 55.5265 119.38275 55.5265 121.585875 Z M 55.5265 121.585875 \" transform=\"matrix(1,0,0,-1,17.661,243.664)\"/>\n",
       "<path style=\"fill-rule:nonzero;fill:rgb(0%,60.559082%,97.866821%);fill-opacity:1;stroke-width:0.99628;stroke-linecap:butt;stroke-linejoin:miter;stroke:rgb(0%,0%,0%);stroke-opacity:1;stroke-miterlimit:10;\" d=\"M 45.381969 112.027281 C 45.381969 114.2265 43.596812 116.011656 41.397594 116.011656 C 39.194469 116.011656 37.409312 114.2265 37.409312 112.027281 C 37.409312 109.824156 39.194469 108.042906 41.397594 108.042906 C 43.596812 108.042906 45.381969 109.824156 45.381969 112.027281 Z M 45.381969 112.027281 \" transform=\"matrix(1,0,0,-1,17.661,243.664)\"/>\n",
       "<path style=\"fill-rule:nonzero;fill:rgb(0%,60.559082%,97.866821%);fill-opacity:1;stroke-width:0.99628;stroke-linecap:butt;stroke-linejoin:miter;stroke:rgb(0%,0%,0%);stroke-opacity:1;stroke-miterlimit:10;\" d=\"M 85.964 159.82025 C 85.964 162.019469 84.18275 163.804625 81.979625 163.804625 C 79.780406 163.804625 77.99525 162.019469 77.99525 159.82025 C 77.99525 157.617125 79.780406 155.835875 81.979625 155.835875 C 84.18275 155.835875 85.964 157.617125 85.964 159.82025 Z M 85.964 159.82025 \" transform=\"matrix(1,0,0,-1,17.661,243.664)\"/>\n",
       "<path style=\"fill-rule:nonzero;fill:rgb(0%,60.559082%,97.866821%);fill-opacity:1;stroke-width:0.99628;stroke-linecap:butt;stroke-linejoin:miter;stroke:rgb(0%,0%,0%);stroke-opacity:1;stroke-miterlimit:10;\" d=\"M 126.549937 188.496031 C 126.549937 190.69525 124.764781 192.480406 122.565562 192.480406 C 120.362437 192.480406 118.581187 190.69525 118.581187 188.496031 C 118.581187 186.292906 120.362437 184.511656 122.565562 184.511656 C 124.764781 184.511656 126.549937 186.292906 126.549937 188.496031 Z M 126.549937 188.496031 \" transform=\"matrix(1,0,0,-1,17.661,243.664)\"/>\n",
       "<path style=\"fill-rule:nonzero;fill:rgb(0%,60.559082%,97.866821%);fill-opacity:1;stroke-width:0.99628;stroke-linecap:butt;stroke-linejoin:miter;stroke:rgb(0%,0%,0%);stroke-opacity:1;stroke-miterlimit:10;\" d=\"M 45.381969 140.703062 C 45.381969 142.902281 43.596812 144.687437 41.397594 144.687437 C 39.194469 144.687437 37.409312 142.902281 37.409312 140.703062 C 37.409312 138.499937 39.194469 136.718687 41.397594 136.718687 C 43.596812 136.718687 45.381969 138.499937 45.381969 140.703062 Z M 45.381969 140.703062 \" transform=\"matrix(1,0,0,-1,17.661,243.664)\"/>\n",
       "<path style=\"fill-rule:nonzero;fill:rgb(0%,60.559082%,97.866821%);fill-opacity:1;stroke-width:0.99628;stroke-linecap:butt;stroke-linejoin:miter;stroke:rgb(0%,0%,0%);stroke-opacity:1;stroke-miterlimit:10;\" d=\"M 85.964 140.703062 C 85.964 142.902281 84.18275 144.687437 81.979625 144.687437 C 79.780406 144.687437 77.99525 142.902281 77.99525 140.703062 C 77.99525 138.499937 79.780406 136.718687 81.979625 136.718687 C 84.18275 136.718687 85.964 138.499937 85.964 140.703062 Z M 85.964 140.703062 \" transform=\"matrix(1,0,0,-1,17.661,243.664)\"/>\n",
       "<path style=\"fill-rule:nonzero;fill:rgb(0%,60.559082%,97.866821%);fill-opacity:1;stroke-width:0.99628;stroke-linecap:butt;stroke-linejoin:miter;stroke:rgb(0%,0%,0%);stroke-opacity:1;stroke-miterlimit:10;\" d=\"M 25.089 92.910094 C 25.089 95.109312 23.303844 96.894469 21.104625 96.894469 C 18.9015 96.894469 17.12025 95.109312 17.12025 92.910094 C 17.12025 90.706969 18.9015 88.925719 21.104625 88.925719 C 23.303844 88.925719 25.089 90.706969 25.089 92.910094 Z M 25.089 92.910094 \" transform=\"matrix(1,0,0,-1,17.661,243.664)\"/>\n",
       "<path style=\"fill-rule:nonzero;fill:rgb(0%,60.559082%,97.866821%);fill-opacity:1;stroke-width:0.99628;stroke-linecap:butt;stroke-linejoin:miter;stroke:rgb(0%,0%,0%);stroke-opacity:1;stroke-miterlimit:10;\" d=\"M 75.819469 112.027281 C 75.819469 114.2265 74.034312 116.011656 71.835094 116.011656 C 69.631969 116.011656 67.850719 114.2265 67.850719 112.027281 C 67.850719 109.824156 69.631969 108.042906 71.835094 108.042906 C 74.034312 108.042906 75.819469 109.824156 75.819469 112.027281 Z M 75.819469 112.027281 \" transform=\"matrix(1,0,0,-1,17.661,243.664)\"/>\n",
       "<path style=\"fill-rule:nonzero;fill:rgb(0%,60.559082%,97.866821%);fill-opacity:1;stroke-width:0.99628;stroke-linecap:butt;stroke-linejoin:miter;stroke:rgb(0%,0%,0%);stroke-opacity:1;stroke-miterlimit:10;\" d=\"M 126.549937 169.378844 C 126.549937 171.578062 124.764781 173.363219 122.565562 173.363219 C 120.362437 173.363219 118.581187 171.578062 118.581187 169.378844 C 118.581187 167.175719 120.362437 165.394469 122.565562 165.394469 C 124.764781 165.394469 126.549937 167.175719 126.549937 169.378844 Z M 126.549937 169.378844 \" transform=\"matrix(1,0,0,-1,17.661,243.664)\"/>\n",
       "<path style=\"fill-rule:nonzero;fill:rgb(0%,60.559082%,97.866821%);fill-opacity:1;stroke-width:0.99628;stroke-linecap:butt;stroke-linejoin:miter;stroke:rgb(0%,0%,0%);stroke-opacity:1;stroke-miterlimit:10;\" d=\"M 65.674937 140.703062 C 65.674937 142.902281 63.889781 144.687437 61.686656 144.687437 C 59.487437 144.687437 57.702281 142.902281 57.702281 140.703062 C 57.702281 138.499937 59.487437 136.718687 61.686656 136.718687 C 63.889781 136.718687 65.674937 138.499937 65.674937 140.703062 Z M 65.674937 140.703062 \" transform=\"matrix(1,0,0,-1,17.661,243.664)\"/>\n",
       "<path style=\"fill-rule:nonzero;fill:rgb(0%,60.559082%,97.866821%);fill-opacity:1;stroke-width:0.99628;stroke-linecap:butt;stroke-linejoin:miter;stroke:rgb(0%,0%,0%);stroke-opacity:1;stroke-miterlimit:10;\" d=\"M 65.674937 102.468687 C 65.674937 104.667906 63.889781 106.453062 61.686656 106.453062 C 59.487437 106.453062 57.702281 104.667906 57.702281 102.468687 C 57.702281 100.265562 59.487437 98.484312 61.686656 98.484312 C 63.889781 98.484312 65.674937 100.265562 65.674937 102.468687 Z M 65.674937 102.468687 \" transform=\"matrix(1,0,0,-1,17.661,243.664)\"/>\n",
       "<path style=\"fill-rule:nonzero;fill:rgb(0%,60.559082%,97.866821%);fill-opacity:1;stroke-width:0.99628;stroke-linecap:butt;stroke-linejoin:miter;stroke:rgb(0%,0%,0%);stroke-opacity:1;stroke-miterlimit:10;\" d=\"M 14.944469 102.468687 C 14.944469 104.667906 13.159312 106.453062 10.956187 106.453062 C 8.756969 106.453062 6.971812 104.667906 6.971812 102.468687 C 6.971812 100.265562 8.756969 98.484312 10.956187 98.484312 C 13.159312 98.484312 14.944469 100.265562 14.944469 102.468687 Z M 14.944469 102.468687 \" transform=\"matrix(1,0,0,-1,17.661,243.664)\"/>\n",
       "<path style=\"fill-rule:nonzero;fill:rgb(0%,60.559082%,97.866821%);fill-opacity:1;stroke-width:0.99628;stroke-linecap:butt;stroke-linejoin:miter;stroke:rgb(0%,0%,0%);stroke-opacity:1;stroke-miterlimit:10;\" d=\"M 167.135875 198.054625 C 167.135875 200.253844 165.350719 202.039 163.147594 202.039 C 160.948375 202.039 159.163219 200.253844 159.163219 198.054625 C 159.163219 195.8515 160.948375 194.07025 163.147594 194.07025 C 165.350719 194.07025 167.135875 195.8515 167.135875 198.054625 Z M 167.135875 198.054625 \" transform=\"matrix(1,0,0,-1,17.661,243.664)\"/>\n",
       "<path style=\"fill-rule:nonzero;fill:rgb(0%,60.559082%,97.866821%);fill-opacity:1;stroke-width:0.99628;stroke-linecap:butt;stroke-linejoin:miter;stroke:rgb(0%,0%,0%);stroke-opacity:1;stroke-miterlimit:10;\" d=\"M 156.987437 236.289 C 156.987437 238.488219 155.202281 240.273375 153.003062 240.273375 C 150.803844 240.273375 149.018687 238.488219 149.018687 236.289 C 149.018687 234.085875 150.803844 232.304625 153.003062 232.304625 C 155.202281 232.304625 156.987437 234.085875 156.987437 236.289 Z M 156.987437 236.289 \" transform=\"matrix(1,0,0,-1,17.661,243.664)\"/>\n",
       "<path style=\"fill-rule:nonzero;fill:rgb(0%,60.559082%,97.866821%);fill-opacity:1;stroke-width:0.99628;stroke-linecap:butt;stroke-linejoin:miter;stroke:rgb(0%,0%,0%);stroke-opacity:1;stroke-miterlimit:10;\" d=\"M 126.549937 188.496031 C 126.549937 190.69525 124.764781 192.480406 122.565562 192.480406 C 120.362437 192.480406 118.581187 190.69525 118.581187 188.496031 C 118.581187 186.292906 120.362437 184.511656 122.565562 184.511656 C 124.764781 184.511656 126.549937 186.292906 126.549937 188.496031 Z M 126.549937 188.496031 \" transform=\"matrix(1,0,0,-1,17.661,243.664)\"/>\n",
       "<path style=\"fill-rule:nonzero;fill:rgb(0%,60.559082%,97.866821%);fill-opacity:1;stroke-width:0.99628;stroke-linecap:butt;stroke-linejoin:miter;stroke:rgb(0%,0%,0%);stroke-opacity:1;stroke-miterlimit:10;\" d=\"M 96.112437 150.261656 C 96.112437 152.460875 94.327281 154.246031 92.128062 154.246031 C 89.924937 154.246031 88.139781 152.460875 88.139781 150.261656 C 88.139781 148.058531 89.924937 146.277281 92.128062 146.277281 C 94.327281 146.277281 96.112437 148.058531 96.112437 150.261656 Z M 96.112437 150.261656 \" transform=\"matrix(1,0,0,-1,17.661,243.664)\"/>\n",
       "<path style=\"fill-rule:nonzero;fill:rgb(0%,60.559082%,97.866821%);fill-opacity:1;stroke-width:0.99628;stroke-linecap:butt;stroke-linejoin:miter;stroke:rgb(0%,0%,0%);stroke-opacity:1;stroke-miterlimit:10;\" d=\"M 156.987437 178.937437 C 156.987437 181.136656 155.202281 182.921812 153.003062 182.921812 C 150.803844 182.921812 149.018687 181.136656 149.018687 178.937437 C 149.018687 176.734312 150.803844 174.953062 153.003062 174.953062 C 155.202281 174.953062 156.987437 176.734312 156.987437 178.937437 Z M 156.987437 178.937437 \" transform=\"matrix(1,0,0,-1,17.661,243.664)\"/>\n",
       "<path style=\"fill-rule:nonzero;fill:rgb(0%,60.559082%,97.866821%);fill-opacity:1;stroke-width:0.99628;stroke-linecap:butt;stroke-linejoin:miter;stroke:rgb(0%,0%,0%);stroke-opacity:1;stroke-miterlimit:10;\" d=\"M 96.112437 178.937437 C 96.112437 181.136656 94.327281 182.921812 92.128062 182.921812 C 89.924937 182.921812 88.139781 181.136656 88.139781 178.937437 C 88.139781 176.734312 89.924937 174.953062 92.128062 174.953062 C 94.327281 174.953062 96.112437 176.734312 96.112437 178.937437 Z M 96.112437 178.937437 \" transform=\"matrix(1,0,0,-1,17.661,243.664)\"/>\n",
       "<path style=\"fill-rule:nonzero;fill:rgb(0%,60.559082%,97.866821%);fill-opacity:1;stroke-width:0.99628;stroke-linecap:butt;stroke-linejoin:miter;stroke:rgb(0%,0%,0%);stroke-opacity:1;stroke-miterlimit:10;\" d=\"M 126.549937 140.703062 C 126.549937 142.902281 124.764781 144.687437 122.565562 144.687437 C 120.362437 144.687437 118.581187 142.902281 118.581187 140.703062 C 118.581187 138.499937 120.362437 136.718687 122.565562 136.718687 C 124.764781 136.718687 126.549937 138.499937 126.549937 140.703062 Z M 126.549937 140.703062 \" transform=\"matrix(1,0,0,-1,17.661,243.664)\"/>\n",
       "<path style=\"fill-rule:nonzero;fill:rgb(0%,60.559082%,97.866821%);fill-opacity:1;stroke-width:0.99628;stroke-linecap:butt;stroke-linejoin:miter;stroke:rgb(0%,0%,0%);stroke-opacity:1;stroke-miterlimit:10;\" d=\"M 96.112437 169.378844 C 96.112437 171.578062 94.327281 173.363219 92.128062 173.363219 C 89.924937 173.363219 88.139781 171.578062 88.139781 169.378844 C 88.139781 167.175719 89.924937 165.394469 92.128062 165.394469 C 94.327281 165.394469 96.112437 167.175719 96.112437 169.378844 Z M 96.112437 169.378844 \" transform=\"matrix(1,0,0,-1,17.661,243.664)\"/>\n",
       "<path style=\"fill-rule:nonzero;fill:rgb(0%,60.559082%,97.866821%);fill-opacity:1;stroke-width:0.99628;stroke-linecap:butt;stroke-linejoin:miter;stroke:rgb(0%,0%,0%);stroke-opacity:1;stroke-miterlimit:10;\" d=\"M 45.381969 159.82025 C 45.381969 162.019469 43.596812 163.804625 41.397594 163.804625 C 39.194469 163.804625 37.409312 162.019469 37.409312 159.82025 C 37.409312 157.617125 39.194469 155.835875 41.397594 155.835875 C 43.596812 155.835875 45.381969 157.617125 45.381969 159.82025 Z M 45.381969 159.82025 \" transform=\"matrix(1,0,0,-1,17.661,243.664)\"/>\n",
       "<path style=\"fill-rule:nonzero;fill:rgb(0%,60.559082%,97.866821%);fill-opacity:1;stroke-width:0.99628;stroke-linecap:butt;stroke-linejoin:miter;stroke:rgb(0%,0%,0%);stroke-opacity:1;stroke-miterlimit:10;\" d=\"M 96.112437 131.144469 C 96.112437 133.343687 94.327281 135.128844 92.128062 135.128844 C 89.924937 135.128844 88.139781 133.343687 88.139781 131.144469 C 88.139781 128.941344 89.924937 127.160094 92.128062 127.160094 C 94.327281 127.160094 96.112437 128.941344 96.112437 131.144469 Z M 96.112437 131.144469 \" transform=\"matrix(1,0,0,-1,17.661,243.664)\"/>\n",
       "<path style=\"fill-rule:nonzero;fill:rgb(0%,60.559082%,97.866821%);fill-opacity:1;stroke-width:0.99628;stroke-linecap:butt;stroke-linejoin:miter;stroke:rgb(0%,0%,0%);stroke-opacity:1;stroke-miterlimit:10;\" d=\"M 65.674937 140.703062 C 65.674937 142.902281 63.889781 144.687437 61.686656 144.687437 C 59.487437 144.687437 57.702281 142.902281 57.702281 140.703062 C 57.702281 138.499937 59.487437 136.718687 61.686656 136.718687 C 63.889781 136.718687 65.674937 138.499937 65.674937 140.703062 Z M 65.674937 140.703062 \" transform=\"matrix(1,0,0,-1,17.661,243.664)\"/>\n",
       "<path style=\"fill-rule:nonzero;fill:rgb(0%,60.559082%,97.866821%);fill-opacity:1;stroke-width:0.99628;stroke-linecap:butt;stroke-linejoin:miter;stroke:rgb(0%,0%,0%);stroke-opacity:1;stroke-miterlimit:10;\" d=\"M 85.964 102.468687 C 85.964 104.667906 84.18275 106.453062 81.979625 106.453062 C 79.780406 106.453062 77.99525 104.667906 77.99525 102.468687 C 77.99525 100.265562 79.780406 98.484312 81.979625 98.484312 C 84.18275 98.484312 85.964 100.265562 85.964 102.468687 Z M 85.964 102.468687 \" transform=\"matrix(1,0,0,-1,17.661,243.664)\"/>\n",
       "<path style=\"fill-rule:nonzero;fill:rgb(0%,60.559082%,97.866821%);fill-opacity:1;stroke-width:0.99628;stroke-linecap:butt;stroke-linejoin:miter;stroke:rgb(0%,0%,0%);stroke-opacity:1;stroke-miterlimit:10;\" d=\"M 85.964 140.703062 C 85.964 142.902281 84.18275 144.687437 81.979625 144.687437 C 79.780406 144.687437 77.99525 142.902281 77.99525 140.703062 C 77.99525 138.499937 79.780406 136.718687 81.979625 136.718687 C 84.18275 136.718687 85.964 138.499937 85.964 140.703062 Z M 85.964 140.703062 \" transform=\"matrix(1,0,0,-1,17.661,243.664)\"/>\n",
       "<path style=\"fill-rule:nonzero;fill:rgb(0%,60.559082%,97.866821%);fill-opacity:1;stroke-width:0.99628;stroke-linecap:butt;stroke-linejoin:miter;stroke:rgb(0%,0%,0%);stroke-opacity:1;stroke-miterlimit:10;\" d=\"M 106.256969 150.261656 C 106.256969 152.460875 104.471812 154.246031 102.272594 154.246031 C 100.073375 154.246031 98.288219 152.460875 98.288219 150.261656 C 98.288219 148.058531 100.073375 146.277281 102.272594 146.277281 C 104.471812 146.277281 106.256969 148.058531 106.256969 150.261656 Z M 106.256969 150.261656 \" transform=\"matrix(1,0,0,-1,17.661,243.664)\"/>\n",
       "<path style=\"fill-rule:nonzero;fill:rgb(0%,60.559082%,97.866821%);fill-opacity:1;stroke-width:0.99628;stroke-linecap:butt;stroke-linejoin:miter;stroke:rgb(0%,0%,0%);stroke-opacity:1;stroke-miterlimit:10;\" d=\"M 106.256969 140.703062 C 106.256969 142.902281 104.471812 144.687437 102.272594 144.687437 C 100.073375 144.687437 98.288219 142.902281 98.288219 140.703062 C 98.288219 138.499937 100.073375 136.718687 102.272594 136.718687 C 104.471812 136.718687 106.256969 138.499937 106.256969 140.703062 Z M 106.256969 140.703062 \" transform=\"matrix(1,0,0,-1,17.661,243.664)\"/>\n",
       "<path style=\"fill-rule:nonzero;fill:rgb(0%,60.559082%,97.866821%);fill-opacity:1;stroke-width:0.99628;stroke-linecap:butt;stroke-linejoin:miter;stroke:rgb(0%,0%,0%);stroke-opacity:1;stroke-miterlimit:10;\" d=\"M 55.5265 121.585875 C 55.5265 123.785094 53.741344 125.57025 51.542125 125.57025 C 49.342906 125.57025 47.55775 123.785094 47.55775 121.585875 C 47.55775 119.38275 49.342906 117.6015 51.542125 117.6015 C 53.741344 117.6015 55.5265 119.38275 55.5265 121.585875 Z M 55.5265 121.585875 \" transform=\"matrix(1,0,0,-1,17.661,243.664)\"/>\n",
       "<path style=\"fill-rule:nonzero;fill:rgb(0%,60.559082%,97.866821%);fill-opacity:1;stroke-width:0.99628;stroke-linecap:butt;stroke-linejoin:miter;stroke:rgb(0%,0%,0%);stroke-opacity:1;stroke-miterlimit:10;\" d=\"M 65.674937 112.027281 C 65.674937 114.2265 63.889781 116.011656 61.686656 116.011656 C 59.487437 116.011656 57.702281 114.2265 57.702281 112.027281 C 57.702281 109.824156 59.487437 108.042906 61.686656 108.042906 C 63.889781 108.042906 65.674937 109.824156 65.674937 112.027281 Z M 65.674937 112.027281 \" transform=\"matrix(1,0,0,-1,17.661,243.664)\"/>\n",
       "<path style=\"fill-rule:nonzero;fill:rgb(0%,60.559082%,97.866821%);fill-opacity:1;stroke-width:0.99628;stroke-linecap:butt;stroke-linejoin:miter;stroke:rgb(0%,0%,0%);stroke-opacity:1;stroke-miterlimit:10;\" d=\"M 126.549937 140.703062 C 126.549937 142.902281 124.764781 144.687437 122.565562 144.687437 C 120.362437 144.687437 118.581187 142.902281 118.581187 140.703062 C 118.581187 138.499937 120.362437 136.718687 122.565562 136.718687 C 124.764781 136.718687 126.549937 138.499937 126.549937 140.703062 Z M 126.549937 140.703062 \" transform=\"matrix(1,0,0,-1,17.661,243.664)\"/>\n",
       "<path style=\"fill-rule:nonzero;fill:rgb(0%,60.559082%,97.866821%);fill-opacity:1;stroke-width:0.99628;stroke-linecap:butt;stroke-linejoin:miter;stroke:rgb(0%,0%,0%);stroke-opacity:1;stroke-miterlimit:10;\" d=\"M 106.256969 207.613219 C 106.256969 209.812437 104.471812 211.597594 102.272594 211.597594 C 100.073375 211.597594 98.288219 209.812437 98.288219 207.613219 C 98.288219 205.410094 100.073375 203.628844 102.272594 203.628844 C 104.471812 203.628844 106.256969 205.410094 106.256969 207.613219 Z M 106.256969 207.613219 \" transform=\"matrix(1,0,0,-1,17.661,243.664)\"/>\n",
       "<path style=\"fill-rule:nonzero;fill:rgb(0%,60.559082%,97.866821%);fill-opacity:1;stroke-width:0.99628;stroke-linecap:butt;stroke-linejoin:miter;stroke:rgb(0%,0%,0%);stroke-opacity:1;stroke-miterlimit:10;\" d=\"M 136.694469 217.171812 C 136.694469 219.371031 134.913219 221.156187 132.710094 221.156187 C 130.510875 221.156187 128.725719 219.371031 128.725719 217.171812 C 128.725719 214.968687 130.510875 213.187437 132.710094 213.187437 C 134.913219 213.187437 136.694469 214.968687 136.694469 217.171812 Z M 136.694469 217.171812 \" transform=\"matrix(1,0,0,-1,17.661,243.664)\"/>\n",
       "<path style=\"fill-rule:nonzero;fill:rgb(0%,60.559082%,97.866821%);fill-opacity:1;stroke-width:0.99628;stroke-linecap:butt;stroke-linejoin:miter;stroke:rgb(0%,0%,0%);stroke-opacity:1;stroke-miterlimit:10;\" d=\"M 75.819469 112.027281 C 75.819469 114.2265 74.034312 116.011656 71.835094 116.011656 C 69.631969 116.011656 67.850719 114.2265 67.850719 112.027281 C 67.850719 109.824156 69.631969 108.042906 71.835094 108.042906 C 74.034312 108.042906 75.819469 109.824156 75.819469 112.027281 Z M 75.819469 112.027281 \" transform=\"matrix(1,0,0,-1,17.661,243.664)\"/>\n",
       "<path style=\"fill-rule:nonzero;fill:rgb(0%,60.559082%,97.866821%);fill-opacity:1;stroke-width:0.99628;stroke-linecap:butt;stroke-linejoin:miter;stroke:rgb(0%,0%,0%);stroke-opacity:1;stroke-miterlimit:10;\" d=\"M 85.964 121.585875 C 85.964 123.785094 84.18275 125.57025 81.979625 125.57025 C 79.780406 125.57025 77.99525 123.785094 77.99525 121.585875 C 77.99525 119.38275 79.780406 117.6015 81.979625 117.6015 C 84.18275 117.6015 85.964 119.38275 85.964 121.585875 Z M 85.964 121.585875 \" transform=\"matrix(1,0,0,-1,17.661,243.664)\"/>\n",
       "<path style=\"fill-rule:nonzero;fill:rgb(0%,60.559082%,97.866821%);fill-opacity:1;stroke-width:0.99628;stroke-linecap:butt;stroke-linejoin:miter;stroke:rgb(0%,0%,0%);stroke-opacity:1;stroke-miterlimit:10;\" d=\"M 136.694469 150.261656 C 136.694469 152.460875 134.913219 154.246031 132.710094 154.246031 C 130.510875 154.246031 128.725719 152.460875 128.725719 150.261656 C 128.725719 148.058531 130.510875 146.277281 132.710094 146.277281 C 134.913219 146.277281 136.694469 148.058531 136.694469 150.261656 Z M 136.694469 150.261656 \" transform=\"matrix(1,0,0,-1,17.661,243.664)\"/>\n",
       "<path style=\"fill-rule:nonzero;fill:rgb(0%,60.559082%,97.866821%);fill-opacity:1;stroke-width:0.99628;stroke-linecap:butt;stroke-linejoin:miter;stroke:rgb(0%,0%,0%);stroke-opacity:1;stroke-miterlimit:10;\" d=\"M 75.819469 159.82025 C 75.819469 162.019469 74.034312 163.804625 71.835094 163.804625 C 69.631969 163.804625 67.850719 162.019469 67.850719 159.82025 C 67.850719 157.617125 69.631969 155.835875 71.835094 155.835875 C 74.034312 155.835875 75.819469 157.617125 75.819469 159.82025 Z M 75.819469 159.82025 \" transform=\"matrix(1,0,0,-1,17.661,243.664)\"/>\n",
       "<path style=\"fill-rule:nonzero;fill:rgb(0%,60.559082%,97.866821%);fill-opacity:1;stroke-width:0.99628;stroke-linecap:butt;stroke-linejoin:miter;stroke:rgb(0%,0%,0%);stroke-opacity:1;stroke-miterlimit:10;\" d=\"M 25.089 102.468687 C 25.089 104.667906 23.303844 106.453062 21.104625 106.453062 C 18.9015 106.453062 17.12025 104.667906 17.12025 102.468687 C 17.12025 100.265562 18.9015 98.484312 21.104625 98.484312 C 23.303844 98.484312 25.089 100.265562 25.089 102.468687 Z M 25.089 102.468687 \" transform=\"matrix(1,0,0,-1,17.661,243.664)\"/>\n",
       "<path style=\"fill-rule:nonzero;fill:rgb(0%,60.559082%,97.866821%);fill-opacity:1;stroke-width:0.99628;stroke-linecap:butt;stroke-linejoin:miter;stroke:rgb(0%,0%,0%);stroke-opacity:1;stroke-miterlimit:10;\" d=\"M 96.112437 140.703062 C 96.112437 142.902281 94.327281 144.687437 92.128062 144.687437 C 89.924937 144.687437 88.139781 142.902281 88.139781 140.703062 C 88.139781 138.499937 89.924937 136.718687 92.128062 136.718687 C 94.327281 136.718687 96.112437 138.499937 96.112437 140.703062 Z M 96.112437 140.703062 \" transform=\"matrix(1,0,0,-1,17.661,243.664)\"/>\n",
       "<path style=\"fill-rule:nonzero;fill:rgb(0%,60.559082%,97.866821%);fill-opacity:1;stroke-width:0.99628;stroke-linecap:butt;stroke-linejoin:miter;stroke:rgb(0%,0%,0%);stroke-opacity:1;stroke-miterlimit:10;\" d=\"M 85.964 150.261656 C 85.964 152.460875 84.18275 154.246031 81.979625 154.246031 C 79.780406 154.246031 77.99525 152.460875 77.99525 150.261656 C 77.99525 148.058531 79.780406 146.277281 81.979625 146.277281 C 84.18275 146.277281 85.964 148.058531 85.964 150.261656 Z M 85.964 150.261656 \" transform=\"matrix(1,0,0,-1,17.661,243.664)\"/>\n",
       "<path style=\"fill-rule:nonzero;fill:rgb(0%,60.559082%,97.866821%);fill-opacity:1;stroke-width:0.99628;stroke-linecap:butt;stroke-linejoin:miter;stroke:rgb(0%,0%,0%);stroke-opacity:1;stroke-miterlimit:10;\" d=\"M 35.233531 35.558531 C 35.233531 37.75775 33.452281 39.542906 31.249156 39.542906 C 29.049937 39.542906 27.264781 37.75775 27.264781 35.558531 C 27.264781 33.355406 29.049937 31.574156 31.249156 31.574156 C 33.452281 31.574156 35.233531 33.355406 35.233531 35.558531 Z M 35.233531 35.558531 \" transform=\"matrix(1,0,0,-1,17.661,243.664)\"/>\n",
       "<path style=\"fill-rule:nonzero;fill:rgb(0%,60.559082%,97.866821%);fill-opacity:1;stroke-width:0.99628;stroke-linecap:butt;stroke-linejoin:miter;stroke:rgb(0%,0%,0%);stroke-opacity:1;stroke-miterlimit:10;\" d=\"M 25.089 121.585875 C 25.089 123.785094 23.303844 125.57025 21.104625 125.57025 C 18.9015 125.57025 17.12025 123.785094 17.12025 121.585875 C 17.12025 119.38275 18.9015 117.6015 21.104625 117.6015 C 23.303844 117.6015 25.089 119.38275 25.089 121.585875 Z M 25.089 121.585875 \" transform=\"matrix(1,0,0,-1,17.661,243.664)\"/>\n",
       "<path style=\"fill-rule:nonzero;fill:rgb(0%,60.559082%,97.866821%);fill-opacity:1;stroke-width:0.99628;stroke-linecap:butt;stroke-linejoin:miter;stroke:rgb(0%,0%,0%);stroke-opacity:1;stroke-miterlimit:10;\" d=\"M 85.964 150.261656 C 85.964 152.460875 84.18275 154.246031 81.979625 154.246031 C 79.780406 154.246031 77.99525 152.460875 77.99525 150.261656 C 77.99525 148.058531 79.780406 146.277281 81.979625 146.277281 C 84.18275 146.277281 85.964 148.058531 85.964 150.261656 Z M 85.964 150.261656 \" transform=\"matrix(1,0,0,-1,17.661,243.664)\"/>\n",
       "<path style=\"fill-rule:nonzero;fill:rgb(0%,60.559082%,97.866821%);fill-opacity:1;stroke-width:0.99628;stroke-linecap:butt;stroke-linejoin:miter;stroke:rgb(0%,0%,0%);stroke-opacity:1;stroke-miterlimit:10;\" d=\"M 96.112437 178.937437 C 96.112437 181.136656 94.327281 182.921812 92.128062 182.921812 C 89.924937 182.921812 88.139781 181.136656 88.139781 178.937437 C 88.139781 176.734312 89.924937 174.953062 92.128062 174.953062 C 94.327281 174.953062 96.112437 176.734312 96.112437 178.937437 Z M 96.112437 178.937437 \" transform=\"matrix(1,0,0,-1,17.661,243.664)\"/>\n",
       "<path style=\"fill-rule:nonzero;fill:rgb(0%,60.559082%,97.866821%);fill-opacity:1;stroke-width:0.99628;stroke-linecap:butt;stroke-linejoin:miter;stroke:rgb(0%,0%,0%);stroke-opacity:1;stroke-miterlimit:10;\" d=\"M 65.674937 102.468687 C 65.674937 104.667906 63.889781 106.453062 61.686656 106.453062 C 59.487437 106.453062 57.702281 104.667906 57.702281 102.468687 C 57.702281 100.265562 59.487437 98.484312 61.686656 98.484312 C 63.889781 98.484312 65.674937 100.265562 65.674937 102.468687 Z M 65.674937 102.468687 \" transform=\"matrix(1,0,0,-1,17.661,243.664)\"/>\n",
       "<path style=\"fill-rule:nonzero;fill:rgb(0%,60.559082%,97.866821%);fill-opacity:1;stroke-width:0.99628;stroke-linecap:butt;stroke-linejoin:miter;stroke:rgb(0%,0%,0%);stroke-opacity:1;stroke-miterlimit:10;\" d=\"M 96.112437 178.937437 C 96.112437 181.136656 94.327281 182.921812 92.128062 182.921812 C 89.924937 182.921812 88.139781 181.136656 88.139781 178.937437 C 88.139781 176.734312 89.924937 174.953062 92.128062 174.953062 C 94.327281 174.953062 96.112437 176.734312 96.112437 178.937437 Z M 96.112437 178.937437 \" transform=\"matrix(1,0,0,-1,17.661,243.664)\"/>\n",
       "<path style=\"fill-rule:nonzero;fill:rgb(0%,60.559082%,97.866821%);fill-opacity:1;stroke-width:0.99628;stroke-linecap:butt;stroke-linejoin:miter;stroke:rgb(0%,0%,0%);stroke-opacity:1;stroke-miterlimit:10;\" d=\"M 45.381969 121.585875 C 45.381969 123.785094 43.596812 125.57025 41.397594 125.57025 C 39.194469 125.57025 37.409312 123.785094 37.409312 121.585875 C 37.409312 119.38275 39.194469 117.6015 41.397594 117.6015 C 43.596812 117.6015 45.381969 119.38275 45.381969 121.585875 Z M 45.381969 121.585875 \" transform=\"matrix(1,0,0,-1,17.661,243.664)\"/>\n",
       "<path style=\"fill-rule:nonzero;fill:rgb(0%,60.559082%,97.866821%);fill-opacity:1;stroke-width:0.99628;stroke-linecap:butt;stroke-linejoin:miter;stroke:rgb(0%,0%,0%);stroke-opacity:1;stroke-miterlimit:10;\" d=\"M 116.405406 169.378844 C 116.405406 171.578062 114.62025 173.363219 112.417125 173.363219 C 110.217906 173.363219 108.43275 171.578062 108.43275 169.378844 C 108.43275 167.175719 110.217906 165.394469 112.417125 165.394469 C 114.62025 165.394469 116.405406 167.175719 116.405406 169.378844 Z M 116.405406 169.378844 \" transform=\"matrix(1,0,0,-1,17.661,243.664)\"/>\n",
       "<path style=\"fill-rule:nonzero;fill:rgb(0%,60.559082%,97.866821%);fill-opacity:1;stroke-width:0.99628;stroke-linecap:butt;stroke-linejoin:miter;stroke:rgb(0%,0%,0%);stroke-opacity:1;stroke-miterlimit:10;\" d=\"M 85.964 131.144469 C 85.964 133.343687 84.18275 135.128844 81.979625 135.128844 C 79.780406 135.128844 77.99525 133.343687 77.99525 131.144469 C 77.99525 128.941344 79.780406 127.160094 81.979625 127.160094 C 84.18275 127.160094 85.964 128.941344 85.964 131.144469 Z M 85.964 131.144469 \" transform=\"matrix(1,0,0,-1,17.661,243.664)\"/>\n",
       "<path style=\"fill-rule:nonzero;fill:rgb(88.885498%,43.563843%,27.810669%);fill-opacity:1;stroke-width:0.99628;stroke-linecap:butt;stroke-linejoin:miter;stroke:rgb(0%,0%,0%);stroke-opacity:1;stroke-miterlimit:10;\" d=\"M 288.885875 121.585875 C 288.885875 123.785094 287.104625 125.57025 284.9015 125.57025 C 282.702281 125.57025 280.917125 123.785094 280.917125 121.585875 C 280.917125 119.38275 282.702281 117.6015 284.9015 117.6015 C 287.104625 117.6015 288.885875 119.38275 288.885875 121.585875 Z M 288.885875 121.585875 \" transform=\"matrix(1,0,0,-1,17.661,243.664)\"/>\n",
       "<path style=\"fill-rule:nonzero;fill:rgb(88.885498%,43.563843%,27.810669%);fill-opacity:1;stroke-width:0.99628;stroke-linecap:butt;stroke-linejoin:miter;stroke:rgb(0%,0%,0%);stroke-opacity:1;stroke-miterlimit:10;\" d=\"M 228.010875 121.585875 C 228.010875 123.785094 226.225719 125.57025 224.0265 125.57025 C 221.823375 125.57025 220.042125 123.785094 220.042125 121.585875 C 220.042125 119.38275 221.823375 117.6015 224.0265 117.6015 C 226.225719 117.6015 228.010875 119.38275 228.010875 121.585875 Z M 228.010875 121.585875 \" transform=\"matrix(1,0,0,-1,17.661,243.664)\"/>\n",
       "<path style=\"fill-rule:nonzero;fill:rgb(88.885498%,43.563843%,27.810669%);fill-opacity:1;stroke-width:0.99628;stroke-linecap:butt;stroke-linejoin:miter;stroke:rgb(0%,0%,0%);stroke-opacity:1;stroke-miterlimit:10;\" d=\"M 278.741344 112.027281 C 278.741344 114.2265 276.956187 116.011656 274.756969 116.011656 C 272.553844 116.011656 270.772594 114.2265 270.772594 112.027281 C 270.772594 109.824156 272.553844 108.042906 274.756969 108.042906 C 276.956187 108.042906 278.741344 109.824156 278.741344 112.027281 Z M 278.741344 112.027281 \" transform=\"matrix(1,0,0,-1,17.661,243.664)\"/>\n",
       "<path style=\"fill-rule:nonzero;fill:rgb(88.885498%,43.563843%,27.810669%);fill-opacity:1;stroke-width:0.99628;stroke-linecap:butt;stroke-linejoin:miter;stroke:rgb(0%,0%,0%);stroke-opacity:1;stroke-miterlimit:10;\" d=\"M 136.694469 35.558531 C 136.694469 37.75775 134.913219 39.542906 132.710094 39.542906 C 130.510875 39.542906 128.725719 37.75775 128.725719 35.558531 C 128.725719 33.355406 130.510875 31.574156 132.710094 31.574156 C 134.913219 31.574156 136.694469 33.355406 136.694469 35.558531 Z M 136.694469 35.558531 \" transform=\"matrix(1,0,0,-1,17.661,243.664)\"/>\n",
       "<path style=\"fill-rule:nonzero;fill:rgb(88.885498%,43.563843%,27.810669%);fill-opacity:1;stroke-width:0.99628;stroke-linecap:butt;stroke-linejoin:miter;stroke:rgb(0%,0%,0%);stroke-opacity:1;stroke-miterlimit:10;\" d=\"M 238.155406 83.3515 C 238.155406 85.550719 236.374156 87.335875 234.171031 87.335875 C 231.971812 87.335875 230.186656 85.550719 230.186656 83.3515 C 230.186656 81.148375 231.971812 79.367125 234.171031 79.367125 C 236.374156 79.367125 238.155406 81.148375 238.155406 83.3515 Z M 238.155406 83.3515 \" transform=\"matrix(1,0,0,-1,17.661,243.664)\"/>\n",
       "<path style=\"fill-rule:nonzero;fill:rgb(88.885498%,43.563843%,27.810669%);fill-opacity:1;stroke-width:0.99628;stroke-linecap:butt;stroke-linejoin:miter;stroke:rgb(0%,0%,0%);stroke-opacity:1;stroke-miterlimit:10;\" d=\"M 156.987437 83.3515 C 156.987437 85.550719 155.202281 87.335875 153.003062 87.335875 C 150.803844 87.335875 149.018687 85.550719 149.018687 83.3515 C 149.018687 81.148375 150.803844 79.367125 153.003062 79.367125 C 155.202281 79.367125 156.987437 81.148375 156.987437 83.3515 Z M 156.987437 83.3515 \" transform=\"matrix(1,0,0,-1,17.661,243.664)\"/>\n",
       "<path style=\"fill-rule:nonzero;fill:rgb(88.885498%,43.563843%,27.810669%);fill-opacity:1;stroke-width:0.99628;stroke-linecap:butt;stroke-linejoin:miter;stroke:rgb(0%,0%,0%);stroke-opacity:1;stroke-miterlimit:10;\" d=\"M 217.866344 131.144469 C 217.866344 133.343687 216.081187 135.128844 213.878062 135.128844 C 211.678844 135.128844 209.893687 133.343687 209.893687 131.144469 C 209.893687 128.941344 211.678844 127.160094 213.878062 127.160094 C 216.081187 127.160094 217.866344 128.941344 217.866344 131.144469 Z M 217.866344 131.144469 \" transform=\"matrix(1,0,0,-1,17.661,243.664)\"/>\n",
       "<path style=\"fill-rule:nonzero;fill:rgb(88.885498%,43.563843%,27.810669%);fill-opacity:1;stroke-width:0.99628;stroke-linecap:butt;stroke-linejoin:miter;stroke:rgb(0%,0%,0%);stroke-opacity:1;stroke-miterlimit:10;\" d=\"M 75.819469 45.117125 C 75.819469 47.316344 74.034312 49.1015 71.835094 49.1015 C 69.631969 49.1015 67.850719 47.316344 67.850719 45.117125 C 67.850719 42.914 69.631969 41.13275 71.835094 41.13275 C 74.034312 41.13275 75.819469 42.914 75.819469 45.117125 Z M 75.819469 45.117125 \" transform=\"matrix(1,0,0,-1,17.661,243.664)\"/>\n",
       "<path style=\"fill-rule:nonzero;fill:rgb(88.885498%,43.563843%,27.810669%);fill-opacity:1;stroke-width:0.99628;stroke-linecap:butt;stroke-linejoin:miter;stroke:rgb(0%,0%,0%);stroke-opacity:1;stroke-miterlimit:10;\" d=\"M 248.303844 92.910094 C 248.303844 95.109312 246.518687 96.894469 244.319469 96.894469 C 242.116344 96.894469 240.331187 95.109312 240.331187 92.910094 C 240.331187 90.706969 242.116344 88.925719 244.319469 88.925719 C 246.518687 88.925719 248.303844 90.706969 248.303844 92.910094 Z M 248.303844 92.910094 \" transform=\"matrix(1,0,0,-1,17.661,243.664)\"/>\n",
       "<path style=\"fill-rule:nonzero;fill:rgb(88.885498%,43.563843%,27.810669%);fill-opacity:1;stroke-width:0.99628;stroke-linecap:butt;stroke-linejoin:miter;stroke:rgb(0%,0%,0%);stroke-opacity:1;stroke-miterlimit:10;\" d=\"M 106.256969 73.792906 C 106.256969 75.992125 104.471812 77.777281 102.272594 77.777281 C 100.073375 77.777281 98.288219 75.992125 98.288219 73.792906 C 98.288219 71.589781 100.073375 69.808531 102.272594 69.808531 C 104.471812 69.808531 106.256969 71.589781 106.256969 73.792906 Z M 106.256969 73.792906 \" transform=\"matrix(1,0,0,-1,17.661,243.664)\"/>\n",
       "<path style=\"fill-rule:nonzero;fill:rgb(88.885498%,43.563843%,27.810669%);fill-opacity:1;stroke-width:0.99628;stroke-linecap:butt;stroke-linejoin:miter;stroke:rgb(0%,0%,0%);stroke-opacity:1;stroke-miterlimit:10;\" d=\"M 85.964 6.88275 C 85.964 9.081969 84.18275 10.867125 81.979625 10.867125 C 79.780406 10.867125 77.99525 9.081969 77.99525 6.88275 C 77.99525 4.679625 79.780406 2.898375 81.979625 2.898375 C 84.18275 2.898375 85.964 4.679625 85.964 6.88275 Z M 85.964 6.88275 \" transform=\"matrix(1,0,0,-1,17.661,243.664)\"/>\n",
       "<path style=\"fill-rule:nonzero;fill:rgb(88.885498%,43.563843%,27.810669%);fill-opacity:1;stroke-width:0.99628;stroke-linecap:butt;stroke-linejoin:miter;stroke:rgb(0%,0%,0%);stroke-opacity:1;stroke-miterlimit:10;\" d=\"M 177.280406 102.468687 C 177.280406 104.667906 175.49525 106.453062 173.296031 106.453062 C 171.092906 106.453062 169.311656 104.667906 169.311656 102.468687 C 169.311656 100.265562 171.092906 98.484312 173.296031 98.484312 C 175.49525 98.484312 177.280406 100.265562 177.280406 102.468687 Z M 177.280406 102.468687 \" transform=\"matrix(1,0,0,-1,17.661,243.664)\"/>\n",
       "<path style=\"fill-rule:nonzero;fill:rgb(88.885498%,43.563843%,27.810669%);fill-opacity:1;stroke-width:0.99628;stroke-linecap:butt;stroke-linejoin:miter;stroke:rgb(0%,0%,0%);stroke-opacity:1;stroke-miterlimit:10;\" d=\"M 187.424937 25.999937 C 187.424937 28.199156 185.643687 29.984312 183.440562 29.984312 C 181.241344 29.984312 179.456187 28.199156 179.456187 25.999937 C 179.456187 23.796812 181.241344 22.015562 183.440562 22.015562 C 185.643687 22.015562 187.424937 23.796812 187.424937 25.999937 Z M 187.424937 25.999937 \" transform=\"matrix(1,0,0,-1,17.661,243.664)\"/>\n",
       "<path style=\"fill-rule:nonzero;fill:rgb(88.885498%,43.563843%,27.810669%);fill-opacity:1;stroke-width:0.99628;stroke-linecap:butt;stroke-linejoin:miter;stroke:rgb(0%,0%,0%);stroke-opacity:1;stroke-miterlimit:10;\" d=\"M 197.573375 92.910094 C 197.573375 95.109312 195.788219 96.894469 193.589 96.894469 C 191.385875 96.894469 189.600719 95.109312 189.600719 92.910094 C 189.600719 90.706969 191.385875 88.925719 193.589 88.925719 C 195.788219 88.925719 197.573375 90.706969 197.573375 92.910094 Z M 197.573375 92.910094 \" transform=\"matrix(1,0,0,-1,17.661,243.664)\"/>\n",
       "<path style=\"fill-rule:nonzero;fill:rgb(88.885498%,43.563843%,27.810669%);fill-opacity:1;stroke-width:0.99628;stroke-linecap:butt;stroke-linejoin:miter;stroke:rgb(0%,0%,0%);stroke-opacity:1;stroke-miterlimit:10;\" d=\"M 146.842906 92.910094 C 146.842906 95.109312 145.05775 96.894469 142.858531 96.894469 C 140.655406 96.894469 138.87025 95.109312 138.87025 92.910094 C 138.87025 90.706969 140.655406 88.925719 142.858531 88.925719 C 145.05775 88.925719 146.842906 90.706969 146.842906 92.910094 Z M 146.842906 92.910094 \" transform=\"matrix(1,0,0,-1,17.661,243.664)\"/>\n",
       "<path style=\"fill-rule:nonzero;fill:rgb(88.885498%,43.563843%,27.810669%);fill-opacity:1;stroke-width:0.99628;stroke-linecap:butt;stroke-linejoin:miter;stroke:rgb(0%,0%,0%);stroke-opacity:1;stroke-miterlimit:10;\" d=\"M 258.448375 112.027281 C 258.448375 114.2265 256.663219 116.011656 254.464 116.011656 C 252.260875 116.011656 250.479625 114.2265 250.479625 112.027281 C 250.479625 109.824156 252.260875 108.042906 254.464 108.042906 C 256.663219 108.042906 258.448375 109.824156 258.448375 112.027281 Z M 258.448375 112.027281 \" transform=\"matrix(1,0,0,-1,17.661,243.664)\"/>\n",
       "<path style=\"fill-rule:nonzero;fill:rgb(88.885498%,43.563843%,27.810669%);fill-opacity:1;stroke-width:0.99628;stroke-linecap:butt;stroke-linejoin:miter;stroke:rgb(0%,0%,0%);stroke-opacity:1;stroke-miterlimit:10;\" d=\"M 146.842906 102.468687 C 146.842906 104.667906 145.05775 106.453062 142.858531 106.453062 C 140.655406 106.453062 138.87025 104.667906 138.87025 102.468687 C 138.87025 100.265562 140.655406 98.484312 142.858531 98.484312 C 145.05775 98.484312 146.842906 100.265562 146.842906 102.468687 Z M 146.842906 102.468687 \" transform=\"matrix(1,0,0,-1,17.661,243.664)\"/>\n",
       "<path style=\"fill-rule:nonzero;fill:rgb(88.885498%,43.563843%,27.810669%);fill-opacity:1;stroke-width:0.99628;stroke-linecap:butt;stroke-linejoin:miter;stroke:rgb(0%,0%,0%);stroke-opacity:1;stroke-miterlimit:10;\" d=\"M 167.135875 73.792906 C 167.135875 75.992125 165.350719 77.777281 163.147594 77.777281 C 160.948375 77.777281 159.163219 75.992125 159.163219 73.792906 C 159.163219 71.589781 160.948375 69.808531 163.147594 69.808531 C 165.350719 69.808531 167.135875 71.589781 167.135875 73.792906 Z M 167.135875 73.792906 \" transform=\"matrix(1,0,0,-1,17.661,243.664)\"/>\n",
       "<path style=\"fill-rule:nonzero;fill:rgb(88.885498%,43.563843%,27.810669%);fill-opacity:1;stroke-width:0.99628;stroke-linecap:butt;stroke-linejoin:miter;stroke:rgb(0%,0%,0%);stroke-opacity:1;stroke-miterlimit:10;\" d=\"M 207.717906 25.999937 C 207.717906 28.199156 205.93275 29.984312 203.733531 29.984312 C 201.534312 29.984312 199.749156 28.199156 199.749156 25.999937 C 199.749156 23.796812 201.534312 22.015562 203.733531 22.015562 C 205.93275 22.015562 207.717906 23.796812 207.717906 25.999937 Z M 207.717906 25.999937 \" transform=\"matrix(1,0,0,-1,17.661,243.664)\"/>\n",
       "<path style=\"fill-rule:nonzero;fill:rgb(88.885498%,43.563843%,27.810669%);fill-opacity:1;stroke-width:0.99628;stroke-linecap:butt;stroke-linejoin:miter;stroke:rgb(0%,0%,0%);stroke-opacity:1;stroke-miterlimit:10;\" d=\"M 146.842906 54.675719 C 146.842906 56.874937 145.05775 58.660094 142.858531 58.660094 C 140.655406 58.660094 138.87025 56.874937 138.87025 54.675719 C 138.87025 52.472594 140.655406 50.691344 142.858531 50.691344 C 145.05775 50.691344 146.842906 52.472594 146.842906 54.675719 Z M 146.842906 54.675719 \" transform=\"matrix(1,0,0,-1,17.661,243.664)\"/>\n",
       "<path style=\"fill-rule:nonzero;fill:rgb(88.885498%,43.563843%,27.810669%);fill-opacity:1;stroke-width:0.99628;stroke-linecap:butt;stroke-linejoin:miter;stroke:rgb(0%,0%,0%);stroke-opacity:1;stroke-miterlimit:10;\" d=\"M 177.280406 121.585875 C 177.280406 123.785094 175.49525 125.57025 173.296031 125.57025 C 171.092906 125.57025 169.311656 123.785094 169.311656 121.585875 C 169.311656 119.38275 171.092906 117.6015 173.296031 117.6015 C 175.49525 117.6015 177.280406 119.38275 177.280406 121.585875 Z M 177.280406 121.585875 \" transform=\"matrix(1,0,0,-1,17.661,243.664)\"/>\n",
       "<path style=\"fill-rule:nonzero;fill:rgb(88.885498%,43.563843%,27.810669%);fill-opacity:1;stroke-width:0.99628;stroke-linecap:butt;stroke-linejoin:miter;stroke:rgb(0%,0%,0%);stroke-opacity:1;stroke-miterlimit:10;\" d=\"M 197.573375 83.3515 C 197.573375 85.550719 195.788219 87.335875 193.589 87.335875 C 191.385875 87.335875 189.600719 85.550719 189.600719 83.3515 C 189.600719 81.148375 191.385875 79.367125 193.589 79.367125 C 195.788219 79.367125 197.573375 81.148375 197.573375 83.3515 Z M 197.573375 83.3515 \" transform=\"matrix(1,0,0,-1,17.661,243.664)\"/>\n",
       "<path style=\"fill-rule:nonzero;fill:rgb(88.885498%,43.563843%,27.810669%);fill-opacity:1;stroke-width:0.99628;stroke-linecap:butt;stroke-linejoin:miter;stroke:rgb(0%,0%,0%);stroke-opacity:1;stroke-miterlimit:10;\" d=\"M 217.866344 54.675719 C 217.866344 56.874937 216.081187 58.660094 213.878062 58.660094 C 211.678844 58.660094 209.893687 56.874937 209.893687 54.675719 C 209.893687 52.472594 211.678844 50.691344 213.878062 50.691344 C 216.081187 50.691344 217.866344 52.472594 217.866344 54.675719 Z M 217.866344 54.675719 \" transform=\"matrix(1,0,0,-1,17.661,243.664)\"/>\n",
       "<path style=\"fill-rule:nonzero;fill:rgb(88.885498%,43.563843%,27.810669%);fill-opacity:1;stroke-width:0.99628;stroke-linecap:butt;stroke-linejoin:miter;stroke:rgb(0%,0%,0%);stroke-opacity:1;stroke-miterlimit:10;\" d=\"M 197.573375 83.3515 C 197.573375 85.550719 195.788219 87.335875 193.589 87.335875 C 191.385875 87.335875 189.600719 85.550719 189.600719 83.3515 C 189.600719 81.148375 191.385875 79.367125 193.589 79.367125 C 195.788219 79.367125 197.573375 81.148375 197.573375 83.3515 Z M 197.573375 83.3515 \" transform=\"matrix(1,0,0,-1,17.661,243.664)\"/>\n",
       "<path style=\"fill-rule:nonzero;fill:rgb(88.885498%,43.563843%,27.810669%);fill-opacity:1;stroke-width:0.99628;stroke-linecap:butt;stroke-linejoin:miter;stroke:rgb(0%,0%,0%);stroke-opacity:1;stroke-miterlimit:10;\" d=\"M 228.010875 92.910094 C 228.010875 95.109312 226.225719 96.894469 224.0265 96.894469 C 221.823375 96.894469 220.042125 95.109312 220.042125 92.910094 C 220.042125 90.706969 221.823375 88.925719 224.0265 88.925719 C 226.225719 88.925719 228.010875 90.706969 228.010875 92.910094 Z M 228.010875 92.910094 \" transform=\"matrix(1,0,0,-1,17.661,243.664)\"/>\n",
       "<path style=\"fill-rule:nonzero;fill:rgb(88.885498%,43.563843%,27.810669%);fill-opacity:1;stroke-width:0.99628;stroke-linecap:butt;stroke-linejoin:miter;stroke:rgb(0%,0%,0%);stroke-opacity:1;stroke-miterlimit:10;\" d=\"M 248.303844 102.468687 C 248.303844 104.667906 246.518687 106.453062 244.319469 106.453062 C 242.116344 106.453062 240.331187 104.667906 240.331187 102.468687 C 240.331187 100.265562 242.116344 98.484312 244.319469 98.484312 C 246.518687 98.484312 248.303844 100.265562 248.303844 102.468687 Z M 248.303844 102.468687 \" transform=\"matrix(1,0,0,-1,17.661,243.664)\"/>\n",
       "<path style=\"fill-rule:nonzero;fill:rgb(88.885498%,43.563843%,27.810669%);fill-opacity:1;stroke-width:0.99628;stroke-linecap:butt;stroke-linejoin:miter;stroke:rgb(0%,0%,0%);stroke-opacity:1;stroke-miterlimit:10;\" d=\"M 268.596812 83.3515 C 268.596812 85.550719 266.811656 87.335875 264.608531 87.335875 C 262.409312 87.335875 260.624156 85.550719 260.624156 83.3515 C 260.624156 81.148375 262.409312 79.367125 264.608531 79.367125 C 266.811656 79.367125 268.596812 81.148375 268.596812 83.3515 Z M 268.596812 83.3515 \" transform=\"matrix(1,0,0,-1,17.661,243.664)\"/>\n",
       "<path style=\"fill-rule:nonzero;fill:rgb(88.885498%,43.563843%,27.810669%);fill-opacity:1;stroke-width:0.99628;stroke-linecap:butt;stroke-linejoin:miter;stroke:rgb(0%,0%,0%);stroke-opacity:1;stroke-miterlimit:10;\" d=\"M 258.448375 102.468687 C 258.448375 104.667906 256.663219 106.453062 254.464 106.453062 C 252.260875 106.453062 250.479625 104.667906 250.479625 102.468687 C 250.479625 100.265562 252.260875 98.484312 254.464 98.484312 C 256.663219 98.484312 258.448375 100.265562 258.448375 102.468687 Z M 258.448375 102.468687 \" transform=\"matrix(1,0,0,-1,17.661,243.664)\"/>\n",
       "<path style=\"fill-rule:nonzero;fill:rgb(88.885498%,43.563843%,27.810669%);fill-opacity:1;stroke-width:0.99628;stroke-linecap:butt;stroke-linejoin:miter;stroke:rgb(0%,0%,0%);stroke-opacity:1;stroke-miterlimit:10;\" d=\"M 187.424937 92.910094 C 187.424937 95.109312 185.643687 96.894469 183.440562 96.894469 C 181.241344 96.894469 179.456187 95.109312 179.456187 92.910094 C 179.456187 90.706969 181.241344 88.925719 183.440562 88.925719 C 185.643687 88.925719 187.424937 90.706969 187.424937 92.910094 Z M 187.424937 92.910094 \" transform=\"matrix(1,0,0,-1,17.661,243.664)\"/>\n",
       "<path style=\"fill-rule:nonzero;fill:rgb(88.885498%,43.563843%,27.810669%);fill-opacity:1;stroke-width:0.99628;stroke-linecap:butt;stroke-linejoin:miter;stroke:rgb(0%,0%,0%);stroke-opacity:1;stroke-miterlimit:10;\" d=\"M 156.987437 64.234312 C 156.987437 66.433531 155.202281 68.218687 153.003062 68.218687 C 150.803844 68.218687 149.018687 66.433531 149.018687 64.234312 C 149.018687 62.031187 150.803844 60.249937 153.003062 60.249937 C 155.202281 60.249937 156.987437 62.031187 156.987437 64.234312 Z M 156.987437 64.234312 \" transform=\"matrix(1,0,0,-1,17.661,243.664)\"/>\n",
       "<path style=\"fill-rule:nonzero;fill:rgb(88.885498%,43.563843%,27.810669%);fill-opacity:1;stroke-width:0.99628;stroke-linecap:butt;stroke-linejoin:miter;stroke:rgb(0%,0%,0%);stroke-opacity:1;stroke-miterlimit:10;\" d=\"M 136.694469 45.117125 C 136.694469 47.316344 134.913219 49.1015 132.710094 49.1015 C 130.510875 49.1015 128.725719 47.316344 128.725719 45.117125 C 128.725719 42.914 130.510875 41.13275 132.710094 41.13275 C 134.913219 41.13275 136.694469 42.914 136.694469 45.117125 Z M 136.694469 45.117125 \" transform=\"matrix(1,0,0,-1,17.661,243.664)\"/>\n",
       "<path style=\"fill-rule:nonzero;fill:rgb(88.885498%,43.563843%,27.810669%);fill-opacity:1;stroke-width:0.99628;stroke-linecap:butt;stroke-linejoin:miter;stroke:rgb(0%,0%,0%);stroke-opacity:1;stroke-miterlimit:10;\" d=\"M 136.694469 45.117125 C 136.694469 47.316344 134.913219 49.1015 132.710094 49.1015 C 130.510875 49.1015 128.725719 47.316344 128.725719 45.117125 C 128.725719 42.914 130.510875 41.13275 132.710094 41.13275 C 134.913219 41.13275 136.694469 42.914 136.694469 45.117125 Z M 136.694469 45.117125 \" transform=\"matrix(1,0,0,-1,17.661,243.664)\"/>\n",
       "<path style=\"fill-rule:nonzero;fill:rgb(88.885498%,43.563843%,27.810669%);fill-opacity:1;stroke-width:0.99628;stroke-linecap:butt;stroke-linejoin:miter;stroke:rgb(0%,0%,0%);stroke-opacity:1;stroke-miterlimit:10;\" d=\"M 167.135875 73.792906 C 167.135875 75.992125 165.350719 77.777281 163.147594 77.777281 C 160.948375 77.777281 159.163219 75.992125 159.163219 73.792906 C 159.163219 71.589781 160.948375 69.808531 163.147594 69.808531 C 165.350719 69.808531 167.135875 71.589781 167.135875 73.792906 Z M 167.135875 73.792906 \" transform=\"matrix(1,0,0,-1,17.661,243.664)\"/>\n",
       "<path style=\"fill-rule:nonzero;fill:rgb(88.885498%,43.563843%,27.810669%);fill-opacity:1;stroke-width:0.99628;stroke-linecap:butt;stroke-linejoin:miter;stroke:rgb(0%,0%,0%);stroke-opacity:1;stroke-miterlimit:10;\" d=\"M 187.424937 73.792906 C 187.424937 75.992125 185.643687 77.777281 183.440562 77.777281 C 181.241344 77.777281 179.456187 75.992125 179.456187 73.792906 C 179.456187 71.589781 181.241344 69.808531 183.440562 69.808531 C 185.643687 69.808531 187.424937 71.589781 187.424937 73.792906 Z M 187.424937 73.792906 \" transform=\"matrix(1,0,0,-1,17.661,243.664)\"/>\n",
       "<path style=\"fill-rule:nonzero;fill:rgb(88.885498%,43.563843%,27.810669%);fill-opacity:1;stroke-width:0.99628;stroke-linecap:butt;stroke-linejoin:miter;stroke:rgb(0%,0%,0%);stroke-opacity:1;stroke-miterlimit:10;\" d=\"M 126.549937 102.468687 C 126.549937 104.667906 124.764781 106.453062 122.565562 106.453062 C 120.362437 106.453062 118.581187 104.667906 118.581187 102.468687 C 118.581187 100.265562 120.362437 98.484312 122.565562 98.484312 C 124.764781 98.484312 126.549937 100.265562 126.549937 102.468687 Z M 126.549937 102.468687 \" transform=\"matrix(1,0,0,-1,17.661,243.664)\"/>\n",
       "<path style=\"fill-rule:nonzero;fill:rgb(88.885498%,43.563843%,27.810669%);fill-opacity:1;stroke-width:0.99628;stroke-linecap:butt;stroke-linejoin:miter;stroke:rgb(0%,0%,0%);stroke-opacity:1;stroke-miterlimit:10;\" d=\"M 187.424937 140.703062 C 187.424937 142.902281 185.643687 144.687437 183.440562 144.687437 C 181.241344 144.687437 179.456187 142.902281 179.456187 140.703062 C 179.456187 138.499937 181.241344 136.718687 183.440562 136.718687 C 185.643687 136.718687 187.424937 138.499937 187.424937 140.703062 Z M 187.424937 140.703062 \" transform=\"matrix(1,0,0,-1,17.661,243.664)\"/>\n",
       "<path style=\"fill-rule:nonzero;fill:rgb(88.885498%,43.563843%,27.810669%);fill-opacity:1;stroke-width:0.99628;stroke-linecap:butt;stroke-linejoin:miter;stroke:rgb(0%,0%,0%);stroke-opacity:1;stroke-miterlimit:10;\" d=\"M 258.448375 112.027281 C 258.448375 114.2265 256.663219 116.011656 254.464 116.011656 C 252.260875 116.011656 250.479625 114.2265 250.479625 112.027281 C 250.479625 109.824156 252.260875 108.042906 254.464 108.042906 C 256.663219 108.042906 258.448375 109.824156 258.448375 112.027281 Z M 258.448375 112.027281 \" transform=\"matrix(1,0,0,-1,17.661,243.664)\"/>\n",
       "<path style=\"fill-rule:nonzero;fill:rgb(88.885498%,43.563843%,27.810669%);fill-opacity:1;stroke-width:0.99628;stroke-linecap:butt;stroke-linejoin:miter;stroke:rgb(0%,0%,0%);stroke-opacity:1;stroke-miterlimit:10;\" d=\"M 217.866344 35.558531 C 217.866344 37.75775 216.081187 39.542906 213.878062 39.542906 C 211.678844 39.542906 209.893687 37.75775 209.893687 35.558531 C 209.893687 33.355406 211.678844 31.574156 213.878062 31.574156 C 216.081187 31.574156 217.866344 33.355406 217.866344 35.558531 Z M 217.866344 35.558531 \" transform=\"matrix(1,0,0,-1,17.661,243.664)\"/>\n",
       "<path style=\"fill-rule:nonzero;fill:rgb(88.885498%,43.563843%,27.810669%);fill-opacity:1;stroke-width:0.99628;stroke-linecap:butt;stroke-linejoin:miter;stroke:rgb(0%,0%,0%);stroke-opacity:1;stroke-miterlimit:10;\" d=\"M 146.842906 102.468687 C 146.842906 104.667906 145.05775 106.453062 142.858531 106.453062 C 140.655406 106.453062 138.87025 104.667906 138.87025 102.468687 C 138.87025 100.265562 140.655406 98.484312 142.858531 98.484312 C 145.05775 98.484312 146.842906 100.265562 146.842906 102.468687 Z M 146.842906 102.468687 \" transform=\"matrix(1,0,0,-1,17.661,243.664)\"/>\n",
       "<path style=\"fill-rule:nonzero;fill:rgb(88.885498%,43.563843%,27.810669%);fill-opacity:1;stroke-width:0.99628;stroke-linecap:butt;stroke-linejoin:miter;stroke:rgb(0%,0%,0%);stroke-opacity:1;stroke-miterlimit:10;\" d=\"M 136.694469 54.675719 C 136.694469 56.874937 134.913219 58.660094 132.710094 58.660094 C 130.510875 58.660094 128.725719 56.874937 128.725719 54.675719 C 128.725719 52.472594 130.510875 50.691344 132.710094 50.691344 C 134.913219 50.691344 136.694469 52.472594 136.694469 54.675719 Z M 136.694469 54.675719 \" transform=\"matrix(1,0,0,-1,17.661,243.664)\"/>\n",
       "<path style=\"fill-rule:nonzero;fill:rgb(88.885498%,43.563843%,27.810669%);fill-opacity:1;stroke-width:0.99628;stroke-linecap:butt;stroke-linejoin:miter;stroke:rgb(0%,0%,0%);stroke-opacity:1;stroke-miterlimit:10;\" d=\"M 136.694469 64.234312 C 136.694469 66.433531 134.913219 68.218687 132.710094 68.218687 C 130.510875 68.218687 128.725719 66.433531 128.725719 64.234312 C 128.725719 62.031187 130.510875 60.249937 132.710094 60.249937 C 134.913219 60.249937 136.694469 62.031187 136.694469 64.234312 Z M 136.694469 64.234312 \" transform=\"matrix(1,0,0,-1,17.661,243.664)\"/>\n",
       "<path style=\"fill-rule:nonzero;fill:rgb(88.885498%,43.563843%,27.810669%);fill-opacity:1;stroke-width:0.99628;stroke-linecap:butt;stroke-linejoin:miter;stroke:rgb(0%,0%,0%);stroke-opacity:1;stroke-miterlimit:10;\" d=\"M 197.573375 102.468687 C 197.573375 104.667906 195.788219 106.453062 193.589 106.453062 C 191.385875 106.453062 189.600719 104.667906 189.600719 102.468687 C 189.600719 100.265562 191.385875 98.484312 193.589 98.484312 C 195.788219 98.484312 197.573375 100.265562 197.573375 102.468687 Z M 197.573375 102.468687 \" transform=\"matrix(1,0,0,-1,17.661,243.664)\"/>\n",
       "<path style=\"fill-rule:nonzero;fill:rgb(88.885498%,43.563843%,27.810669%);fill-opacity:1;stroke-width:0.99628;stroke-linecap:butt;stroke-linejoin:miter;stroke:rgb(0%,0%,0%);stroke-opacity:1;stroke-miterlimit:10;\" d=\"M 167.135875 64.234312 C 167.135875 66.433531 165.350719 68.218687 163.147594 68.218687 C 160.948375 68.218687 159.163219 66.433531 159.163219 64.234312 C 159.163219 62.031187 160.948375 60.249937 163.147594 60.249937 C 165.350719 60.249937 167.135875 62.031187 167.135875 64.234312 Z M 167.135875 64.234312 \" transform=\"matrix(1,0,0,-1,17.661,243.664)\"/>\n",
       "<path style=\"fill-rule:nonzero;fill:rgb(88.885498%,43.563843%,27.810669%);fill-opacity:1;stroke-width:0.99628;stroke-linecap:butt;stroke-linejoin:miter;stroke:rgb(0%,0%,0%);stroke-opacity:1;stroke-miterlimit:10;\" d=\"M 85.964 35.558531 C 85.964 37.75775 84.18275 39.542906 81.979625 39.542906 C 79.780406 39.542906 77.99525 37.75775 77.99525 35.558531 C 77.99525 33.355406 79.780406 31.574156 81.979625 31.574156 C 84.18275 31.574156 85.964 33.355406 85.964 35.558531 Z M 85.964 35.558531 \" transform=\"matrix(1,0,0,-1,17.661,243.664)\"/>\n",
       "<path style=\"fill-rule:nonzero;fill:rgb(88.885498%,43.563843%,27.810669%);fill-opacity:1;stroke-width:0.99628;stroke-linecap:butt;stroke-linejoin:miter;stroke:rgb(0%,0%,0%);stroke-opacity:1;stroke-miterlimit:10;\" d=\"M 146.842906 73.792906 C 146.842906 75.992125 145.05775 77.777281 142.858531 77.777281 C 140.655406 77.777281 138.87025 75.992125 138.87025 73.792906 C 138.87025 71.589781 140.655406 69.808531 142.858531 69.808531 C 145.05775 69.808531 146.842906 71.589781 146.842906 73.792906 Z M 146.842906 73.792906 \" transform=\"matrix(1,0,0,-1,17.661,243.664)\"/>\n",
       "<path style=\"fill-rule:nonzero;fill:rgb(88.885498%,43.563843%,27.810669%);fill-opacity:1;stroke-width:0.99628;stroke-linecap:butt;stroke-linejoin:miter;stroke:rgb(0%,0%,0%);stroke-opacity:1;stroke-miterlimit:10;\" d=\"M 156.987437 102.468687 C 156.987437 104.667906 155.202281 106.453062 153.003062 106.453062 C 150.803844 106.453062 149.018687 104.667906 149.018687 102.468687 C 149.018687 100.265562 150.803844 98.484312 153.003062 98.484312 C 155.202281 98.484312 156.987437 100.265562 156.987437 102.468687 Z M 156.987437 102.468687 \" transform=\"matrix(1,0,0,-1,17.661,243.664)\"/>\n",
       "<path style=\"fill-rule:nonzero;fill:rgb(88.885498%,43.563843%,27.810669%);fill-opacity:1;stroke-width:0.99628;stroke-linecap:butt;stroke-linejoin:miter;stroke:rgb(0%,0%,0%);stroke-opacity:1;stroke-miterlimit:10;\" d=\"M 156.987437 92.910094 C 156.987437 95.109312 155.202281 96.894469 153.003062 96.894469 C 150.803844 96.894469 149.018687 95.109312 149.018687 92.910094 C 149.018687 90.706969 150.803844 88.925719 153.003062 88.925719 C 155.202281 88.925719 156.987437 90.706969 156.987437 92.910094 Z M 156.987437 92.910094 \" transform=\"matrix(1,0,0,-1,17.661,243.664)\"/>\n",
       "<path style=\"fill-rule:nonzero;fill:rgb(88.885498%,43.563843%,27.810669%);fill-opacity:1;stroke-width:0.99628;stroke-linecap:butt;stroke-linejoin:miter;stroke:rgb(0%,0%,0%);stroke-opacity:1;stroke-miterlimit:10;\" d=\"M 207.717906 92.910094 C 207.717906 95.109312 205.93275 96.894469 203.733531 96.894469 C 201.534312 96.894469 199.749156 95.109312 199.749156 92.910094 C 199.749156 90.706969 201.534312 88.925719 203.733531 88.925719 C 205.93275 88.925719 207.717906 90.706969 207.717906 92.910094 Z M 207.717906 92.910094 \" transform=\"matrix(1,0,0,-1,17.661,243.664)\"/>\n",
       "<path style=\"fill-rule:nonzero;fill:rgb(88.885498%,43.563843%,27.810669%);fill-opacity:1;stroke-width:0.99628;stroke-linecap:butt;stroke-linejoin:miter;stroke:rgb(0%,0%,0%);stroke-opacity:1;stroke-miterlimit:10;\" d=\"M 96.112437 54.675719 C 96.112437 56.874937 94.327281 58.660094 92.128062 58.660094 C 89.924937 58.660094 88.139781 56.874937 88.139781 54.675719 C 88.139781 52.472594 89.924937 50.691344 92.128062 50.691344 C 94.327281 50.691344 96.112437 52.472594 96.112437 54.675719 Z M 96.112437 54.675719 \" transform=\"matrix(1,0,0,-1,17.661,243.664)\"/>\n",
       "<path style=\"fill-rule:nonzero;fill:rgb(88.885498%,43.563843%,27.810669%);fill-opacity:1;stroke-width:0.99628;stroke-linecap:butt;stroke-linejoin:miter;stroke:rgb(0%,0%,0%);stroke-opacity:1;stroke-miterlimit:10;\" d=\"M 156.987437 83.3515 C 156.987437 85.550719 155.202281 87.335875 153.003062 87.335875 C 150.803844 87.335875 149.018687 85.550719 149.018687 83.3515 C 149.018687 81.148375 150.803844 79.367125 153.003062 79.367125 C 155.202281 79.367125 156.987437 81.148375 156.987437 83.3515 Z M 156.987437 83.3515 \" transform=\"matrix(1,0,0,-1,17.661,243.664)\"/>\n",
       "<path style=\"fill-rule:nonzero;fill:rgb(24.221802%,64.326477%,30.44281%);fill-opacity:1;stroke-width:0.99628;stroke-linecap:butt;stroke-linejoin:miter;stroke:rgb(0%,0%,0%);stroke-opacity:1;stroke-miterlimit:10;\" d=\"M 217.866344 131.144469 C 217.866344 133.343687 216.081187 135.128844 213.878062 135.128844 C 211.678844 135.128844 209.893687 133.343687 209.893687 131.144469 C 209.893687 128.941344 211.678844 127.160094 213.878062 127.160094 C 216.081187 127.160094 217.866344 128.941344 217.866344 131.144469 Z M 217.866344 131.144469 \" transform=\"matrix(1,0,0,-1,17.661,243.664)\"/>\n",
       "<path style=\"fill-rule:nonzero;fill:rgb(24.221802%,64.326477%,30.44281%);fill-opacity:1;stroke-width:0.99628;stroke-linecap:butt;stroke-linejoin:miter;stroke:rgb(0%,0%,0%);stroke-opacity:1;stroke-miterlimit:10;\" d=\"M 167.135875 73.792906 C 167.135875 75.992125 165.350719 77.777281 163.147594 77.777281 C 160.948375 77.777281 159.163219 75.992125 159.163219 73.792906 C 159.163219 71.589781 160.948375 69.808531 163.147594 69.808531 C 165.350719 69.808531 167.135875 71.589781 167.135875 73.792906 Z M 167.135875 73.792906 \" transform=\"matrix(1,0,0,-1,17.661,243.664)\"/>\n",
       "<path style=\"fill-rule:nonzero;fill:rgb(24.221802%,64.326477%,30.44281%);fill-opacity:1;stroke-width:0.99628;stroke-linecap:butt;stroke-linejoin:miter;stroke:rgb(0%,0%,0%);stroke-opacity:1;stroke-miterlimit:10;\" d=\"M 299.034312 102.468687 C 299.034312 104.667906 297.249156 106.453062 295.049937 106.453062 C 292.846812 106.453062 291.061656 104.667906 291.061656 102.468687 C 291.061656 100.265562 292.846812 98.484312 295.049937 98.484312 C 297.249156 98.484312 299.034312 100.265562 299.034312 102.468687 Z M 299.034312 102.468687 \" transform=\"matrix(1,0,0,-1,17.661,243.664)\"/>\n",
       "<path style=\"fill-rule:nonzero;fill:rgb(24.221802%,64.326477%,30.44281%);fill-opacity:1;stroke-width:0.99628;stroke-linecap:butt;stroke-linejoin:miter;stroke:rgb(0%,0%,0%);stroke-opacity:1;stroke-miterlimit:10;\" d=\"M 217.866344 92.910094 C 217.866344 95.109312 216.081187 96.894469 213.878062 96.894469 C 211.678844 96.894469 209.893687 95.109312 209.893687 92.910094 C 209.893687 90.706969 211.678844 88.925719 213.878062 88.925719 C 216.081187 88.925719 217.866344 90.706969 217.866344 92.910094 Z M 217.866344 92.910094 \" transform=\"matrix(1,0,0,-1,17.661,243.664)\"/>\n",
       "<path style=\"fill-rule:nonzero;fill:rgb(24.221802%,64.326477%,30.44281%);fill-opacity:1;stroke-width:0.99628;stroke-linecap:butt;stroke-linejoin:miter;stroke:rgb(0%,0%,0%);stroke-opacity:1;stroke-miterlimit:10;\" d=\"M 238.155406 102.468687 C 238.155406 104.667906 236.374156 106.453062 234.171031 106.453062 C 231.971812 106.453062 230.186656 104.667906 230.186656 102.468687 C 230.186656 100.265562 231.971812 98.484312 234.171031 98.484312 C 236.374156 98.484312 238.155406 100.265562 238.155406 102.468687 Z M 238.155406 102.468687 \" transform=\"matrix(1,0,0,-1,17.661,243.664)\"/>\n",
       "<path style=\"fill-rule:nonzero;fill:rgb(24.221802%,64.326477%,30.44281%);fill-opacity:1;stroke-width:0.99628;stroke-linecap:butt;stroke-linejoin:miter;stroke:rgb(0%,0%,0%);stroke-opacity:1;stroke-miterlimit:10;\" d=\"M 349.764781 102.468687 C 349.764781 104.667906 347.979625 106.453062 345.780406 106.453062 C 343.577281 106.453062 341.792125 104.667906 341.792125 102.468687 C 341.792125 100.265562 343.577281 98.484312 345.780406 98.484312 C 347.979625 98.484312 349.764781 100.265562 349.764781 102.468687 Z M 349.764781 102.468687 \" transform=\"matrix(1,0,0,-1,17.661,243.664)\"/>\n",
       "<path style=\"fill-rule:nonzero;fill:rgb(24.221802%,64.326477%,30.44281%);fill-opacity:1;stroke-width:0.99628;stroke-linecap:butt;stroke-linejoin:miter;stroke:rgb(0%,0%,0%);stroke-opacity:1;stroke-miterlimit:10;\" d=\"M 75.819469 54.675719 C 75.819469 56.874937 74.034312 58.660094 71.835094 58.660094 C 69.631969 58.660094 67.850719 56.874937 67.850719 54.675719 C 67.850719 52.472594 69.631969 50.691344 71.835094 50.691344 C 74.034312 50.691344 75.819469 52.472594 75.819469 54.675719 Z M 75.819469 54.675719 \" transform=\"matrix(1,0,0,-1,17.661,243.664)\"/>\n",
       "<path style=\"fill-rule:nonzero;fill:rgb(24.221802%,64.326477%,30.44281%);fill-opacity:1;stroke-width:0.99628;stroke-linecap:butt;stroke-linejoin:miter;stroke:rgb(0%,0%,0%);stroke-opacity:1;stroke-miterlimit:10;\" d=\"M 319.327281 92.910094 C 319.327281 95.109312 317.542125 96.894469 315.339 96.894469 C 313.139781 96.894469 311.354625 95.109312 311.354625 92.910094 C 311.354625 90.706969 313.139781 88.925719 315.339 88.925719 C 317.542125 88.925719 319.327281 90.706969 319.327281 92.910094 Z M 319.327281 92.910094 \" transform=\"matrix(1,0,0,-1,17.661,243.664)\"/>\n",
       "<path style=\"fill-rule:nonzero;fill:rgb(24.221802%,64.326477%,30.44281%);fill-opacity:1;stroke-width:0.99628;stroke-linecap:butt;stroke-linejoin:miter;stroke:rgb(0%,0%,0%);stroke-opacity:1;stroke-miterlimit:10;\" d=\"M 258.448375 54.675719 C 258.448375 56.874937 256.663219 58.660094 254.464 58.660094 C 252.260875 58.660094 250.479625 56.874937 250.479625 54.675719 C 250.479625 52.472594 252.260875 50.691344 254.464 50.691344 C 256.663219 50.691344 258.448375 52.472594 258.448375 54.675719 Z M 258.448375 54.675719 \" transform=\"matrix(1,0,0,-1,17.661,243.664)\"/>\n",
       "<path style=\"fill-rule:nonzero;fill:rgb(24.221802%,64.326477%,30.44281%);fill-opacity:1;stroke-width:0.99628;stroke-linecap:butt;stroke-linejoin:miter;stroke:rgb(0%,0%,0%);stroke-opacity:1;stroke-miterlimit:10;\" d=\"M 309.178844 159.82025 C 309.178844 162.019469 307.393687 163.804625 305.194469 163.804625 C 302.991344 163.804625 301.210094 162.019469 301.210094 159.82025 C 301.210094 157.617125 302.991344 155.835875 305.194469 155.835875 C 307.393687 155.835875 309.178844 157.617125 309.178844 159.82025 Z M 309.178844 159.82025 \" transform=\"matrix(1,0,0,-1,17.661,243.664)\"/>\n",
       "<path style=\"fill-rule:nonzero;fill:rgb(24.221802%,64.326477%,30.44281%);fill-opacity:1;stroke-width:0.99628;stroke-linecap:butt;stroke-linejoin:miter;stroke:rgb(0%,0%,0%);stroke-opacity:1;stroke-miterlimit:10;\" d=\"M 238.155406 121.585875 C 238.155406 123.785094 236.374156 125.57025 234.171031 125.57025 C 231.971812 125.57025 230.186656 123.785094 230.186656 121.585875 C 230.186656 119.38275 231.971812 117.6015 234.171031 117.6015 C 236.374156 117.6015 238.155406 119.38275 238.155406 121.585875 Z M 238.155406 121.585875 \" transform=\"matrix(1,0,0,-1,17.661,243.664)\"/>\n",
       "<path style=\"fill-rule:nonzero;fill:rgb(24.221802%,64.326477%,30.44281%);fill-opacity:1;stroke-width:0.99628;stroke-linecap:butt;stroke-linejoin:miter;stroke:rgb(0%,0%,0%);stroke-opacity:1;stroke-miterlimit:10;\" d=\"M 228.010875 73.792906 C 228.010875 75.992125 226.225719 77.777281 224.0265 77.777281 C 221.823375 77.777281 220.042125 75.992125 220.042125 73.792906 C 220.042125 71.589781 221.823375 69.808531 224.0265 69.808531 C 226.225719 69.808531 228.010875 71.589781 228.010875 73.792906 Z M 228.010875 73.792906 \" transform=\"matrix(1,0,0,-1,17.661,243.664)\"/>\n",
       "<path style=\"fill-rule:nonzero;fill:rgb(24.221802%,64.326477%,30.44281%);fill-opacity:1;stroke-width:0.99628;stroke-linecap:butt;stroke-linejoin:miter;stroke:rgb(0%,0%,0%);stroke-opacity:1;stroke-miterlimit:10;\" d=\"M 268.596812 102.468687 C 268.596812 104.667906 266.811656 106.453062 264.608531 106.453062 C 262.409312 106.453062 260.624156 104.667906 260.624156 102.468687 C 260.624156 100.265562 262.409312 98.484312 264.608531 98.484312 C 266.811656 98.484312 268.596812 100.265562 268.596812 102.468687 Z M 268.596812 102.468687 \" transform=\"matrix(1,0,0,-1,17.661,243.664)\"/>\n",
       "<path style=\"fill-rule:nonzero;fill:rgb(24.221802%,64.326477%,30.44281%);fill-opacity:1;stroke-width:0.99628;stroke-linecap:butt;stroke-linejoin:miter;stroke:rgb(0%,0%,0%);stroke-opacity:1;stroke-miterlimit:10;\" d=\"M 156.987437 54.675719 C 156.987437 56.874937 155.202281 58.660094 153.003062 58.660094 C 150.803844 58.660094 149.018687 56.874937 149.018687 54.675719 C 149.018687 52.472594 150.803844 50.691344 153.003062 50.691344 C 155.202281 50.691344 156.987437 52.472594 156.987437 54.675719 Z M 156.987437 54.675719 \" transform=\"matrix(1,0,0,-1,17.661,243.664)\"/>\n",
       "<path style=\"fill-rule:nonzero;fill:rgb(24.221802%,64.326477%,30.44281%);fill-opacity:1;stroke-width:0.99628;stroke-linecap:butt;stroke-linejoin:miter;stroke:rgb(0%,0%,0%);stroke-opacity:1;stroke-miterlimit:10;\" d=\"M 167.135875 83.3515 C 167.135875 85.550719 165.350719 87.335875 163.147594 87.335875 C 160.948375 87.335875 159.163219 85.550719 159.163219 83.3515 C 159.163219 81.148375 160.948375 79.367125 163.147594 79.367125 C 165.350719 79.367125 167.135875 81.148375 167.135875 83.3515 Z M 167.135875 83.3515 \" transform=\"matrix(1,0,0,-1,17.661,243.664)\"/>\n",
       "<path style=\"fill-rule:nonzero;fill:rgb(24.221802%,64.326477%,30.44281%);fill-opacity:1;stroke-width:0.99628;stroke-linecap:butt;stroke-linejoin:miter;stroke:rgb(0%,0%,0%);stroke-opacity:1;stroke-miterlimit:10;\" d=\"M 228.010875 121.585875 C 228.010875 123.785094 226.225719 125.57025 224.0265 125.57025 C 221.823375 125.57025 220.042125 123.785094 220.042125 121.585875 C 220.042125 119.38275 221.823375 117.6015 224.0265 117.6015 C 226.225719 117.6015 228.010875 119.38275 228.010875 121.585875 Z M 228.010875 121.585875 \" transform=\"matrix(1,0,0,-1,17.661,243.664)\"/>\n",
       "<path style=\"fill-rule:nonzero;fill:rgb(24.221802%,64.326477%,30.44281%);fill-opacity:1;stroke-width:0.99628;stroke-linecap:butt;stroke-linejoin:miter;stroke:rgb(0%,0%,0%);stroke-opacity:1;stroke-miterlimit:10;\" d=\"M 238.155406 102.468687 C 238.155406 104.667906 236.374156 106.453062 234.171031 106.453062 C 231.971812 106.453062 230.186656 104.667906 230.186656 102.468687 C 230.186656 100.265562 231.971812 98.484312 234.171031 98.484312 C 236.374156 98.484312 238.155406 100.265562 238.155406 102.468687 Z M 238.155406 102.468687 \" transform=\"matrix(1,0,0,-1,17.661,243.664)\"/>\n",
       "<path style=\"fill-rule:nonzero;fill:rgb(24.221802%,64.326477%,30.44281%);fill-opacity:1;stroke-width:0.99628;stroke-linecap:butt;stroke-linejoin:miter;stroke:rgb(0%,0%,0%);stroke-opacity:1;stroke-miterlimit:10;\" d=\"M 359.909312 178.937437 C 359.909312 181.136656 358.124156 182.921812 355.924937 182.921812 C 353.721812 182.921812 351.940562 181.136656 351.940562 178.937437 C 351.940562 176.734312 353.721812 174.953062 355.924937 174.953062 C 358.124156 174.953062 359.909312 176.734312 359.909312 178.937437 Z M 359.909312 178.937437 \" transform=\"matrix(1,0,0,-1,17.661,243.664)\"/>\n",
       "<path style=\"fill-rule:nonzero;fill:rgb(24.221802%,64.326477%,30.44281%);fill-opacity:1;stroke-width:0.99628;stroke-linecap:butt;stroke-linejoin:miter;stroke:rgb(0%,0%,0%);stroke-opacity:1;stroke-miterlimit:10;\" d=\"M 359.909312 64.234312 C 359.909312 66.433531 358.124156 68.218687 355.924937 68.218687 C 353.721812 68.218687 351.940562 66.433531 351.940562 64.234312 C 351.940562 62.031187 353.721812 60.249937 355.924937 60.249937 C 358.124156 60.249937 359.909312 62.031187 359.909312 64.234312 Z M 359.909312 64.234312 \" transform=\"matrix(1,0,0,-1,17.661,243.664)\"/>\n",
       "<path style=\"fill-rule:nonzero;fill:rgb(24.221802%,64.326477%,30.44281%);fill-opacity:1;stroke-width:0.99628;stroke-linecap:butt;stroke-linejoin:miter;stroke:rgb(0%,0%,0%);stroke-opacity:1;stroke-miterlimit:10;\" d=\"M 187.424937 25.999937 C 187.424937 28.199156 185.643687 29.984312 183.440562 29.984312 C 181.241344 29.984312 179.456187 28.199156 179.456187 25.999937 C 179.456187 23.796812 181.241344 22.015562 183.440562 22.015562 C 185.643687 22.015562 187.424937 23.796812 187.424937 25.999937 Z M 187.424937 25.999937 \" transform=\"matrix(1,0,0,-1,17.661,243.664)\"/>\n",
       "<path style=\"fill-rule:nonzero;fill:rgb(24.221802%,64.326477%,30.44281%);fill-opacity:1;stroke-width:0.99628;stroke-linecap:butt;stroke-linejoin:miter;stroke:rgb(0%,0%,0%);stroke-opacity:1;stroke-miterlimit:10;\" d=\"M 278.741344 121.585875 C 278.741344 123.785094 276.956187 125.57025 274.756969 125.57025 C 272.553844 125.57025 270.772594 123.785094 270.772594 121.585875 C 270.772594 119.38275 272.553844 117.6015 274.756969 117.6015 C 276.956187 117.6015 278.741344 119.38275 278.741344 121.585875 Z M 278.741344 121.585875 \" transform=\"matrix(1,0,0,-1,17.661,243.664)\"/>\n",
       "<path style=\"fill-rule:nonzero;fill:rgb(24.221802%,64.326477%,30.44281%);fill-opacity:1;stroke-width:0.99628;stroke-linecap:butt;stroke-linejoin:miter;stroke:rgb(0%,0%,0%);stroke-opacity:1;stroke-miterlimit:10;\" d=\"M 146.842906 83.3515 C 146.842906 85.550719 145.05775 87.335875 142.858531 87.335875 C 140.655406 87.335875 138.87025 85.550719 138.87025 83.3515 C 138.87025 81.148375 140.655406 79.367125 142.858531 79.367125 C 145.05775 79.367125 146.842906 81.148375 146.842906 83.3515 Z M 146.842906 83.3515 \" transform=\"matrix(1,0,0,-1,17.661,243.664)\"/>\n",
       "<path style=\"fill-rule:nonzero;fill:rgb(24.221802%,64.326477%,30.44281%);fill-opacity:1;stroke-width:0.99628;stroke-linecap:butt;stroke-linejoin:miter;stroke:rgb(0%,0%,0%);stroke-opacity:1;stroke-miterlimit:10;\" d=\"M 359.909312 83.3515 C 359.909312 85.550719 358.124156 87.335875 355.924937 87.335875 C 353.721812 87.335875 351.940562 85.550719 351.940562 83.3515 C 351.940562 81.148375 353.721812 79.367125 355.924937 79.367125 C 358.124156 79.367125 359.909312 81.148375 359.909312 83.3515 Z M 359.909312 83.3515 \" transform=\"matrix(1,0,0,-1,17.661,243.664)\"/>\n",
       "<path style=\"fill-rule:nonzero;fill:rgb(24.221802%,64.326477%,30.44281%);fill-opacity:1;stroke-width:0.99628;stroke-linecap:butt;stroke-linejoin:miter;stroke:rgb(0%,0%,0%);stroke-opacity:1;stroke-miterlimit:10;\" d=\"M 217.866344 73.792906 C 217.866344 75.992125 216.081187 77.777281 213.878062 77.777281 C 211.678844 77.777281 209.893687 75.992125 209.893687 73.792906 C 209.893687 71.589781 211.678844 69.808531 213.878062 69.808531 C 216.081187 69.808531 217.866344 71.589781 217.866344 73.792906 Z M 217.866344 73.792906 \" transform=\"matrix(1,0,0,-1,17.661,243.664)\"/>\n",
       "<path style=\"fill-rule:nonzero;fill:rgb(24.221802%,64.326477%,30.44281%);fill-opacity:1;stroke-width:0.99628;stroke-linecap:butt;stroke-linejoin:miter;stroke:rgb(0%,0%,0%);stroke-opacity:1;stroke-miterlimit:10;\" d=\"M 258.448375 131.144469 C 258.448375 133.343687 256.663219 135.128844 254.464 135.128844 C 252.260875 135.128844 250.479625 133.343687 250.479625 131.144469 C 250.479625 128.941344 252.260875 127.160094 254.464 127.160094 C 256.663219 127.160094 258.448375 128.941344 258.448375 131.144469 Z M 258.448375 131.144469 \" transform=\"matrix(1,0,0,-1,17.661,243.664)\"/>\n",
       "<path style=\"fill-rule:nonzero;fill:rgb(24.221802%,64.326477%,30.44281%);fill-opacity:1;stroke-width:0.99628;stroke-linecap:butt;stroke-linejoin:miter;stroke:rgb(0%,0%,0%);stroke-opacity:1;stroke-miterlimit:10;\" d=\"M 309.178844 121.585875 C 309.178844 123.785094 307.393687 125.57025 305.194469 125.57025 C 302.991344 125.57025 301.210094 123.785094 301.210094 121.585875 C 301.210094 119.38275 302.991344 117.6015 305.194469 117.6015 C 307.393687 117.6015 309.178844 119.38275 309.178844 121.585875 Z M 309.178844 121.585875 \" transform=\"matrix(1,0,0,-1,17.661,243.664)\"/>\n",
       "<path style=\"fill-rule:nonzero;fill:rgb(24.221802%,64.326477%,30.44281%);fill-opacity:1;stroke-width:0.99628;stroke-linecap:butt;stroke-linejoin:miter;stroke:rgb(0%,0%,0%);stroke-opacity:1;stroke-miterlimit:10;\" d=\"M 207.717906 83.3515 C 207.717906 85.550719 205.93275 87.335875 203.733531 87.335875 C 201.534312 87.335875 199.749156 85.550719 199.749156 83.3515 C 199.749156 81.148375 201.534312 79.367125 203.733531 79.367125 C 205.93275 79.367125 207.717906 81.148375 207.717906 83.3515 Z M 207.717906 83.3515 \" transform=\"matrix(1,0,0,-1,17.661,243.664)\"/>\n",
       "<path style=\"fill-rule:nonzero;fill:rgb(24.221802%,64.326477%,30.44281%);fill-opacity:1;stroke-width:0.99628;stroke-linecap:butt;stroke-linejoin:miter;stroke:rgb(0%,0%,0%);stroke-opacity:1;stroke-miterlimit:10;\" d=\"M 197.573375 102.468687 C 197.573375 104.667906 195.788219 106.453062 193.589 106.453062 C 191.385875 106.453062 189.600719 104.667906 189.600719 102.468687 C 189.600719 100.265562 191.385875 98.484312 193.589 98.484312 C 195.788219 98.484312 197.573375 100.265562 197.573375 102.468687 Z M 197.573375 102.468687 \" transform=\"matrix(1,0,0,-1,17.661,243.664)\"/>\n",
       "<path style=\"fill-rule:nonzero;fill:rgb(24.221802%,64.326477%,30.44281%);fill-opacity:1;stroke-width:0.99628;stroke-linecap:butt;stroke-linejoin:miter;stroke:rgb(0%,0%,0%);stroke-opacity:1;stroke-miterlimit:10;\" d=\"M 228.010875 83.3515 C 228.010875 85.550719 226.225719 87.335875 224.0265 87.335875 C 221.823375 87.335875 220.042125 85.550719 220.042125 83.3515 C 220.042125 81.148375 221.823375 79.367125 224.0265 79.367125 C 226.225719 79.367125 228.010875 81.148375 228.010875 83.3515 Z M 228.010875 83.3515 \" transform=\"matrix(1,0,0,-1,17.661,243.664)\"/>\n",
       "<path style=\"fill-rule:nonzero;fill:rgb(24.221802%,64.326477%,30.44281%);fill-opacity:1;stroke-width:0.99628;stroke-linecap:butt;stroke-linejoin:miter;stroke:rgb(0%,0%,0%);stroke-opacity:1;stroke-miterlimit:10;\" d=\"M 309.178844 102.468687 C 309.178844 104.667906 307.393687 106.453062 305.194469 106.453062 C 302.991344 106.453062 301.210094 104.667906 301.210094 102.468687 C 301.210094 100.265562 302.991344 98.484312 305.194469 98.484312 C 307.393687 98.484312 309.178844 100.265562 309.178844 102.468687 Z M 309.178844 102.468687 \" transform=\"matrix(1,0,0,-1,17.661,243.664)\"/>\n",
       "<path style=\"fill-rule:nonzero;fill:rgb(24.221802%,64.326477%,30.44281%);fill-opacity:1;stroke-width:0.99628;stroke-linecap:butt;stroke-linejoin:miter;stroke:rgb(0%,0%,0%);stroke-opacity:1;stroke-miterlimit:10;\" d=\"M 329.471812 83.3515 C 329.471812 85.550719 327.686656 87.335875 325.487437 87.335875 C 323.284312 87.335875 321.503062 85.550719 321.503062 83.3515 C 321.503062 81.148375 323.284312 79.367125 325.487437 79.367125 C 327.686656 79.367125 329.471812 81.148375 329.471812 83.3515 Z M 329.471812 83.3515 \" transform=\"matrix(1,0,0,-1,17.661,243.664)\"/>\n",
       "<path style=\" stroke:none;fill-rule:nonzero;fill:rgb(24.221802%,64.326477%,30.44281%);fill-opacity:1;\" d=\"M 397.863281 64.726562 C 397.863281 62.527344 396.078125 60.742188 393.878906 60.742188 C 391.675781 60.742188 389.894531 62.527344 389.894531 64.726562 C 389.894531 66.929688 391.675781 68.710938 393.878906 68.710938 C 396.078125 68.710938 397.863281 66.929688 397.863281 64.726562 Z M 397.863281 64.726562 \"/>\n",
       "<g clip-path=\"url(#clip-1575557357254132-1)\" clip-rule=\"nonzero\">\n",
       "<path style=\"fill:none;stroke-width:0.99628;stroke-linecap:butt;stroke-linejoin:miter;stroke:rgb(0%,0%,0%);stroke-opacity:1;stroke-miterlimit:10;\" d=\"M 380.202281 178.937437 C 380.202281 181.136656 378.417125 182.921812 376.217906 182.921812 C 374.014781 182.921812 372.233531 181.136656 372.233531 178.937437 C 372.233531 176.734312 374.014781 174.953062 376.217906 174.953062 C 378.417125 174.953062 380.202281 176.734312 380.202281 178.937437 Z M 380.202281 178.937437 \" transform=\"matrix(1,0,0,-1,17.661,243.664)\"/>\n",
       "</g>\n",
       "<path style=\"fill-rule:nonzero;fill:rgb(24.221802%,64.326477%,30.44281%);fill-opacity:1;stroke-width:0.99628;stroke-linecap:butt;stroke-linejoin:miter;stroke:rgb(0%,0%,0%);stroke-opacity:1;stroke-miterlimit:10;\" d=\"M 228.010875 83.3515 C 228.010875 85.550719 226.225719 87.335875 224.0265 87.335875 C 221.823375 87.335875 220.042125 85.550719 220.042125 83.3515 C 220.042125 81.148375 221.823375 79.367125 224.0265 79.367125 C 226.225719 79.367125 228.010875 81.148375 228.010875 83.3515 Z M 228.010875 83.3515 \" transform=\"matrix(1,0,0,-1,17.661,243.664)\"/>\n",
       "<path style=\"fill-rule:nonzero;fill:rgb(24.221802%,64.326477%,30.44281%);fill-opacity:1;stroke-width:0.99628;stroke-linecap:butt;stroke-linejoin:miter;stroke:rgb(0%,0%,0%);stroke-opacity:1;stroke-miterlimit:10;\" d=\"M 217.866344 83.3515 C 217.866344 85.550719 216.081187 87.335875 213.878062 87.335875 C 211.678844 87.335875 209.893687 85.550719 209.893687 83.3515 C 209.893687 81.148375 211.678844 79.367125 213.878062 79.367125 C 216.081187 79.367125 217.866344 81.148375 217.866344 83.3515 Z M 217.866344 83.3515 \" transform=\"matrix(1,0,0,-1,17.661,243.664)\"/>\n",
       "<path style=\"fill-rule:nonzero;fill:rgb(24.221802%,64.326477%,30.44281%);fill-opacity:1;stroke-width:0.99628;stroke-linecap:butt;stroke-linejoin:miter;stroke:rgb(0%,0%,0%);stroke-opacity:1;stroke-miterlimit:10;\" d=\"M 197.573375 64.234312 C 197.573375 66.433531 195.788219 68.218687 193.589 68.218687 C 191.385875 68.218687 189.600719 66.433531 189.600719 64.234312 C 189.600719 62.031187 191.385875 60.249937 193.589 60.249937 C 195.788219 60.249937 197.573375 62.031187 197.573375 64.234312 Z M 197.573375 64.234312 \" transform=\"matrix(1,0,0,-1,17.661,243.664)\"/>\n",
       "<path style=\"fill-rule:nonzero;fill:rgb(24.221802%,64.326477%,30.44281%);fill-opacity:1;stroke-width:0.99628;stroke-linecap:butt;stroke-linejoin:miter;stroke:rgb(0%,0%,0%);stroke-opacity:1;stroke-miterlimit:10;\" d=\"M 359.909312 102.468687 C 359.909312 104.667906 358.124156 106.453062 355.924937 106.453062 C 353.721812 106.453062 351.940562 104.667906 351.940562 102.468687 C 351.940562 100.265562 353.721812 98.484312 355.924937 98.484312 C 358.124156 98.484312 359.909312 100.265562 359.909312 102.468687 Z M 359.909312 102.468687 \" transform=\"matrix(1,0,0,-1,17.661,243.664)\"/>\n",
       "<path style=\"fill-rule:nonzero;fill:rgb(24.221802%,64.326477%,30.44281%);fill-opacity:1;stroke-width:0.99628;stroke-linecap:butt;stroke-linejoin:miter;stroke:rgb(0%,0%,0%);stroke-opacity:1;stroke-miterlimit:10;\" d=\"M 217.866344 140.703062 C 217.866344 142.902281 216.081187 144.687437 213.878062 144.687437 C 211.678844 144.687437 209.893687 142.902281 209.893687 140.703062 C 209.893687 138.499937 211.678844 136.718687 213.878062 136.718687 C 216.081187 136.718687 217.866344 138.499937 217.866344 140.703062 Z M 217.866344 140.703062 \" transform=\"matrix(1,0,0,-1,17.661,243.664)\"/>\n",
       "<path style=\"fill-rule:nonzero;fill:rgb(24.221802%,64.326477%,30.44281%);fill-opacity:1;stroke-width:0.99628;stroke-linecap:butt;stroke-linejoin:miter;stroke:rgb(0%,0%,0%);stroke-opacity:1;stroke-miterlimit:10;\" d=\"M 228.010875 112.027281 C 228.010875 114.2265 226.225719 116.011656 224.0265 116.011656 C 221.823375 116.011656 220.042125 114.2265 220.042125 112.027281 C 220.042125 109.824156 221.823375 108.042906 224.0265 108.042906 C 226.225719 108.042906 228.010875 109.824156 228.010875 112.027281 Z M 228.010875 112.027281 \" transform=\"matrix(1,0,0,-1,17.661,243.664)\"/>\n",
       "<path style=\"fill-rule:nonzero;fill:rgb(24.221802%,64.326477%,30.44281%);fill-opacity:1;stroke-width:0.99628;stroke-linecap:butt;stroke-linejoin:miter;stroke:rgb(0%,0%,0%);stroke-opacity:1;stroke-miterlimit:10;\" d=\"M 187.424937 102.468687 C 187.424937 104.667906 185.643687 106.453062 183.440562 106.453062 C 181.241344 106.453062 179.456187 104.667906 179.456187 102.468687 C 179.456187 100.265562 181.241344 98.484312 183.440562 98.484312 C 185.643687 98.484312 187.424937 100.265562 187.424937 102.468687 Z M 187.424937 102.468687 \" transform=\"matrix(1,0,0,-1,17.661,243.664)\"/>\n",
       "<path style=\"fill-rule:nonzero;fill:rgb(24.221802%,64.326477%,30.44281%);fill-opacity:1;stroke-width:0.99628;stroke-linecap:butt;stroke-linejoin:miter;stroke:rgb(0%,0%,0%);stroke-opacity:1;stroke-miterlimit:10;\" d=\"M 278.741344 112.027281 C 278.741344 114.2265 276.956187 116.011656 274.756969 116.011656 C 272.553844 116.011656 270.772594 114.2265 270.772594 112.027281 C 270.772594 109.824156 272.553844 108.042906 274.756969 108.042906 C 276.956187 108.042906 278.741344 109.824156 278.741344 112.027281 Z M 278.741344 112.027281 \" transform=\"matrix(1,0,0,-1,17.661,243.664)\"/>\n",
       "<path style=\"fill-rule:nonzero;fill:rgb(24.221802%,64.326477%,30.44281%);fill-opacity:1;stroke-width:0.99628;stroke-linecap:butt;stroke-linejoin:miter;stroke:rgb(0%,0%,0%);stroke-opacity:1;stroke-miterlimit:10;\" d=\"M 258.448375 112.027281 C 258.448375 114.2265 256.663219 116.011656 254.464 116.011656 C 252.260875 116.011656 250.479625 114.2265 250.479625 112.027281 C 250.479625 109.824156 252.260875 108.042906 254.464 108.042906 C 256.663219 108.042906 258.448375 109.824156 258.448375 112.027281 Z M 258.448375 112.027281 \" transform=\"matrix(1,0,0,-1,17.661,243.664)\"/>\n",
       "<path style=\"fill-rule:nonzero;fill:rgb(24.221802%,64.326477%,30.44281%);fill-opacity:1;stroke-width:0.99628;stroke-linecap:butt;stroke-linejoin:miter;stroke:rgb(0%,0%,0%);stroke-opacity:1;stroke-miterlimit:10;\" d=\"M 278.741344 112.027281 C 278.741344 114.2265 276.956187 116.011656 274.756969 116.011656 C 272.553844 116.011656 270.772594 114.2265 270.772594 112.027281 C 270.772594 109.824156 272.553844 108.042906 274.756969 108.042906 C 276.956187 108.042906 278.741344 109.824156 278.741344 112.027281 Z M 278.741344 112.027281 \" transform=\"matrix(1,0,0,-1,17.661,243.664)\"/>\n",
       "<path style=\"fill-rule:nonzero;fill:rgb(24.221802%,64.326477%,30.44281%);fill-opacity:1;stroke-width:0.99628;stroke-linecap:butt;stroke-linejoin:miter;stroke:rgb(0%,0%,0%);stroke-opacity:1;stroke-miterlimit:10;\" d=\"M 167.135875 73.792906 C 167.135875 75.992125 165.350719 77.777281 163.147594 77.777281 C 160.948375 77.777281 159.163219 75.992125 159.163219 73.792906 C 159.163219 71.589781 160.948375 69.808531 163.147594 69.808531 C 165.350719 69.808531 167.135875 71.589781 167.135875 73.792906 Z M 167.135875 73.792906 \" transform=\"matrix(1,0,0,-1,17.661,243.664)\"/>\n",
       "<path style=\"fill-rule:nonzero;fill:rgb(24.221802%,64.326477%,30.44281%);fill-opacity:1;stroke-width:0.99628;stroke-linecap:butt;stroke-linejoin:miter;stroke:rgb(0%,0%,0%);stroke-opacity:1;stroke-miterlimit:10;\" d=\"M 268.596812 121.585875 C 268.596812 123.785094 266.811656 125.57025 264.608531 125.57025 C 262.409312 125.57025 260.624156 123.785094 260.624156 121.585875 C 260.624156 119.38275 262.409312 117.6015 264.608531 117.6015 C 266.811656 117.6015 268.596812 119.38275 268.596812 121.585875 Z M 268.596812 121.585875 \" transform=\"matrix(1,0,0,-1,17.661,243.664)\"/>\n",
       "<path style=\"fill-rule:nonzero;fill:rgb(24.221802%,64.326477%,30.44281%);fill-opacity:1;stroke-width:0.99628;stroke-linecap:butt;stroke-linejoin:miter;stroke:rgb(0%,0%,0%);stroke-opacity:1;stroke-miterlimit:10;\" d=\"M 258.448375 131.144469 C 258.448375 133.343687 256.663219 135.128844 254.464 135.128844 C 252.260875 135.128844 250.479625 133.343687 250.479625 131.144469 C 250.479625 128.941344 252.260875 127.160094 254.464 127.160094 C 256.663219 127.160094 258.448375 128.941344 258.448375 131.144469 Z M 258.448375 131.144469 \" transform=\"matrix(1,0,0,-1,17.661,243.664)\"/>\n",
       "<path style=\"fill-rule:nonzero;fill:rgb(24.221802%,64.326477%,30.44281%);fill-opacity:1;stroke-width:0.99628;stroke-linecap:butt;stroke-linejoin:miter;stroke:rgb(0%,0%,0%);stroke-opacity:1;stroke-miterlimit:10;\" d=\"M 258.448375 102.468687 C 258.448375 104.667906 256.663219 106.453062 254.464 106.453062 C 252.260875 106.453062 250.479625 104.667906 250.479625 102.468687 C 250.479625 100.265562 252.260875 98.484312 254.464 98.484312 C 256.663219 98.484312 258.448375 100.265562 258.448375 102.468687 Z M 258.448375 102.468687 \" transform=\"matrix(1,0,0,-1,17.661,243.664)\"/>\n",
       "<path style=\"fill-rule:nonzero;fill:rgb(24.221802%,64.326477%,30.44281%);fill-opacity:1;stroke-width:0.99628;stroke-linecap:butt;stroke-linejoin:miter;stroke:rgb(0%,0%,0%);stroke-opacity:1;stroke-miterlimit:10;\" d=\"M 217.866344 54.675719 C 217.866344 56.874937 216.081187 58.660094 213.878062 58.660094 C 211.678844 58.660094 209.893687 56.874937 209.893687 54.675719 C 209.893687 52.472594 211.678844 50.691344 213.878062 50.691344 C 216.081187 50.691344 217.866344 52.472594 217.866344 54.675719 Z M 217.866344 54.675719 \" transform=\"matrix(1,0,0,-1,17.661,243.664)\"/>\n",
       "<path style=\"fill-rule:nonzero;fill:rgb(24.221802%,64.326477%,30.44281%);fill-opacity:1;stroke-width:0.99628;stroke-linecap:butt;stroke-linejoin:miter;stroke:rgb(0%,0%,0%);stroke-opacity:1;stroke-miterlimit:10;\" d=\"M 238.155406 102.468687 C 238.155406 104.667906 236.374156 106.453062 234.171031 106.453062 C 231.971812 106.453062 230.186656 104.667906 230.186656 102.468687 C 230.186656 100.265562 231.971812 98.484312 234.171031 98.484312 C 236.374156 98.484312 238.155406 100.265562 238.155406 102.468687 Z M 238.155406 102.468687 \" transform=\"matrix(1,0,0,-1,17.661,243.664)\"/>\n",
       "<path style=\"fill-rule:nonzero;fill:rgb(24.221802%,64.326477%,30.44281%);fill-opacity:1;stroke-width:0.99628;stroke-linecap:butt;stroke-linejoin:miter;stroke:rgb(0%,0%,0%);stroke-opacity:1;stroke-miterlimit:10;\" d=\"M 207.717906 140.703062 C 207.717906 142.902281 205.93275 144.687437 203.733531 144.687437 C 201.534312 144.687437 199.749156 142.902281 199.749156 140.703062 C 199.749156 138.499937 201.534312 136.718687 203.733531 136.718687 C 205.93275 136.718687 207.717906 138.499937 207.717906 140.703062 Z M 207.717906 140.703062 \" transform=\"matrix(1,0,0,-1,17.661,243.664)\"/>\n",
       "<path style=\"fill-rule:nonzero;fill:rgb(24.221802%,64.326477%,30.44281%);fill-opacity:1;stroke-width:0.99628;stroke-linecap:butt;stroke-linejoin:miter;stroke:rgb(0%,0%,0%);stroke-opacity:1;stroke-miterlimit:10;\" d=\"M 177.280406 102.468687 C 177.280406 104.667906 175.49525 106.453062 173.296031 106.453062 C 171.092906 106.453062 169.311656 104.667906 169.311656 102.468687 C 169.311656 100.265562 171.092906 98.484312 173.296031 98.484312 C 175.49525 98.484312 177.280406 100.265562 177.280406 102.468687 Z M 177.280406 102.468687 \" transform=\"matrix(1,0,0,-1,17.661,243.664)\"/>\n",
       "<path style=\"fill-rule:nonzero;fill:rgb(100%,100%,100%);fill-opacity:1;stroke-width:0.99628;stroke-linecap:butt;stroke-linejoin:miter;stroke:rgb(0%,0%,0%);stroke-opacity:1;stroke-miterlimit:10;\" d=\"M 326.135875 201.706969 L 378.93275 201.706969 L 378.93275 237.808531 L 326.135875 237.808531 Z M 326.135875 201.706969 \" transform=\"matrix(1,0,0,-1,17.661,243.664)\"/>\n",
       "<path style=\"fill-rule:nonzero;fill:rgb(0%,60.559082%,97.866821%);fill-opacity:1;stroke-width:0.99628;stroke-linecap:butt;stroke-linejoin:miter;stroke:rgb(0%,0%,0%);stroke-opacity:1;stroke-miterlimit:10;\" d=\"M 12.489906 0.00103125 C 12.489906 2.20025 10.70475 3.985406 8.505531 3.985406 C 6.302406 3.985406 4.51725 2.20025 4.51725 0.00103125 C 4.51725 -2.202094 6.302406 -3.983344 8.505531 -3.983344 C 10.70475 -3.983344 12.489906 -2.202094 12.489906 0.00103125 Z M 12.489906 0.00103125 \" transform=\"matrix(1,0,0,-1,342.264,13.044)\"/>\n",
       "<g style=\"fill:rgb(0%,0%,0%);fill-opacity:1;\">\n",
       "  <use xlink:href=\"#glyph-1575557357254132-2-1\" x=\"356.746\" y=\"14.747\"/>\n",
       "  <use xlink:href=\"#glyph-1575557357254132-2-2\" x=\"360.085476\" y=\"14.747\"/>\n",
       "  <use xlink:href=\"#glyph-1575557357254132-2-3\" x=\"363.847368\" y=\"14.747\"/>\n",
       "  <use xlink:href=\"#glyph-1575557357254132-2-4\" x=\"367.139023\" y=\"14.747\"/>\n",
       "  <use xlink:href=\"#glyph-1575557357254132-2-1\" x=\"371.371152\" y=\"14.747\"/>\n",
       "  <use xlink:href=\"#glyph-1575557357254132-2-5\" x=\"374.710628\" y=\"14.747\"/>\n",
       "</g>\n",
       "<path style=\"fill-rule:nonzero;fill:rgb(88.885498%,43.563843%,27.810669%);fill-opacity:1;stroke-width:0.99628;stroke-linecap:butt;stroke-linejoin:miter;stroke:rgb(0%,0%,0%);stroke-opacity:1;stroke-miterlimit:10;\" d=\"M 12.489906 0.00071875 C 12.489906 2.199937 10.70475 3.985094 8.505531 3.985094 C 6.302406 3.985094 4.51725 2.199937 4.51725 0.00071875 C 4.51725 -2.202406 6.302406 -3.983656 8.505531 -3.983656 C 10.70475 -3.983656 12.489906 -2.202406 12.489906 0.00071875 Z M 12.489906 0.00071875 \" transform=\"matrix(1,0,0,-1,342.264,23.739)\"/>\n",
       "<g style=\"fill:rgb(0%,0%,0%);fill-opacity:1;\">\n",
       "  <use xlink:href=\"#glyph-1575557357254132-2-6\" x=\"356.746\" y=\"25.758\"/>\n",
       "</g>\n",
       "<g style=\"fill:rgb(0%,0%,0%);fill-opacity:1;\">\n",
       "  <use xlink:href=\"#glyph-1575557357254132-2-2\" x=\"360.978128\" y=\"25.758\"/>\n",
       "  <use xlink:href=\"#glyph-1575557357254132-2-7\" x=\"364.74002\" y=\"25.758\"/>\n",
       "  <use xlink:href=\"#glyph-1575557357254132-2-1\" x=\"368.039646\" y=\"25.758\"/>\n",
       "  <use xlink:href=\"#glyph-1575557357254132-2-8\" x=\"371.379122\" y=\"25.758\"/>\n",
       "  <use xlink:href=\"#glyph-1575557357254132-2-9\" x=\"373.730304\" y=\"25.758\"/>\n",
       "  <use xlink:href=\"#glyph-1575557357254132-2-4\" x=\"377.492196\" y=\"25.758\"/>\n",
       "  <use xlink:href=\"#glyph-1575557357254132-2-10\" x=\"381.724325\" y=\"25.758\"/>\n",
       "  <use xlink:href=\"#glyph-1575557357254132-2-4\" x=\"384.075507\" y=\"25.758\"/>\n",
       "  <use xlink:href=\"#glyph-1575557357254132-2-7\" x=\"388.307636\" y=\"25.758\"/>\n",
       "</g>\n",
       "<path style=\"fill-rule:nonzero;fill:rgb(24.221802%,64.326477%,30.44281%);fill-opacity:1;stroke-width:0.99628;stroke-linecap:butt;stroke-linejoin:miter;stroke:rgb(0%,0%,0%);stroke-opacity:1;stroke-miterlimit:10;\" d=\"M 12.489906 0.00153125 C 12.489906 2.20075 10.70475 3.985906 8.505531 3.985906 C 6.302406 3.985906 4.51725 2.20075 4.51725 0.00153125 C 4.51725 -2.201594 6.302406 -3.98675 8.505531 -3.98675 C 10.70475 -3.98675 12.489906 -2.201594 12.489906 0.00153125 Z M 12.489906 0.00153125 \" transform=\"matrix(1,0,0,-1,342.264,34.607)\"/>\n",
       "<g style=\"fill:rgb(0%,0%,0%);fill-opacity:1;\">\n",
       "  <use xlink:href=\"#glyph-1575557357254132-2-6\" x=\"356.746\" y=\"36.482\"/>\n",
       "  <use xlink:href=\"#glyph-1575557357254132-2-8\" x=\"361.217232\" y=\"36.482\"/>\n",
       "  <use xlink:href=\"#glyph-1575557357254132-2-7\" x=\"363.568414\" y=\"36.482\"/>\n",
       "  <use xlink:href=\"#glyph-1575557357254132-2-11\" x=\"366.86804\" y=\"36.482\"/>\n",
       "  <use xlink:href=\"#glyph-1575557357254132-2-8\" x=\"371.100168\" y=\"36.482\"/>\n",
       "  <use xlink:href=\"#glyph-1575557357254132-2-12\" x=\"373.451351\" y=\"36.482\"/>\n",
       "  <use xlink:href=\"#glyph-1575557357254132-2-8\" x=\"378.153715\" y=\"36.482\"/>\n",
       "  <use xlink:href=\"#glyph-1575557357254132-2-9\" x=\"380.504898\" y=\"36.482\"/>\n",
       "  <use xlink:href=\"#glyph-1575557357254132-2-5\" x=\"384.26679\" y=\"36.482\"/>\n",
       "</g>\n",
       "</g>\n",
       "</svg>\n",
       "\n"
      ]
     },
     "execution_count": 32,
     "metadata": {},
     "output_type": "execute_result"
    }
   ],
   "source": [
    "@df ds scatter(:SepalLength, :SepalWidth, group=:Species, marker=[8])"
   ]
  },
  {
   "cell_type": "code",
   "execution_count": 34,
   "metadata": {
    "Collapsed": "false"
   },
   "outputs": [
    {
     "data": {
      "text/plain": [
       "0.0:0.1:10.0"
      ]
     },
     "execution_count": 34,
     "metadata": {},
     "output_type": "execute_result"
    }
   ],
   "source": [
    "x = range(0, 10, step=0.1)"
   ]
  },
  {
   "cell_type": "code",
   "execution_count": 48,
   "metadata": {
    "Collapsed": "false"
   },
   "outputs": [
    {
     "ename": "ArgumentError",
     "evalue": "ArgumentError: Package LatexStrings not found in current path:\n- Run `import Pkg; Pkg.add(\"LatexStrings\")` to install the LatexStrings package.\n",
     "output_type": "error",
     "traceback": [
      "ArgumentError: Package LatexStrings not found in current path:\n- Run `import Pkg; Pkg.add(\"LatexStrings\")` to install the LatexStrings package.\n",
      "",
      "Stacktrace:",
      " [1] require(::Module, ::Symbol) at ./loading.jl:887",
      " [2] top-level scope at In[48]:1"
     ]
    }
   ],
   "source": [
    "using LatexStrings"
   ]
  },
  {
   "cell_type": "code",
   "execution_count": 55,
   "metadata": {
    "Collapsed": "false"
   },
   "outputs": [
    {
     "name": "stdout",
     "output_type": "stream",
     "text": [
      "\u001b[32m\u001b[1m Resolving\u001b[22m\u001b[39m package versions...\n",
      "\u001b[32m\u001b[1m  Updating\u001b[22m\u001b[39m `~/.julia/environments/v1.4/Project.toml`\n",
      "\u001b[90m [no changes]\u001b[39m\n",
      "\u001b[32m\u001b[1m  Updating\u001b[22m\u001b[39m `~/.julia/environments/v1.4/Manifest.toml`\n",
      "\u001b[90m [no changes]\u001b[39m\n"
     ]
    }
   ],
   "source": [
    "using Pkg\n",
    "Pkg.add(\"LaTeXStrings\")"
   ]
  },
  {
   "cell_type": "code",
   "execution_count": 56,
   "metadata": {
    "Collapsed": "false"
   },
   "outputs": [],
   "source": [
    "using LaTeXStrings"
   ]
  },
  {
   "cell_type": "code",
   "execution_count": 62,
   "metadata": {
    "Collapsed": "false"
   },
   "outputs": [
    {
     "data": {
      "image/svg+xml": [
       "<?xml version=\"1.0\" encoding=\"UTF-8\"?>\n",
       "<svg xmlns=\"http://www.w3.org/2000/svg\" xmlns:xlink=\"http://www.w3.org/1999/xlink\" width=\"409.56pt\" height=\"277.78pt\" viewBox=\"0 0 409.56 277.78\" version=\"1.1\">\n",
       "<defs>\n",
       "<g>\n",
       "<symbol overflow=\"visible\" id=\"glyph-1575557357254146-0-0\">\n",
       "<path style=\"stroke:none;\" d=\"\"/>\n",
       "</symbol>\n",
       "<symbol overflow=\"visible\" id=\"glyph-1575557357254146-0-1\">\n",
       "<path style=\"stroke:none;\" d=\"M 3.890625 -2.546875 C 3.890625 -3.390625 3.8125 -3.90625 3.546875 -4.421875 C 3.203125 -5.125 2.546875 -5.296875 2.109375 -5.296875 C 1.109375 -5.296875 0.734375 -4.546875 0.625 -4.328125 C 0.34375 -3.75 0.328125 -2.953125 0.328125 -2.546875 C 0.328125 -2.015625 0.34375 -1.21875 0.734375 -0.578125 C 1.09375 0.015625 1.6875 0.171875 2.109375 0.171875 C 2.5 0.171875 3.171875 0.046875 3.578125 -0.734375 C 3.875 -1.3125 3.890625 -2.03125 3.890625 -2.546875 Z M 2.109375 -0.0625 C 1.84375 -0.0625 1.296875 -0.1875 1.125 -1.015625 C 1.03125 -1.46875 1.03125 -2.21875 1.03125 -2.640625 C 1.03125 -3.1875 1.03125 -3.75 1.125 -4.1875 C 1.296875 -5 1.90625 -5.078125 2.109375 -5.078125 C 2.375 -5.078125 2.9375 -4.9375 3.09375 -4.21875 C 3.1875 -3.78125 3.1875 -3.171875 3.1875 -2.640625 C 3.1875 -2.171875 3.1875 -1.453125 3.09375 -1 C 2.921875 -0.171875 2.375 -0.0625 2.109375 -0.0625 Z M 2.109375 -0.0625 \"/>\n",
       "</symbol>\n",
       "<symbol overflow=\"visible\" id=\"glyph-1575557357254146-0-2\">\n",
       "<path style=\"stroke:none;\" d=\"M 2.25 -1.625 C 2.375 -1.75 2.703125 -2.015625 2.84375 -2.125 C 3.328125 -2.578125 3.796875 -3.015625 3.796875 -3.734375 C 3.796875 -4.6875 3 -5.296875 2.015625 -5.296875 C 1.046875 -5.296875 0.421875 -4.578125 0.421875 -3.859375 C 0.421875 -3.46875 0.734375 -3.421875 0.84375 -3.421875 C 1.015625 -3.421875 1.265625 -3.53125 1.265625 -3.84375 C 1.265625 -4.25 0.859375 -4.25 0.765625 -4.25 C 1 -4.84375 1.53125 -5.03125 1.921875 -5.03125 C 2.65625 -5.03125 3.046875 -4.40625 3.046875 -3.734375 C 3.046875 -2.90625 2.46875 -2.296875 1.515625 -1.34375 L 0.515625 -0.296875 C 0.421875 -0.21875 0.421875 -0.203125 0.421875 0 L 3.5625 0 L 3.796875 -1.421875 L 3.546875 -1.421875 C 3.53125 -1.265625 3.46875 -0.875 3.375 -0.71875 C 3.328125 -0.65625 2.71875 -0.65625 2.59375 -0.65625 L 1.171875 -0.65625 Z M 2.25 -1.625 \"/>\n",
       "</symbol>\n",
       "<symbol overflow=\"visible\" id=\"glyph-1575557357254146-0-3\">\n",
       "<path style=\"stroke:none;\" d=\"M 1.109375 -4.484375 C 1.21875 -4.453125 1.53125 -4.359375 1.875 -4.359375 C 2.875 -4.359375 3.46875 -5.0625 3.46875 -5.1875 C 3.46875 -5.28125 3.421875 -5.296875 3.375 -5.296875 C 3.359375 -5.296875 3.34375 -5.296875 3.28125 -5.265625 C 2.96875 -5.140625 2.59375 -5.046875 2.171875 -5.046875 C 1.703125 -5.046875 1.3125 -5.15625 1.0625 -5.265625 C 0.984375 -5.296875 0.96875 -5.296875 0.953125 -5.296875 C 0.859375 -5.296875 0.859375 -5.21875 0.859375 -5.0625 L 0.859375 -2.734375 C 0.859375 -2.59375 0.859375 -2.5 0.984375 -2.5 C 1.046875 -2.5 1.0625 -2.53125 1.109375 -2.59375 C 1.203125 -2.703125 1.5 -3.109375 2.1875 -3.109375 C 2.625 -3.109375 2.84375 -2.75 2.921875 -2.59375 C 3.046875 -2.3125 3.0625 -1.9375 3.0625 -1.640625 C 3.0625 -1.34375 3.0625 -0.90625 2.84375 -0.5625 C 2.6875 -0.3125 2.359375 -0.078125 1.9375 -0.078125 C 1.421875 -0.078125 0.921875 -0.390625 0.734375 -0.921875 C 0.75 -0.90625 0.8125 -0.90625 0.8125 -0.90625 C 1.03125 -0.90625 1.21875 -1.046875 1.21875 -1.296875 C 1.21875 -1.59375 0.984375 -1.703125 0.828125 -1.703125 C 0.671875 -1.703125 0.421875 -1.625 0.421875 -1.28125 C 0.421875 -0.5625 1.046875 0.171875 1.953125 0.171875 C 2.953125 0.171875 3.796875 -0.609375 3.796875 -1.59375 C 3.796875 -2.515625 3.125 -3.34375 2.1875 -3.34375 C 1.796875 -3.34375 1.421875 -3.21875 1.109375 -2.9375 Z M 1.109375 -4.484375 \"/>\n",
       "</symbol>\n",
       "<symbol overflow=\"visible\" id=\"glyph-1575557357254146-0-4\">\n",
       "<path style=\"stroke:none;\" d=\"M 4.03125 -4.859375 C 4.109375 -4.9375 4.109375 -4.953125 4.109375 -5.125 L 2.078125 -5.125 C 1.875 -5.125 1.640625 -5.140625 1.4375 -5.15625 C 1.015625 -5.1875 1.015625 -5.265625 0.984375 -5.390625 L 0.734375 -5.390625 L 0.46875 -3.703125 L 0.71875 -3.703125 C 0.734375 -3.828125 0.828125 -4.375 0.9375 -4.4375 C 1.015625 -4.484375 1.625 -4.484375 1.734375 -4.484375 L 3.421875 -4.484375 L 2.609375 -3.375 C 1.703125 -2.171875 1.5 -0.90625 1.5 -0.28125 C 1.5 -0.203125 1.5 0.171875 1.875 0.171875 C 2.25 0.171875 2.25 -0.1875 2.25 -0.28125 L 2.25 -0.671875 C 2.25 -1.8125 2.453125 -2.75 2.84375 -3.28125 Z M 4.03125 -4.859375 \"/>\n",
       "</symbol>\n",
       "<symbol overflow=\"visible\" id=\"glyph-1575557357254146-0-5\">\n",
       "<path style=\"stroke:none;\" d=\"M 2.5 -5.078125 C 2.5 -5.296875 2.484375 -5.296875 2.265625 -5.296875 C 1.9375 -4.984375 1.515625 -4.796875 0.765625 -4.796875 L 0.765625 -4.53125 C 0.984375 -4.53125 1.40625 -4.53125 1.875 -4.734375 L 1.875 -0.65625 C 1.875 -0.359375 1.84375 -0.265625 1.09375 -0.265625 L 0.8125 -0.265625 L 0.8125 0 C 1.140625 -0.03125 1.828125 -0.03125 2.1875 -0.03125 C 2.546875 -0.03125 3.234375 -0.03125 3.5625 0 L 3.5625 -0.265625 L 3.28125 -0.265625 C 2.53125 -0.265625 2.5 -0.359375 2.5 -0.65625 Z M 2.5 -5.078125 \"/>\n",
       "</symbol>\n",
       "<symbol overflow=\"visible\" id=\"glyph-1575557357254146-0-6\">\n",
       "<path style=\"stroke:none;\" d=\"M 2.65625 1.984375 C 2.71875 1.984375 2.8125 1.984375 2.8125 1.890625 C 2.8125 1.859375 2.8125 1.859375 2.703125 1.75 C 1.609375 0.71875 1.34375 -0.75 1.34375 -1.984375 C 1.34375 -4.28125 2.28125 -5.359375 2.6875 -5.734375 C 2.8125 -5.828125 2.8125 -5.84375 2.8125 -5.875 C 2.8125 -5.921875 2.78125 -5.96875 2.703125 -5.96875 C 2.578125 -5.96875 2.171875 -5.5625 2.109375 -5.5 C 1.046875 -4.375 0.828125 -2.953125 0.828125 -1.984375 C 0.828125 -0.203125 1.5625 1.234375 2.65625 1.984375 Z M 2.65625 1.984375 \"/>\n",
       "</symbol>\n",
       "<symbol overflow=\"visible\" id=\"glyph-1575557357254146-0-7\">\n",
       "<path style=\"stroke:none;\" d=\"M 2.46875 -1.984375 C 2.46875 -2.75 2.328125 -3.65625 1.84375 -4.59375 C 1.453125 -5.328125 0.71875 -5.96875 0.578125 -5.96875 C 0.5 -5.96875 0.484375 -5.921875 0.484375 -5.875 C 0.484375 -5.84375 0.484375 -5.828125 0.578125 -5.734375 C 1.6875 -4.671875 1.9375 -3.21875 1.9375 -1.984375 C 1.9375 0.296875 1 1.375 0.59375 1.75 C 0.484375 1.84375 0.484375 1.859375 0.484375 1.890625 C 0.484375 1.9375 0.5 1.984375 0.578125 1.984375 C 0.703125 1.984375 1.109375 1.578125 1.171875 1.515625 C 2.234375 0.390625 2.46875 -1.03125 2.46875 -1.984375 Z M 2.46875 -1.984375 \"/>\n",
       "</symbol>\n",
       "<symbol overflow=\"visible\" id=\"glyph-1575557357254146-1-0\">\n",
       "<path style=\"stroke:none;\" d=\"\"/>\n",
       "</symbol>\n",
       "<symbol overflow=\"visible\" id=\"glyph-1575557357254146-1-1\">\n",
       "<path style=\"stroke:none;\" d=\"M 1.625 -0.4375 C 1.625 -0.703125 1.390625 -0.890625 1.171875 -0.890625 C 0.921875 -0.890625 0.734375 -0.671875 0.734375 -0.453125 C 0.734375 -0.171875 0.953125 0 1.171875 0 C 1.421875 0 1.625 -0.203125 1.625 -0.4375 Z M 1.625 -0.4375 \"/>\n",
       "</symbol>\n",
       "<symbol overflow=\"visible\" id=\"glyph-1575557357254146-1-2\">\n",
       "<path style=\"stroke:none;\" d=\"M 4.0625 -1.109375 C 4.8125 -1.921875 5.0625 -2.96875 5.0625 -3.03125 C 5.0625 -3.09375 5.015625 -3.125 4.953125 -3.125 C 4.84375 -3.125 4.84375 -3.09375 4.796875 -2.9375 C 4.5625 -2.125 4.09375 -1.5 4.0625 -1.5 C 4.046875 -1.5 4.046875 -1.703125 4.046875 -1.828125 C 4.03125 -3.234375 3.125 -3.515625 2.578125 -3.515625 C 1.453125 -3.515625 0.34375 -2.421875 0.34375 -1.296875 C 0.34375 -0.515625 0.90625 0.078125 1.75 0.078125 C 2.296875 0.078125 2.890625 -0.125 3.515625 -0.59375 C 3.703125 0.046875 4.15625 0.078125 4.296875 0.078125 C 4.75 0.078125 5.015625 -0.328125 5.015625 -0.484375 C 5.015625 -0.578125 4.921875 -0.578125 4.90625 -0.578125 C 4.8125 -0.578125 4.796875 -0.546875 4.765625 -0.5 C 4.640625 -0.15625 4.375 -0.140625 4.328125 -0.140625 C 4.21875 -0.140625 4.09375 -0.140625 4.0625 -1.109375 Z M 3.46875 -0.859375 C 2.90625 -0.34375 2.234375 -0.140625 1.765625 -0.140625 C 1.359375 -0.140625 1 -0.375 1 -1.015625 C 1 -1.296875 1.125 -2.125 1.5 -2.65625 C 1.8125 -3.09375 2.25 -3.296875 2.578125 -3.296875 C 3.015625 -3.296875 3.265625 -2.984375 3.359375 -2.5 C 3.484375 -1.953125 3.421875 -1.3125 3.46875 -0.859375 Z M 3.46875 -0.859375 \"/>\n",
       "</symbol>\n",
       "<symbol overflow=\"visible\" id=\"glyph-1575557357254146-1-3\">\n",
       "<path style=\"stroke:none;\" d=\"M 3.265625 -3.046875 C 2.9375 -3.015625 2.828125 -2.765625 2.828125 -2.609375 C 2.828125 -2.375 3.03125 -2.3125 3.140625 -2.3125 C 3.171875 -2.3125 3.578125 -2.34375 3.578125 -2.828125 C 3.578125 -3.3125 3.0625 -3.515625 2.578125 -3.515625 C 1.453125 -3.515625 0.34375 -2.421875 0.34375 -1.296875 C 0.34375 -0.546875 0.875 0.078125 1.75 0.078125 C 3.015625 0.078125 3.671875 -0.71875 3.671875 -0.828125 C 3.671875 -0.90625 3.59375 -0.953125 3.546875 -0.953125 C 3.5 -0.953125 3.46875 -0.9375 3.4375 -0.890625 C 2.8125 -0.140625 1.90625 -0.140625 1.765625 -0.140625 C 1.34375 -0.140625 1 -0.40625 1 -1.015625 C 1 -1.359375 1.15625 -2.203125 1.53125 -2.703125 C 1.875 -3.140625 2.28125 -3.296875 2.59375 -3.296875 C 2.6875 -3.296875 3.046875 -3.28125 3.265625 -3.046875 Z M 3.265625 -3.046875 \"/>\n",
       "</symbol>\n",
       "<symbol overflow=\"visible\" id=\"glyph-1575557357254146-1-4\">\n",
       "<path style=\"stroke:none;\" d=\"M 3.96875 -2.140625 C 3.96875 -2.921875 3.40625 -3.515625 2.578125 -3.515625 C 1.453125 -3.515625 0.34375 -2.421875 0.34375 -1.296875 C 0.34375 -0.484375 0.921875 0.078125 1.734375 0.078125 C 2.875 0.078125 3.96875 -1.03125 3.96875 -2.140625 Z M 1.75 -0.140625 C 1.46875 -0.140625 1 -0.28125 1 -1.015625 C 1 -1.34375 1.140625 -2.203125 1.53125 -2.703125 C 1.921875 -3.203125 2.359375 -3.296875 2.578125 -3.296875 C 2.90625 -3.296875 3.328125 -3.09375 3.328125 -2.421875 C 3.328125 -2.109375 3.171875 -1.34375 2.875 -0.875 C 2.578125 -0.421875 2.140625 -0.140625 1.75 -0.140625 Z M 1.75 -0.140625 \"/>\n",
       "</symbol>\n",
       "<symbol overflow=\"visible\" id=\"glyph-1575557357254146-1-5\">\n",
       "<path style=\"stroke:none;\" d=\"M 3.21875 -3 C 3.03125 -2.96875 2.859375 -2.828125 2.859375 -2.625 C 2.859375 -2.484375 2.953125 -2.375 3.125 -2.375 C 3.25 -2.375 3.5 -2.46875 3.5 -2.828125 C 3.5 -3.3125 2.984375 -3.515625 2.484375 -3.515625 C 1.421875 -3.515625 1.078125 -2.75 1.078125 -2.34375 C 1.078125 -2.265625 1.078125 -1.984375 1.375 -1.765625 C 1.5625 -1.625 1.703125 -1.59375 2.109375 -1.515625 C 2.390625 -1.453125 2.84375 -1.375 2.84375 -0.96875 C 2.84375 -0.75 2.6875 -0.5 2.46875 -0.34375 C 2.171875 -0.15625 1.78125 -0.140625 1.65625 -0.140625 C 1.46875 -0.140625 0.921875 -0.171875 0.71875 -0.5 C 1.125 -0.515625 1.1875 -0.84375 1.1875 -0.9375 C 1.1875 -1.171875 0.96875 -1.234375 0.875 -1.234375 C 0.75 -1.234375 0.421875 -1.125 0.421875 -0.6875 C 0.421875 -0.21875 0.921875 0.078125 1.65625 0.078125 C 3.046875 0.078125 3.34375 -0.90625 3.34375 -1.234375 C 3.34375 -1.953125 2.5625 -2.109375 2.265625 -2.15625 C 1.875 -2.234375 1.5625 -2.28125 1.5625 -2.625 C 1.5625 -2.765625 1.703125 -3.296875 2.484375 -3.296875 C 2.78125 -3.296875 3.09375 -3.203125 3.21875 -3 Z M 3.21875 -3 \"/>\n",
       "</symbol>\n",
       "<symbol overflow=\"visible\" id=\"glyph-1575557357254146-2-0\">\n",
       "<path style=\"stroke:none;\" d=\"\"/>\n",
       "</symbol>\n",
       "<symbol overflow=\"visible\" id=\"glyph-1575557357254146-2-1\">\n",
       "<path style=\"stroke:none;\" d=\"M 5.5625 -1.8125 C 5.703125 -1.8125 5.875 -1.8125 5.875 -1.984375 C 5.875 -2.171875 5.703125 -2.171875 5.5625 -2.171875 L 1 -2.171875 C 0.875 -2.171875 0.703125 -2.171875 0.703125 -1.984375 C 0.703125 -1.8125 0.875 -1.8125 1 -1.8125 Z M 5.5625 -1.8125 \"/>\n",
       "</symbol>\n",
       "<symbol overflow=\"visible\" id=\"glyph-1575557357254146-3-0\">\n",
       "<path style=\"stroke:none;\" d=\"\"/>\n",
       "</symbol>\n",
       "<symbol overflow=\"visible\" id=\"glyph-1575557357254146-3-1\">\n",
       "<path style=\"stroke:none;\" d=\"M 8.53125 -6.953125 C 8.53125 -8.296875 7.171875 -9.53125 5.28125 -9.53125 L 0.59375 -9.53125 L 0.59375 -9.125 L 0.859375 -9.125 C 1.875 -9.125 1.90625 -8.984375 1.90625 -8.46875 L 1.90625 -1.0625 C 1.90625 -0.546875 1.875 -0.40625 0.859375 -0.40625 L 0.59375 -0.40625 L 0.59375 0 C 0.921875 -0.03125 2.0625 -0.03125 2.46875 -0.03125 C 2.890625 -0.03125 4.03125 -0.03125 4.375 0 L 4.375 -0.40625 L 4.09375 -0.40625 C 3.078125 -0.40625 3.046875 -0.546875 3.046875 -1.0625 L 3.046875 -4.4375 L 5.40625 -4.4375 C 7.03125 -4.4375 8.53125 -5.546875 8.53125 -6.953125 Z M 7.234375 -6.953125 C 7.234375 -6.359375 7.234375 -4.765625 4.953125 -4.765625 L 3.015625 -4.765625 L 3.015625 -8.5625 C 3.015625 -9.03125 3.046875 -9.125 3.65625 -9.125 L 4.96875 -9.125 C 7.234375 -9.125 7.234375 -7.546875 7.234375 -6.953125 Z M 7.234375 -6.953125 \"/>\n",
       "</symbol>\n",
       "<symbol overflow=\"visible\" id=\"glyph-1575557357254146-3-2\">\n",
       "<path style=\"stroke:none;\" d=\"M 5.671875 -1.65625 C 5.671875 -1.75 5.609375 -1.796875 5.53125 -1.796875 C 5.40625 -1.796875 5.390625 -1.734375 5.359375 -1.65625 C 5 -0.484375 4.0625 -0.171875 3.46875 -0.171875 C 2.890625 -0.171875 1.484375 -0.5625 1.484375 -2.96875 L 1.484375 -3.234375 L 5.34375 -3.234375 C 5.65625 -3.234375 5.671875 -3.234375 5.671875 -3.5 C 5.671875 -4.90625 4.921875 -6.21875 3.234375 -6.21875 C 1.640625 -6.21875 0.421875 -4.78125 0.421875 -3.0625 C 0.421875 -1.21875 1.84375 0.140625 3.390625 0.140625 C 5.046875 0.140625 5.671875 -1.375 5.671875 -1.65625 Z M 4.8125 -3.5 L 1.5 -3.5 C 1.609375 -5.6875 2.828125 -5.9375 3.21875 -5.9375 C 4.71875 -5.9375 4.796875 -3.984375 4.8125 -3.5 Z M 4.8125 -3.5 \"/>\n",
       "</symbol>\n",
       "<symbol overflow=\"visible\" id=\"glyph-1575557357254146-3-3\">\n",
       "<path style=\"stroke:none;\" d=\"M 4.921875 -5.34375 C 4.921875 -5.765625 4.546875 -6.15625 3.953125 -6.15625 C 2.765625 -6.15625 2.359375 -4.875 2.28125 -4.609375 L 2.265625 -4.609375 L 2.265625 -6.15625 L 0.390625 -6 L 0.390625 -5.59375 C 1.34375 -5.59375 1.453125 -5.5 1.453125 -4.8125 L 1.453125 -1.03125 C 1.453125 -0.40625 1.296875 -0.40625 0.390625 -0.40625 L 0.390625 0 C 0.78125 -0.03125 1.546875 -0.03125 1.96875 -0.03125 C 2.34375 -0.03125 3.328125 -0.03125 3.65625 0 L 3.65625 -0.40625 L 3.375 -0.40625 C 2.359375 -0.40625 2.328125 -0.5625 2.328125 -1.0625 L 2.328125 -3.25 C 2.328125 -4.609375 2.890625 -5.875 3.96875 -5.875 C 4.078125 -5.875 4.109375 -5.875 4.15625 -5.859375 C 4.046875 -5.796875 3.828125 -5.71875 3.828125 -5.34375 C 3.828125 -4.9375 4.140625 -4.78125 4.375 -4.78125 C 4.640625 -4.78125 4.921875 -4.96875 4.921875 -5.34375 Z M 4.921875 -5.34375 \"/>\n",
       "</symbol>\n",
       "<symbol overflow=\"visible\" id=\"glyph-1575557357254146-3-4\">\n",
       "<path style=\"stroke:none;\" d=\"M 3.359375 0 L 3.359375 -0.40625 C 2.453125 -0.40625 2.40625 -0.46875 2.40625 -1.015625 L 2.40625 -6.15625 L 0.5 -6 L 0.5 -5.59375 C 1.390625 -5.59375 1.515625 -5.515625 1.515625 -4.828125 L 1.515625 -1.03125 C 1.515625 -0.40625 1.375 -0.40625 0.453125 -0.40625 L 0.453125 0 C 0.84375 -0.03125 1.515625 -0.03125 1.921875 -0.03125 C 2.078125 -0.03125 2.890625 -0.03125 3.359375 0 Z M 2.578125 -8.421875 C 2.578125 -8.84375 2.25 -9.109375 1.90625 -9.109375 C 1.515625 -9.109375 1.234375 -8.796875 1.234375 -8.421875 C 1.234375 -8.0625 1.53125 -7.765625 1.890625 -7.765625 C 2.3125 -7.765625 2.578125 -8.09375 2.578125 -8.421875 Z M 2.578125 -8.421875 \"/>\n",
       "</symbol>\n",
       "<symbol overflow=\"visible\" id=\"glyph-1575557357254146-3-5\">\n",
       "<path style=\"stroke:none;\" d=\"M 6.40625 -2.984375 C 6.40625 -4.78125 5.03125 -6.21875 3.421875 -6.21875 C 1.75 -6.21875 0.421875 -4.75 0.421875 -2.984375 C 0.421875 -1.203125 1.8125 0.140625 3.40625 0.140625 C 5.046875 0.140625 6.40625 -1.234375 6.40625 -2.984375 Z M 5.34375 -3.109375 C 5.34375 -2.625 5.34375 -1.765625 4.984375 -1.109375 C 4.59375 -0.4375 3.953125 -0.171875 3.421875 -0.171875 C 2.90625 -0.171875 2.28125 -0.390625 1.875 -1.078125 C 1.5 -1.703125 1.484375 -2.53125 1.484375 -3.109375 C 1.484375 -3.640625 1.484375 -4.5 1.90625 -5.125 C 2.296875 -5.71875 2.921875 -5.9375 3.40625 -5.9375 C 3.953125 -5.9375 4.53125 -5.6875 4.90625 -5.15625 C 5.34375 -4.5 5.34375 -3.625 5.34375 -3.109375 Z M 5.34375 -3.109375 \"/>\n",
       "</symbol>\n",
       "<symbol overflow=\"visible\" id=\"glyph-1575557357254146-3-6\">\n",
       "<path style=\"stroke:none;\" d=\"M 7.1875 0 L 7.1875 -0.40625 C 6.234375 -0.40625 6.125 -0.5 6.125 -1.1875 L 6.125 -9.6875 L 4.1875 -9.53125 L 4.1875 -9.125 C 5.140625 -9.125 5.25 -9.03125 5.25 -8.34375 L 5.25 -5.265625 C 4.953125 -5.671875 4.359375 -6.15625 3.5 -6.15625 C 1.890625 -6.15625 0.484375 -4.78125 0.484375 -3 C 0.484375 -1.234375 1.8125 0.140625 3.34375 0.140625 C 4.40625 0.140625 5.015625 -0.5625 5.21875 -0.828125 L 5.21875 0.140625 Z M 5.21875 -1.625 C 5.21875 -1.375 5.21875 -1.34375 5.015625 -1.03125 C 4.6875 -0.546875 4.109375 -0.140625 3.421875 -0.140625 C 3.0625 -0.140625 1.546875 -0.28125 1.546875 -2.984375 C 1.546875 -3.984375 1.71875 -4.546875 2.015625 -5.015625 C 2.296875 -5.4375 2.859375 -5.875 3.5625 -5.875 C 4.421875 -5.875 4.90625 -5.25 5.046875 -5.015625 C 5.21875 -4.78125 5.21875 -4.765625 5.21875 -4.5 Z M 5.21875 -1.625 \"/>\n",
       "</symbol>\n",
       "<symbol overflow=\"visible\" id=\"glyph-1575557357254146-3-7\">\n",
       "<path style=\"stroke:none;\" d=\"M 5.671875 -1.65625 C 5.671875 -1.78125 5.5625 -1.78125 5.53125 -1.78125 C 5.40625 -1.78125 5.390625 -1.75 5.34375 -1.578125 C 5.03125 -0.59375 4.28125 -0.171875 3.53125 -0.171875 C 2.671875 -0.171875 1.546875 -0.90625 1.546875 -3.03125 C 1.546875 -5.34375 2.734375 -5.921875 3.4375 -5.921875 C 3.96875 -5.921875 4.734375 -5.703125 5.046875 -5.15625 C 4.890625 -5.15625 4.375 -5.15625 4.375 -4.59375 C 4.375 -4.25 4.609375 -4.015625 4.9375 -4.015625 C 5.265625 -4.015625 5.53125 -4.21875 5.53125 -4.625 C 5.53125 -5.546875 4.546875 -6.21875 3.421875 -6.21875 C 1.78125 -6.21875 0.484375 -4.765625 0.484375 -3.015625 C 0.484375 -1.234375 1.828125 0.140625 3.40625 0.140625 C 5.25 0.140625 5.671875 -1.53125 5.671875 -1.65625 Z M 5.671875 -1.65625 \"/>\n",
       "</symbol>\n",
       "<symbol overflow=\"visible\" id=\"glyph-1575557357254146-3-8\">\n",
       "<path style=\"stroke:none;\" d=\"M 8.328125 -6.390625 L 7.96875 -9.5 L 0.578125 -9.5 L 0.578125 -9.09375 L 0.84375 -9.09375 C 1.859375 -9.09375 1.890625 -8.953125 1.890625 -8.4375 L 1.890625 -1.0625 C 1.890625 -0.546875 1.859375 -0.40625 0.84375 -0.40625 L 0.578125 -0.40625 L 0.578125 0 C 0.90625 -0.03125 2.15625 -0.03125 2.5625 -0.03125 C 3.0625 -0.03125 4.28125 -0.03125 4.6875 0 L 4.6875 -0.40625 L 4.265625 -0.40625 C 3.0625 -0.40625 3.03125 -0.578125 3.03125 -1.078125 L 3.03125 -4.546875 L 4.25 -4.546875 C 5.5625 -4.546875 5.703125 -4.09375 5.703125 -2.921875 L 6.015625 -2.921875 L 6.015625 -6.578125 L 5.703125 -6.578125 C 5.703125 -5.40625 5.5625 -4.953125 4.25 -4.953125 L 3.03125 -4.953125 L 3.03125 -8.546875 C 3.03125 -9 3.0625 -9.09375 3.671875 -9.09375 L 5.40625 -9.09375 C 7.421875 -9.09375 7.828125 -8.359375 8.015625 -6.390625 Z M 8.328125 -6.390625 \"/>\n",
       "</symbol>\n",
       "<symbol overflow=\"visible\" id=\"glyph-1575557357254146-3-9\">\n",
       "<path style=\"stroke:none;\" d=\"M 7.265625 0 L 7.265625 -0.40625 C 6.328125 -0.40625 6.203125 -0.5 6.203125 -1.1875 L 6.203125 -6.15625 L 4.234375 -6 L 4.234375 -5.59375 C 5.1875 -5.59375 5.296875 -5.5 5.296875 -4.8125 L 5.296875 -2.3125 C 5.296875 -1.125 4.671875 -0.140625 3.625 -0.140625 C 2.484375 -0.140625 2.40625 -0.796875 2.40625 -1.53125 L 2.40625 -6.15625 L 0.453125 -6 L 0.453125 -5.59375 C 1.5 -5.59375 1.5 -5.546875 1.5 -4.3125 L 1.5 -2.21875 C 1.5 -1.359375 1.5 -0.84375 1.921875 -0.390625 C 2.265625 -0.03125 2.828125 0.140625 3.546875 0.140625 C 3.78125 0.140625 4.234375 0.140625 4.703125 -0.265625 C 5.109375 -0.59375 5.328125 -1.109375 5.328125 -1.109375 L 5.328125 0.140625 Z M 7.265625 0 \"/>\n",
       "</symbol>\n",
       "<symbol overflow=\"visible\" id=\"glyph-1575557357254146-3-10\">\n",
       "<path style=\"stroke:none;\" d=\"M 7.265625 0 L 7.265625 -0.40625 C 6.578125 -0.40625 6.21875 -0.40625 6.203125 -0.828125 L 6.203125 -3.390625 C 6.203125 -4.6875 6.203125 -5.078125 5.890625 -5.53125 C 5.484375 -6.0625 4.828125 -6.15625 4.359375 -6.15625 C 3 -6.15625 2.46875 -5 2.359375 -4.71875 L 2.34375 -4.71875 L 2.34375 -6.15625 L 0.453125 -6 L 0.453125 -5.59375 C 1.390625 -5.59375 1.5 -5.5 1.5 -4.8125 L 1.5 -1.03125 C 1.5 -0.40625 1.359375 -0.40625 0.453125 -0.40625 L 0.453125 0 C 0.8125 -0.03125 1.5625 -0.03125 1.953125 -0.03125 C 2.359375 -0.03125 3.109375 -0.03125 3.46875 0 L 3.46875 -0.40625 C 2.578125 -0.40625 2.40625 -0.40625 2.40625 -1.03125 L 2.40625 -3.625 C 2.40625 -5.09375 3.375 -5.875 4.234375 -5.875 C 5.109375 -5.875 5.296875 -5.15625 5.296875 -4.3125 L 5.296875 -1.03125 C 5.296875 -0.40625 5.15625 -0.40625 4.234375 -0.40625 L 4.234375 0 C 4.609375 -0.03125 5.359375 -0.03125 5.75 -0.03125 C 6.15625 -0.03125 6.90625 -0.03125 7.265625 0 Z M 7.265625 0 \"/>\n",
       "</symbol>\n",
       "<symbol overflow=\"visible\" id=\"glyph-1575557357254146-3-11\">\n",
       "<path style=\"stroke:none;\" d=\"M 4.546875 -1.734375 L 4.546875 -2.53125 L 4.234375 -2.53125 L 4.234375 -1.765625 C 4.234375 -0.75 3.84375 -0.171875 3.296875 -0.171875 C 2.34375 -0.171875 2.34375 -1.46875 2.34375 -1.703125 L 2.34375 -5.609375 L 4.3125 -5.609375 L 4.3125 -6.015625 L 2.34375 -6.015625 L 2.34375 -8.578125 L 2.03125 -8.578125 C 2.015625 -7.265625 1.515625 -5.9375 0.25 -5.890625 L 0.25 -5.609375 L 1.4375 -5.609375 L 1.4375 -1.734375 C 1.4375 -0.1875 2.46875 0.140625 3.203125 0.140625 C 4.09375 0.140625 4.546875 -0.71875 4.546875 -1.734375 Z M 4.546875 -1.734375 \"/>\n",
       "</symbol>\n",
       "<symbol overflow=\"visible\" id=\"glyph-1575557357254146-3-12\">\n",
       "<path style=\"stroke:none;\" d=\"M 4.90625 -1.765625 C 4.90625 -2.53125 4.453125 -2.96875 4.328125 -3.09375 C 3.828125 -3.53125 3.453125 -3.609375 2.53125 -3.78125 C 2.109375 -3.859375 1.09375 -4.0625 1.09375 -4.890625 C 1.09375 -5.328125 1.375 -5.96875 2.640625 -5.96875 C 4.15625 -5.96875 4.234375 -4.671875 4.265625 -4.234375 C 4.28125 -4.125 4.375 -4.125 4.421875 -4.125 C 4.578125 -4.125 4.578125 -4.203125 4.578125 -4.453125 L 4.578125 -5.90625 C 4.578125 -6.15625 4.578125 -6.21875 4.4375 -6.21875 C 4.328125 -6.21875 4.0625 -5.921875 3.96875 -5.796875 C 3.53125 -6.140625 3.09375 -6.21875 2.65625 -6.21875 C 0.96875 -6.21875 0.453125 -5.296875 0.453125 -4.53125 C 0.453125 -4.375 0.453125 -3.890625 0.984375 -3.40625 C 1.4375 -3.015625 1.90625 -2.921875 2.546875 -2.796875 C 3.328125 -2.640625 3.5 -2.59375 3.84375 -2.3125 C 4.109375 -2.109375 4.28125 -1.796875 4.28125 -1.40625 C 4.28125 -0.8125 3.9375 -0.140625 2.703125 -0.140625 C 1.78125 -0.140625 1.109375 -0.671875 0.8125 -2.0625 C 0.75 -2.3125 0.734375 -2.34375 0.734375 -2.34375 C 0.71875 -2.40625 0.65625 -2.40625 0.609375 -2.40625 C 0.453125 -2.40625 0.453125 -2.328125 0.453125 -2.078125 L 0.453125 -0.1875 C 0.453125 0.0625 0.453125 0.140625 0.59375 0.140625 C 0.671875 0.140625 0.6875 0.125 0.921875 -0.171875 C 0.984375 -0.265625 0.984375 -0.296875 1.203125 -0.515625 C 1.734375 0.140625 2.484375 0.140625 2.71875 0.140625 C 4.1875 0.140625 4.90625 -0.671875 4.90625 -1.765625 Z M 4.90625 -1.765625 \"/>\n",
       "</symbol>\n",
       "<symbol overflow=\"visible\" id=\"glyph-1575557357254146-4-0\">\n",
       "<path style=\"stroke:none;\" d=\"\"/>\n",
       "</symbol>\n",
       "<symbol overflow=\"visible\" id=\"glyph-1575557357254146-4-1\">\n",
       "<path style=\"stroke:none;\" d=\"M 3.046875 -1.03125 C 3.046875 -1.40625 2.828125 -1.96875 1.875 -2.140625 C 1.8125 -2.15625 1.359375 -2.234375 1.328125 -2.234375 C 1.078125 -2.296875 0.703125 -2.46875 0.703125 -2.78125 C 0.703125 -3.015625 0.890625 -3.359375 1.640625 -3.359375 C 2.53125 -3.359375 2.578125 -2.703125 2.59375 -2.484375 C 2.59375 -2.421875 2.65625 -2.390625 2.703125 -2.390625 C 2.84375 -2.390625 2.84375 -2.453125 2.84375 -2.59375 L 2.84375 -3.34375 C 2.84375 -3.46875 2.84375 -3.546875 2.734375 -3.546875 C 2.6875 -3.546875 2.671875 -3.546875 2.546875 -3.421875 C 2.53125 -3.421875 2.453125 -3.34375 2.4375 -3.34375 C 2.4375 -3.34375 2.40625 -3.34375 2.359375 -3.375 C 2.234375 -3.46875 2 -3.546875 1.640625 -3.546875 C 0.53125 -3.546875 0.28125 -2.953125 0.28125 -2.5625 C 0.28125 -2.171875 0.578125 -1.9375 0.59375 -1.90625 C 0.921875 -1.671875 1.09375 -1.640625 1.640625 -1.546875 C 2.015625 -1.46875 2.625 -1.359375 2.625 -0.828125 C 2.625 -0.515625 2.421875 -0.140625 1.6875 -0.140625 C 0.875 -0.140625 0.640625 -0.765625 0.546875 -1.1875 C 0.515625 -1.296875 0.5 -1.328125 0.40625 -1.328125 C 0.28125 -1.328125 0.28125 -1.265625 0.28125 -1.109375 L 0.28125 -0.125 C 0.28125 0 0.28125 0.078125 0.375 0.078125 C 0.4375 0.078125 0.4375 0.078125 0.578125 -0.078125 C 0.625 -0.125 0.703125 -0.21875 0.75 -0.265625 C 1.109375 0.0625 1.484375 0.078125 1.6875 0.078125 C 2.703125 0.078125 3.046875 -0.5 3.046875 -1.03125 Z M 3.046875 -1.03125 \"/>\n",
       "</symbol>\n",
       "<symbol overflow=\"visible\" id=\"glyph-1575557357254146-4-2\">\n",
       "<path style=\"stroke:none;\" d=\"M 2.078125 0 L 2.078125 -0.265625 C 1.546875 -0.265625 1.515625 -0.296875 1.515625 -0.609375 L 1.515625 -3.515625 L 0.359375 -3.421875 L 0.359375 -3.15625 C 0.875 -3.15625 0.9375 -3.109375 0.9375 -2.71875 L 0.9375 -0.625 C 0.9375 -0.265625 0.84375 -0.265625 0.328125 -0.265625 L 0.328125 0 C 0.640625 -0.03125 1.09375 -0.03125 1.21875 -0.03125 C 1.3125 -0.03125 1.796875 -0.03125 2.078125 0 Z M 1.625 -4.796875 C 1.625 -5.0625 1.40625 -5.25 1.171875 -5.25 C 0.953125 -5.25 0.734375 -5.0625 0.734375 -4.796875 C 0.734375 -4.5625 0.921875 -4.359375 1.171875 -4.359375 C 1.421875 -4.359375 1.625 -4.5625 1.625 -4.796875 Z M 1.625 -4.796875 \"/>\n",
       "</symbol>\n",
       "<symbol overflow=\"visible\" id=\"glyph-1575557357254146-4-3\">\n",
       "<path style=\"stroke:none;\" d=\"M 4.484375 0 L 4.484375 -0.265625 C 3.96875 -0.265625 3.875 -0.265625 3.875 -0.625 L 3.875 -2.421875 C 3.875 -3.078125 3.5625 -3.515625 2.734375 -3.515625 C 1.9375 -3.515625 1.578125 -2.9375 1.484375 -2.75 L 1.484375 -3.515625 L 0.328125 -3.421875 L 0.328125 -3.15625 C 0.875 -3.15625 0.9375 -3.109375 0.9375 -2.71875 L 0.9375 -0.625 C 0.9375 -0.265625 0.84375 -0.265625 0.328125 -0.265625 L 0.328125 0 C 0.671875 -0.03125 1.015625 -0.03125 1.234375 -0.03125 C 1.46875 -0.03125 1.796875 -0.03125 2.140625 0 L 2.140625 -0.265625 C 1.640625 -0.265625 1.53125 -0.265625 1.53125 -0.625 L 1.53125 -2.0625 C 1.53125 -2.90625 2.171875 -3.296875 2.65625 -3.296875 C 3.140625 -3.296875 3.265625 -2.953125 3.265625 -2.453125 L 3.265625 -0.625 C 3.265625 -0.265625 3.171875 -0.265625 2.65625 -0.265625 L 2.65625 0 C 3 -0.03125 3.359375 -0.03125 3.5625 -0.03125 C 3.796875 -0.03125 4.140625 -0.03125 4.484375 0 Z M 4.484375 0 \"/>\n",
       "</symbol>\n",
       "<symbol overflow=\"visible\" id=\"glyph-1575557357254146-4-4\">\n",
       "<path style=\"stroke:none;\" d=\"M 3.515625 -0.953125 C 3.515625 -0.984375 3.484375 -1.0625 3.390625 -1.0625 C 3.296875 -1.0625 3.28125 -1.015625 3.265625 -0.96875 C 2.984375 -0.1875 2.296875 -0.171875 2.15625 -0.171875 C 1.796875 -0.171875 1.421875 -0.328125 1.1875 -0.703125 C 0.953125 -1.0625 0.953125 -1.578125 0.953125 -1.8125 L 3.296875 -1.8125 C 3.46875 -1.8125 3.515625 -1.8125 3.515625 -2 C 3.515625 -2.703125 3.125 -3.546875 2 -3.546875 C 1.015625 -3.546875 0.234375 -2.734375 0.234375 -1.75 C 0.234375 -0.71875 1.09375 0.078125 2.109375 0.078125 C 3.109375 0.078125 3.515625 -0.765625 3.515625 -0.953125 Z M 2.96875 -2.03125 L 0.953125 -2.03125 C 1.03125 -3.140625 1.703125 -3.328125 2 -3.328125 C 2.9375 -3.328125 2.96875 -2.203125 2.96875 -2.03125 Z M 2.96875 -2.03125 \"/>\n",
       "</symbol>\n",
       "<symbol overflow=\"visible\" id=\"glyph-1575557357254146-4-5\">\n",
       "<path style=\"stroke:none;\" d=\"M 3.515625 -0.953125 C 3.515625 -1.046875 3.40625 -1.046875 3.390625 -1.046875 C 3.328125 -1.046875 3.296875 -1.046875 3.265625 -0.96875 C 3.21875 -0.796875 2.984375 -0.171875 2.1875 -0.171875 C 1.703125 -0.171875 0.984375 -0.546875 0.984375 -1.734375 C 0.984375 -2.875 1.578125 -3.3125 2.15625 -3.3125 C 2.234375 -3.3125 2.65625 -3.3125 2.9375 -3.15625 C 2.703125 -3.09375 2.671875 -2.90625 2.671875 -2.8125 C 2.671875 -2.59375 2.828125 -2.4375 3.046875 -2.4375 C 3.265625 -2.4375 3.421875 -2.578125 3.421875 -2.828125 C 3.421875 -3.3125 2.890625 -3.546875 2.140625 -3.546875 C 1.03125 -3.546875 0.28125 -2.671875 0.28125 -1.71875 C 0.28125 -0.703125 1.109375 0.078125 2.109375 0.078125 C 3.234375 0.078125 3.515625 -0.859375 3.515625 -0.953125 Z M 3.515625 -0.953125 \"/>\n",
       "</symbol>\n",
       "<symbol overflow=\"visible\" id=\"glyph-1575557357254146-4-6\">\n",
       "<path style=\"stroke:none;\" d=\"M 3.984375 -1.703125 C 3.984375 -2.6875 3.15625 -3.546875 2.109375 -3.546875 C 1.0625 -3.546875 0.234375 -2.6875 0.234375 -1.703125 C 0.234375 -0.703125 1.09375 0.078125 2.109375 0.078125 C 3.140625 0.078125 3.984375 -0.703125 3.984375 -1.703125 Z M 3.28125 -1.765625 C 3.28125 -1.40625 3.265625 -0.96875 3.03125 -0.625 C 2.828125 -0.3125 2.46875 -0.171875 2.109375 -0.171875 C 1.6875 -0.171875 1.34375 -0.375 1.171875 -0.65625 C 0.96875 -0.984375 0.953125 -1.375 0.953125 -1.765625 C 0.953125 -2.078125 0.953125 -2.546875 1.1875 -2.890625 C 1.40625 -3.171875 1.734375 -3.328125 2.109375 -3.328125 C 2.53125 -3.328125 2.875 -3.125 3.046875 -2.859375 C 3.265625 -2.515625 3.28125 -2.09375 3.28125 -1.765625 Z M 3.28125 -1.765625 \"/>\n",
       "</symbol>\n",
       "<symbol overflow=\"visible\" id=\"glyph-1575557357254146-5-0\">\n",
       "<path style=\"stroke:none;\" d=\"\"/>\n",
       "</symbol>\n",
       "<symbol overflow=\"visible\" id=\"glyph-1575557357254146-5-1\">\n",
       "<path style=\"stroke:none;\" d=\"M 4.203125 5.328125 L 0.65625 9.703125 C 0.578125 9.796875 0.5625 9.8125 0.5625 9.859375 C 0.5625 9.96875 0.65625 9.96875 0.84375 9.96875 L 9.09375 9.96875 L 9.953125 7.484375 L 9.703125 7.484375 C 9.453125 8.234375 8.796875 8.84375 7.9375 9.125 C 7.78125 9.1875 7.09375 9.421875 5.625 9.421875 L 1.390625 9.421875 L 4.859375 5.140625 C 4.921875 5.046875 4.9375 5.03125 4.9375 4.984375 C 4.9375 4.9375 4.9375 4.9375 4.875 4.84375 L 1.640625 0.40625 L 5.578125 0.40625 C 6.71875 0.40625 9.015625 0.46875 9.703125 2.328125 L 9.953125 2.328125 L 9.09375 0 L 0.84375 0 C 0.5625 0 0.5625 0.015625 0.5625 0.3125 Z M 4.203125 5.328125 \"/>\n",
       "</symbol>\n",
       "</g>\n",
       "<clipPath id=\"clip-1575557357254146-1\">\n",
       "  <path d=\"M 21 22 L 409.558594 22 L 409.558594 266 L 21 266 Z M 21 22 \"/>\n",
       "</clipPath>\n",
       "<clipPath id=\"clip-1575557357254146-2\">\n",
       "  <path d=\"M 21 35 L 409.558594 35 L 409.558594 265 L 21 265 Z M 21 35 \"/>\n",
       "</clipPath>\n",
       "<clipPath id=\"clip-1575557357254146-3\">\n",
       "  <path d=\"M 21 265 L 409.558594 265 L 409.558594 267 L 21 267 Z M 21 265 \"/>\n",
       "</clipPath>\n",
       "<clipPath id=\"clip-1575557357254146-4\">\n",
       "  <path d=\"M 21.894531 124 L 409.066406 124 L 409.066406 176 L 21.894531 176 Z M 21.894531 124 \"/>\n",
       "</clipPath>\n",
       "<clipPath id=\"clip-1575557357254146-5\">\n",
       "  <path d=\"M 21.894531 22.632812 L 409.066406 22.632812 L 409.066406 265.804688 L 21.894531 265.804688 Z M 21.894531 22.632812 \"/>\n",
       "</clipPath>\n",
       "</defs>\n",
       "<g id=\"surface1\">\n",
       "<g clip-path=\"url(#clip-1575557357254146-1)\" clip-rule=\"nonzero\">\n",
       "<path style=\" stroke:none;fill-rule:nonzero;fill:rgb(100%,100%,100%);fill-opacity:1;\" d=\"M 21.894531 265.804688 L 409.066406 265.804688 L 409.066406 22.632812 L 21.894531 22.632812 Z M 21.894531 265.804688 \"/>\n",
       "</g>\n",
       "<path style=\"fill:none;stroke-width:0.49814;stroke-linecap:butt;stroke-linejoin:miter;stroke:rgb(0%,0%,0%);stroke-opacity:0.1;stroke-miterlimit:10;\" d=\"M 10.956563 -0.0016875 L 10.956563 243.170187 M 102.272969 -0.0016875 L 102.272969 243.170187 M 193.585469 -0.0016875 L 193.585469 243.170187 M 284.901875 -0.0016875 L 284.901875 243.170187 M 376.214375 -0.0016875 L 376.214375 243.170187 \" transform=\"matrix(1,0,0,-1,21.895,265.803)\"/>\n",
       "<g clip-path=\"url(#clip-1575557357254146-2)\" clip-rule=\"nonzero\">\n",
       "<path style=\"fill:none;stroke-width:0.49814;stroke-linecap:butt;stroke-linejoin:miter;stroke:rgb(0%,0%,0%);stroke-opacity:0.1;stroke-miterlimit:10;\" d=\"M -0.00046875 1.1155 L 387.171406 1.1155 M -0.00046875 58.463156 L 387.171406 58.463156 M -0.00046875 115.810812 L 387.171406 115.810812 M -0.00046875 173.158469 L 387.171406 173.158469 M -0.00046875 230.506125 L 387.171406 230.506125 \" transform=\"matrix(1,0,0,-1,21.895,265.803)\"/>\n",
       "</g>\n",
       "<path style=\"fill:none;stroke-width:0.19925;stroke-linecap:butt;stroke-linejoin:miter;stroke:rgb(50%,50%,50%);stroke-opacity:1;stroke-miterlimit:10;\" d=\"M 10.956563 -0.0016875 L 10.956563 4.252219 M 102.272969 -0.0016875 L 102.272969 4.252219 M 193.585469 -0.0016875 L 193.585469 4.252219 M 284.901875 -0.0016875 L 284.901875 4.252219 M 376.214375 -0.0016875 L 376.214375 4.252219 \" transform=\"matrix(1,0,0,-1,21.895,265.803)\"/>\n",
       "<path style=\"fill:none;stroke-width:0.19925;stroke-linecap:butt;stroke-linejoin:miter;stroke:rgb(50%,50%,50%);stroke-opacity:1;stroke-miterlimit:10;\" d=\"M -0.00046875 1.1155 L 4.253438 1.1155 M -0.00046875 58.463156 L 4.253438 58.463156 M -0.00046875 115.810812 L 4.253438 115.810812 M -0.00046875 173.158469 L 4.253438 173.158469 M -0.00046875 230.506125 L 4.253438 230.506125 \" transform=\"matrix(1,0,0,-1,21.895,265.803)\"/>\n",
       "<g clip-path=\"url(#clip-1575557357254146-3)\" clip-rule=\"nonzero\">\n",
       "<path style=\"fill:none;stroke-width:0.99628;stroke-linecap:butt;stroke-linejoin:miter;stroke:rgb(0%,0%,0%);stroke-opacity:1;stroke-miterlimit:10;\" d=\"M -0.00046875 -0.0016875 L 387.171406 -0.0016875 \" transform=\"matrix(1,0,0,-1,21.895,265.803)\"/>\n",
       "</g>\n",
       "<path style=\"fill:none;stroke-width:0.99628;stroke-linecap:butt;stroke-linejoin:miter;stroke:rgb(0%,0%,0%);stroke-opacity:1;stroke-miterlimit:10;\" d=\"M -0.00046875 -0.0016875 L -0.00046875 243.170187 \" transform=\"matrix(1,0,0,-1,21.895,265.803)\"/>\n",
       "<g style=\"fill:rgb(0%,0%,0%);fill-opacity:1;\">\n",
       "  <use xlink:href=\"#glyph-1575557357254146-0-1\" x=\"27.442\" y=\"274.459\"/>\n",
       "</g>\n",
       "<g style=\"fill:rgb(0%,0%,0%);fill-opacity:1;\">\n",
       "  <use xlink:href=\"#glyph-1575557357254146-1-1\" x=\"31.677\" y=\"274.459\"/>\n",
       "</g>\n",
       "<g style=\"fill:rgb(0%,0%,0%);fill-opacity:1;\">\n",
       "  <use xlink:href=\"#glyph-1575557357254146-0-1\" x=\"34.029\" y=\"274.459\"/>\n",
       "</g>\n",
       "<g style=\"fill:rgb(0%,0%,0%);fill-opacity:1;\">\n",
       "  <use xlink:href=\"#glyph-1575557357254146-0-2\" x=\"118.755\" y=\"274.459\"/>\n",
       "</g>\n",
       "<g style=\"fill:rgb(0%,0%,0%);fill-opacity:1;\">\n",
       "  <use xlink:href=\"#glyph-1575557357254146-1-1\" x=\"122.989\" y=\"274.459\"/>\n",
       "</g>\n",
       "<g style=\"fill:rgb(0%,0%,0%);fill-opacity:1;\">\n",
       "  <use xlink:href=\"#glyph-1575557357254146-0-3\" x=\"125.342\" y=\"274.459\"/>\n",
       "</g>\n",
       "<g style=\"fill:rgb(0%,0%,0%);fill-opacity:1;\">\n",
       "  <use xlink:href=\"#glyph-1575557357254146-0-3\" x=\"210.068\" y=\"274.459\"/>\n",
       "</g>\n",
       "<g style=\"fill:rgb(0%,0%,0%);fill-opacity:1;\">\n",
       "  <use xlink:href=\"#glyph-1575557357254146-1-1\" x=\"214.302\" y=\"274.459\"/>\n",
       "</g>\n",
       "<g style=\"fill:rgb(0%,0%,0%);fill-opacity:1;\">\n",
       "  <use xlink:href=\"#glyph-1575557357254146-0-1\" x=\"216.655\" y=\"274.459\"/>\n",
       "</g>\n",
       "<g style=\"fill:rgb(0%,0%,0%);fill-opacity:1;\">\n",
       "  <use xlink:href=\"#glyph-1575557357254146-0-4\" x=\"301.381\" y=\"274.459\"/>\n",
       "</g>\n",
       "<g style=\"fill:rgb(0%,0%,0%);fill-opacity:1;\">\n",
       "  <use xlink:href=\"#glyph-1575557357254146-1-1\" x=\"305.615\" y=\"274.459\"/>\n",
       "</g>\n",
       "<g style=\"fill:rgb(0%,0%,0%);fill-opacity:1;\">\n",
       "  <use xlink:href=\"#glyph-1575557357254146-0-3\" x=\"307.968\" y=\"274.459\"/>\n",
       "</g>\n",
       "<g style=\"fill:rgb(0%,0%,0%);fill-opacity:1;\">\n",
       "  <use xlink:href=\"#glyph-1575557357254146-0-5\" x=\"390.577\" y=\"274.459\"/>\n",
       "  <use xlink:href=\"#glyph-1575557357254146-0-1\" x=\"394.811519\" y=\"274.459\"/>\n",
       "</g>\n",
       "<g style=\"fill:rgb(0%,0%,0%);fill-opacity:1;\">\n",
       "  <use xlink:href=\"#glyph-1575557357254146-1-1\" x=\"399.045\" y=\"274.459\"/>\n",
       "</g>\n",
       "<g style=\"fill:rgb(0%,0%,0%);fill-opacity:1;\">\n",
       "  <use xlink:href=\"#glyph-1575557357254146-0-1\" x=\"401.398\" y=\"274.459\"/>\n",
       "</g>\n",
       "<g style=\"fill:rgb(0%,0%,0%);fill-opacity:1;\">\n",
       "  <use xlink:href=\"#glyph-1575557357254146-2-1\" x=\"3.321\" y=\"266.842\"/>\n",
       "</g>\n",
       "<g style=\"fill:rgb(0%,0%,0%);fill-opacity:1;\">\n",
       "  <use xlink:href=\"#glyph-1575557357254146-0-5\" x=\"9.907\" y=\"266.842\"/>\n",
       "  <use xlink:href=\"#glyph-1575557357254146-0-1\" x=\"14.141519\" y=\"266.842\"/>\n",
       "</g>\n",
       "<g style=\"fill:rgb(0%,0%,0%);fill-opacity:1;\">\n",
       "  <use xlink:href=\"#glyph-1575557357254146-2-1\" x=\"7.555\" y=\"209.495\"/>\n",
       "</g>\n",
       "<g style=\"fill:rgb(0%,0%,0%);fill-opacity:1;\">\n",
       "  <use xlink:href=\"#glyph-1575557357254146-0-3\" x=\"14.141\" y=\"209.495\"/>\n",
       "</g>\n",
       "<g style=\"fill:rgb(0%,0%,0%);fill-opacity:1;\">\n",
       "  <use xlink:href=\"#glyph-1575557357254146-0-1\" x=\"14.141\" y=\"152.563\"/>\n",
       "</g>\n",
       "<g style=\"fill:rgb(0%,0%,0%);fill-opacity:1;\">\n",
       "  <use xlink:href=\"#glyph-1575557357254146-0-3\" x=\"14.141\" y=\"95.216\"/>\n",
       "</g>\n",
       "<g style=\"fill:rgb(0%,0%,0%);fill-opacity:1;\">\n",
       "  <use xlink:href=\"#glyph-1575557357254146-0-5\" x=\"9.907\" y=\"37.869\"/>\n",
       "  <use xlink:href=\"#glyph-1575557357254146-0-1\" x=\"14.141519\" y=\"37.869\"/>\n",
       "</g>\n",
       "<path style=\"fill:none;stroke-width:0.99628;stroke-linecap:butt;stroke-linejoin:miter;stroke:rgb(0%,60.559082%,97.866821%);stroke-opacity:1;stroke-miterlimit:10;\" d=\"M 10.956563 115.810812 L 10.956563 115.810812 \" transform=\"matrix(1,0,0,-1,21.895,265.803)\"/>\n",
       "<path style=\"fill:none;stroke-width:0.99628;stroke-linecap:butt;stroke-linejoin:miter;stroke:rgb(0%,60.559082%,97.866821%);stroke-opacity:1;stroke-miterlimit:10;\" d=\"M 14.608906 115.810812 L 14.608906 116.955344 \" transform=\"matrix(1,0,0,-1,21.895,265.803)\"/>\n",
       "<path style=\"fill:none;stroke-width:0.99628;stroke-linecap:butt;stroke-linejoin:miter;stroke:rgb(0%,60.559082%,97.866821%);stroke-opacity:1;stroke-miterlimit:10;\" d=\"M 18.26125 115.810812 L 18.26125 118.088156 \" transform=\"matrix(1,0,0,-1,21.895,265.803)\"/>\n",
       "<path style=\"fill:none;stroke-width:0.99628;stroke-linecap:butt;stroke-linejoin:miter;stroke:rgb(0%,60.559082%,97.866821%);stroke-opacity:1;stroke-miterlimit:10;\" d=\"M 21.913594 115.810812 L 21.913594 119.201437 \" transform=\"matrix(1,0,0,-1,21.895,265.803)\"/>\n",
       "<path style=\"fill:none;stroke-width:0.99628;stroke-linecap:butt;stroke-linejoin:miter;stroke:rgb(0%,60.559082%,97.866821%);stroke-opacity:1;stroke-miterlimit:10;\" d=\"M 25.569844 115.810812 L 25.569844 120.275656 \" transform=\"matrix(1,0,0,-1,21.895,265.803)\"/>\n",
       "<path style=\"fill:none;stroke-width:0.99628;stroke-linecap:butt;stroke-linejoin:miter;stroke:rgb(0%,60.559082%,97.866821%);stroke-opacity:1;stroke-miterlimit:10;\" d=\"M 29.222188 115.810812 L 29.222188 121.310812 \" transform=\"matrix(1,0,0,-1,21.895,265.803)\"/>\n",
       "<path style=\"fill:none;stroke-width:0.99628;stroke-linecap:butt;stroke-linejoin:miter;stroke:rgb(0%,60.559082%,97.866821%);stroke-opacity:1;stroke-miterlimit:10;\" d=\"M 32.874531 115.810812 L 32.874531 122.287375 \" transform=\"matrix(1,0,0,-1,21.895,265.803)\"/>\n",
       "<path style=\"fill:none;stroke-width:0.99628;stroke-linecap:butt;stroke-linejoin:miter;stroke:rgb(0%,60.559082%,97.866821%);stroke-opacity:1;stroke-miterlimit:10;\" d=\"M 36.526875 115.810812 L 36.526875 123.197531 \" transform=\"matrix(1,0,0,-1,21.895,265.803)\"/>\n",
       "<path style=\"fill:none;stroke-width:0.99628;stroke-linecap:butt;stroke-linejoin:miter;stroke:rgb(0%,60.559082%,97.866821%);stroke-opacity:1;stroke-miterlimit:10;\" d=\"M 40.179219 115.810812 L 40.179219 124.037375 \" transform=\"matrix(1,0,0,-1,21.895,265.803)\"/>\n",
       "<path style=\"fill:none;stroke-width:0.99628;stroke-linecap:butt;stroke-linejoin:miter;stroke:rgb(0%,60.559082%,97.866821%);stroke-opacity:1;stroke-miterlimit:10;\" d=\"M 43.831563 115.810812 L 43.831563 124.795187 \" transform=\"matrix(1,0,0,-1,21.895,265.803)\"/>\n",
       "<path style=\"fill:none;stroke-width:0.99628;stroke-linecap:butt;stroke-linejoin:miter;stroke:rgb(0%,60.559082%,97.866821%);stroke-opacity:1;stroke-miterlimit:10;\" d=\"M 47.483906 115.810812 L 47.483906 125.463156 \" transform=\"matrix(1,0,0,-1,21.895,265.803)\"/>\n",
       "<path style=\"fill:none;stroke-width:0.99628;stroke-linecap:butt;stroke-linejoin:miter;stroke:rgb(0%,60.559082%,97.866821%);stroke-opacity:1;stroke-miterlimit:10;\" d=\"M 51.13625 115.810812 L 51.13625 126.033469 \" transform=\"matrix(1,0,0,-1,21.895,265.803)\"/>\n",
       "<path style=\"fill:none;stroke-width:0.99628;stroke-linecap:butt;stroke-linejoin:miter;stroke:rgb(0%,60.559082%,97.866821%);stroke-opacity:1;stroke-miterlimit:10;\" d=\"M 54.788594 115.810812 L 54.788594 126.502219 \" transform=\"matrix(1,0,0,-1,21.895,265.803)\"/>\n",
       "<path style=\"fill:none;stroke-width:0.99628;stroke-linecap:butt;stroke-linejoin:miter;stroke:rgb(0%,60.559082%,97.866821%);stroke-opacity:1;stroke-miterlimit:10;\" d=\"M 58.440938 115.810812 L 58.440938 126.861594 \" transform=\"matrix(1,0,0,-1,21.895,265.803)\"/>\n",
       "<path style=\"fill:none;stroke-width:0.99628;stroke-linecap:butt;stroke-linejoin:miter;stroke:rgb(0%,60.559082%,97.866821%);stroke-opacity:1;stroke-miterlimit:10;\" d=\"M 62.093281 115.810812 L 62.093281 127.111594 \" transform=\"matrix(1,0,0,-1,21.895,265.803)\"/>\n",
       "<path style=\"fill:none;stroke-width:0.99628;stroke-linecap:butt;stroke-linejoin:miter;stroke:rgb(0%,60.559082%,97.866821%);stroke-opacity:1;stroke-miterlimit:10;\" d=\"M 65.745625 115.810812 L 65.745625 127.252219 \" transform=\"matrix(1,0,0,-1,21.895,265.803)\"/>\n",
       "<path style=\"fill:none;stroke-width:0.99628;stroke-linecap:butt;stroke-linejoin:miter;stroke:rgb(0%,60.559082%,97.866821%);stroke-opacity:1;stroke-miterlimit:10;\" d=\"M 69.397969 115.810812 L 69.397969 127.275656 \" transform=\"matrix(1,0,0,-1,21.895,265.803)\"/>\n",
       "<path style=\"fill:none;stroke-width:0.99628;stroke-linecap:butt;stroke-linejoin:miter;stroke:rgb(0%,60.559082%,97.866821%);stroke-opacity:1;stroke-miterlimit:10;\" d=\"M 73.050313 115.810812 L 73.050313 127.185812 \" transform=\"matrix(1,0,0,-1,21.895,265.803)\"/>\n",
       "<path style=\"fill:none;stroke-width:0.99628;stroke-linecap:butt;stroke-linejoin:miter;stroke:rgb(0%,60.559082%,97.866821%);stroke-opacity:1;stroke-miterlimit:10;\" d=\"M 76.702656 115.810812 L 76.702656 126.978781 \" transform=\"matrix(1,0,0,-1,21.895,265.803)\"/>\n",
       "<path style=\"fill:none;stroke-width:0.99628;stroke-linecap:butt;stroke-linejoin:miter;stroke:rgb(0%,60.559082%,97.866821%);stroke-opacity:1;stroke-miterlimit:10;\" d=\"M 80.355 115.810812 L 80.355 126.662375 \" transform=\"matrix(1,0,0,-1,21.895,265.803)\"/>\n",
       "<path style=\"fill:none;stroke-width:0.99628;stroke-linecap:butt;stroke-linejoin:miter;stroke:rgb(0%,60.559082%,97.866821%);stroke-opacity:1;stroke-miterlimit:10;\" d=\"M 84.007344 115.810812 L 84.007344 126.2405 \" transform=\"matrix(1,0,0,-1,21.895,265.803)\"/>\n",
       "<path style=\"fill:none;stroke-width:0.99628;stroke-linecap:butt;stroke-linejoin:miter;stroke:rgb(0%,60.559082%,97.866821%);stroke-opacity:1;stroke-miterlimit:10;\" d=\"M 87.659688 115.810812 L 87.659688 125.70925 \" transform=\"matrix(1,0,0,-1,21.895,265.803)\"/>\n",
       "<path style=\"fill:none;stroke-width:0.99628;stroke-linecap:butt;stroke-linejoin:miter;stroke:rgb(0%,60.559082%,97.866821%);stroke-opacity:1;stroke-miterlimit:10;\" d=\"M 91.315938 115.810812 L 91.315938 125.08425 \" transform=\"matrix(1,0,0,-1,21.895,265.803)\"/>\n",
       "<path style=\"fill:none;stroke-width:0.99628;stroke-linecap:butt;stroke-linejoin:miter;stroke:rgb(0%,60.559082%,97.866821%);stroke-opacity:1;stroke-miterlimit:10;\" d=\"M 94.968281 115.810812 L 94.968281 124.361594 \" transform=\"matrix(1,0,0,-1,21.895,265.803)\"/>\n",
       "<path style=\"fill:none;stroke-width:0.99628;stroke-linecap:butt;stroke-linejoin:miter;stroke:rgb(0%,60.559082%,97.866821%);stroke-opacity:1;stroke-miterlimit:10;\" d=\"M 98.620625 115.810812 L 98.620625 123.556906 \" transform=\"matrix(1,0,0,-1,21.895,265.803)\"/>\n",
       "<path style=\"fill:none;stroke-width:0.99628;stroke-linecap:butt;stroke-linejoin:miter;stroke:rgb(0%,60.559082%,97.866821%);stroke-opacity:1;stroke-miterlimit:10;\" d=\"M 102.272969 115.810812 L 102.272969 122.674094 \" transform=\"matrix(1,0,0,-1,21.895,265.803)\"/>\n",
       "<path style=\"fill:none;stroke-width:0.99628;stroke-linecap:butt;stroke-linejoin:miter;stroke:rgb(0%,60.559082%,97.866821%);stroke-opacity:1;stroke-miterlimit:10;\" d=\"M 105.925313 115.810812 L 105.925313 121.724875 \" transform=\"matrix(1,0,0,-1,21.895,265.803)\"/>\n",
       "<path style=\"fill:none;stroke-width:0.99628;stroke-linecap:butt;stroke-linejoin:miter;stroke:rgb(0%,60.559082%,97.866821%);stroke-opacity:1;stroke-miterlimit:10;\" d=\"M 109.577656 115.810812 L 109.577656 120.713156 \" transform=\"matrix(1,0,0,-1,21.895,265.803)\"/>\n",
       "<path style=\"fill:none;stroke-width:0.99628;stroke-linecap:butt;stroke-linejoin:miter;stroke:rgb(0%,60.559082%,97.866821%);stroke-opacity:1;stroke-miterlimit:10;\" d=\"M 113.23 115.810812 L 113.23 119.650656 \" transform=\"matrix(1,0,0,-1,21.895,265.803)\"/>\n",
       "<path style=\"fill:none;stroke-width:0.99628;stroke-linecap:butt;stroke-linejoin:miter;stroke:rgb(0%,60.559082%,97.866821%);stroke-opacity:1;stroke-miterlimit:10;\" d=\"M 116.882344 115.810812 L 116.882344 118.553 \" transform=\"matrix(1,0,0,-1,21.895,265.803)\"/>\n",
       "<path style=\"fill:none;stroke-width:0.99628;stroke-linecap:butt;stroke-linejoin:miter;stroke:rgb(0%,60.559082%,97.866821%);stroke-opacity:1;stroke-miterlimit:10;\" d=\"M 120.534688 115.810812 L 120.534688 117.428 \" transform=\"matrix(1,0,0,-1,21.895,265.803)\"/>\n",
       "<path style=\"fill:none;stroke-width:0.99628;stroke-linecap:butt;stroke-linejoin:miter;stroke:rgb(0%,60.559082%,97.866821%);stroke-opacity:1;stroke-miterlimit:10;\" d=\"M 124.187031 115.810812 L 124.187031 116.287375 \" transform=\"matrix(1,0,0,-1,21.895,265.803)\"/>\n",
       "<path style=\"fill:none;stroke-width:0.99628;stroke-linecap:butt;stroke-linejoin:miter;stroke:rgb(0%,60.559082%,97.866821%);stroke-opacity:1;stroke-miterlimit:10;\" d=\"M 127.839375 115.810812 L 127.839375 115.138937 \" transform=\"matrix(1,0,0,-1,21.895,265.803)\"/>\n",
       "<path style=\"fill:none;stroke-width:0.99628;stroke-linecap:butt;stroke-linejoin:miter;stroke:rgb(0%,60.559082%,97.866821%);stroke-opacity:1;stroke-miterlimit:10;\" d=\"M 131.491719 115.810812 L 131.491719 114.002219 \" transform=\"matrix(1,0,0,-1,21.895,265.803)\"/>\n",
       "<path style=\"fill:none;stroke-width:0.99628;stroke-linecap:butt;stroke-linejoin:miter;stroke:rgb(0%,60.559082%,97.866821%);stroke-opacity:1;stroke-miterlimit:10;\" d=\"M 135.144062 115.810812 L 135.144062 112.881125 \" transform=\"matrix(1,0,0,-1,21.895,265.803)\"/>\n",
       "<path style=\"fill:none;stroke-width:0.99628;stroke-linecap:butt;stroke-linejoin:miter;stroke:rgb(0%,60.559082%,97.866821%);stroke-opacity:1;stroke-miterlimit:10;\" d=\"M 138.796406 115.810812 L 138.796406 111.787375 \" transform=\"matrix(1,0,0,-1,21.895,265.803)\"/>\n",
       "<path style=\"fill:none;stroke-width:0.99628;stroke-linecap:butt;stroke-linejoin:miter;stroke:rgb(0%,60.559082%,97.866821%);stroke-opacity:1;stroke-miterlimit:10;\" d=\"M 142.44875 115.810812 L 142.44875 110.736594 \" transform=\"matrix(1,0,0,-1,21.895,265.803)\"/>\n",
       "<path style=\"fill:none;stroke-width:0.99628;stroke-linecap:butt;stroke-linejoin:miter;stroke:rgb(0%,60.559082%,97.866821%);stroke-opacity:1;stroke-miterlimit:10;\" d=\"M 146.101094 115.810812 L 146.101094 109.732687 \" transform=\"matrix(1,0,0,-1,21.895,265.803)\"/>\n",
       "<path style=\"fill:none;stroke-width:0.99628;stroke-linecap:butt;stroke-linejoin:miter;stroke:rgb(0%,60.559082%,97.866821%);stroke-opacity:1;stroke-miterlimit:10;\" d=\"M 149.753437 115.810812 L 149.753437 108.791281 \" transform=\"matrix(1,0,0,-1,21.895,265.803)\"/>\n",
       "<path style=\"fill:none;stroke-width:0.99628;stroke-linecap:butt;stroke-linejoin:miter;stroke:rgb(0%,60.559082%,97.866821%);stroke-opacity:1;stroke-miterlimit:10;\" d=\"M 153.405781 115.810812 L 153.405781 107.920187 \" transform=\"matrix(1,0,0,-1,21.895,265.803)\"/>\n",
       "<path style=\"fill:none;stroke-width:0.99628;stroke-linecap:butt;stroke-linejoin:miter;stroke:rgb(0%,60.559082%,97.866821%);stroke-opacity:1;stroke-miterlimit:10;\" d=\"M 157.062031 115.810812 L 157.062031 107.131125 \" transform=\"matrix(1,0,0,-1,21.895,265.803)\"/>\n",
       "<path style=\"fill:none;stroke-width:0.99628;stroke-linecap:butt;stroke-linejoin:miter;stroke:rgb(0%,60.559082%,97.866821%);stroke-opacity:1;stroke-miterlimit:10;\" d=\"M 160.714375 115.810812 L 160.714375 106.424094 \" transform=\"matrix(1,0,0,-1,21.895,265.803)\"/>\n",
       "<path style=\"fill:none;stroke-width:0.99628;stroke-linecap:butt;stroke-linejoin:miter;stroke:rgb(0%,60.559082%,97.866821%);stroke-opacity:1;stroke-miterlimit:10;\" d=\"M 164.366719 115.810812 L 164.366719 105.814719 \" transform=\"matrix(1,0,0,-1,21.895,265.803)\"/>\n",
       "<path style=\"fill:none;stroke-width:0.99628;stroke-linecap:butt;stroke-linejoin:miter;stroke:rgb(0%,60.559082%,97.866821%);stroke-opacity:1;stroke-miterlimit:10;\" d=\"M 168.019062 115.810812 L 168.019062 105.303 \" transform=\"matrix(1,0,0,-1,21.895,265.803)\"/>\n",
       "<path style=\"fill:none;stroke-width:0.99628;stroke-linecap:butt;stroke-linejoin:miter;stroke:rgb(0%,60.559082%,97.866821%);stroke-opacity:1;stroke-miterlimit:10;\" d=\"M 171.671406 115.810812 L 171.671406 104.89675 \" transform=\"matrix(1,0,0,-1,21.895,265.803)\"/>\n",
       "<path style=\"fill:none;stroke-width:0.99628;stroke-linecap:butt;stroke-linejoin:miter;stroke:rgb(0%,60.559082%,97.866821%);stroke-opacity:1;stroke-miterlimit:10;\" d=\"M 175.32375 115.810812 L 175.32375 104.599875 \" transform=\"matrix(1,0,0,-1,21.895,265.803)\"/>\n",
       "<path style=\"fill:none;stroke-width:0.99628;stroke-linecap:butt;stroke-linejoin:miter;stroke:rgb(0%,60.559082%,97.866821%);stroke-opacity:1;stroke-miterlimit:10;\" d=\"M 178.976094 115.810812 L 178.976094 104.412375 \" transform=\"matrix(1,0,0,-1,21.895,265.803)\"/>\n",
       "<path style=\"fill:none;stroke-width:0.99628;stroke-linecap:butt;stroke-linejoin:miter;stroke:rgb(0%,60.559082%,97.866821%);stroke-opacity:1;stroke-miterlimit:10;\" d=\"M 182.628437 115.810812 L 182.628437 104.342062 \" transform=\"matrix(1,0,0,-1,21.895,265.803)\"/>\n",
       "<path style=\"fill:none;stroke-width:0.99628;stroke-linecap:butt;stroke-linejoin:miter;stroke:rgb(0%,60.559082%,97.866821%);stroke-opacity:1;stroke-miterlimit:10;\" d=\"M 186.280781 115.810812 L 186.280781 104.385031 \" transform=\"matrix(1,0,0,-1,21.895,265.803)\"/>\n",
       "<path style=\"fill:none;stroke-width:0.99628;stroke-linecap:butt;stroke-linejoin:miter;stroke:rgb(0%,60.559082%,97.866821%);stroke-opacity:1;stroke-miterlimit:10;\" d=\"M 189.933125 115.810812 L 189.933125 104.541281 \" transform=\"matrix(1,0,0,-1,21.895,265.803)\"/>\n",
       "<path style=\"fill:none;stroke-width:0.99628;stroke-linecap:butt;stroke-linejoin:miter;stroke:rgb(0%,60.559082%,97.866821%);stroke-opacity:1;stroke-miterlimit:10;\" d=\"M 193.585469 115.810812 L 193.585469 104.810812 \" transform=\"matrix(1,0,0,-1,21.895,265.803)\"/>\n",
       "<path style=\"fill:none;stroke-width:0.99628;stroke-linecap:butt;stroke-linejoin:miter;stroke:rgb(0%,60.559082%,97.866821%);stroke-opacity:1;stroke-miterlimit:10;\" d=\"M 197.237812 115.810812 L 197.237812 105.189719 \" transform=\"matrix(1,0,0,-1,21.895,265.803)\"/>\n",
       "<path style=\"fill:none;stroke-width:0.99628;stroke-linecap:butt;stroke-linejoin:miter;stroke:rgb(0%,60.559082%,97.866821%);stroke-opacity:1;stroke-miterlimit:10;\" d=\"M 200.890156 115.810812 L 200.890156 105.678 \" transform=\"matrix(1,0,0,-1,21.895,265.803)\"/>\n",
       "<path style=\"fill:none;stroke-width:0.99628;stroke-linecap:butt;stroke-linejoin:miter;stroke:rgb(0%,60.559082%,97.866821%);stroke-opacity:1;stroke-miterlimit:10;\" d=\"M 204.5425 115.810812 L 204.5425 106.263937 \" transform=\"matrix(1,0,0,-1,21.895,265.803)\"/>\n",
       "<path style=\"fill:none;stroke-width:0.99628;stroke-linecap:butt;stroke-linejoin:miter;stroke:rgb(0%,60.559082%,97.866821%);stroke-opacity:1;stroke-miterlimit:10;\" d=\"M 208.194844 115.810812 L 208.194844 106.947531 \" transform=\"matrix(1,0,0,-1,21.895,265.803)\"/>\n",
       "<path style=\"fill:none;stroke-width:0.99628;stroke-linecap:butt;stroke-linejoin:miter;stroke:rgb(0%,60.559082%,97.866821%);stroke-opacity:1;stroke-miterlimit:10;\" d=\"M 211.847187 115.810812 L 211.847187 107.717062 \" transform=\"matrix(1,0,0,-1,21.895,265.803)\"/>\n",
       "<path style=\"fill:none;stroke-width:0.99628;stroke-linecap:butt;stroke-linejoin:miter;stroke:rgb(0%,60.559082%,97.866821%);stroke-opacity:1;stroke-miterlimit:10;\" d=\"M 215.499531 115.810812 L 215.499531 108.568625 \" transform=\"matrix(1,0,0,-1,21.895,265.803)\"/>\n",
       "<path style=\"fill:none;stroke-width:0.99628;stroke-linecap:butt;stroke-linejoin:miter;stroke:rgb(0%,60.559082%,97.866821%);stroke-opacity:1;stroke-miterlimit:10;\" d=\"M 219.151875 115.810812 L 219.151875 109.494406 \" transform=\"matrix(1,0,0,-1,21.895,265.803)\"/>\n",
       "<path style=\"fill:none;stroke-width:0.99628;stroke-linecap:butt;stroke-linejoin:miter;stroke:rgb(0%,60.559082%,97.866821%);stroke-opacity:1;stroke-miterlimit:10;\" d=\"M 222.804219 115.810812 L 222.804219 110.482687 \" transform=\"matrix(1,0,0,-1,21.895,265.803)\"/>\n",
       "<path style=\"fill:none;stroke-width:0.99628;stroke-linecap:butt;stroke-linejoin:miter;stroke:rgb(0%,60.559082%,97.866821%);stroke-opacity:1;stroke-miterlimit:10;\" d=\"M 226.460469 115.810812 L 226.460469 111.52175 \" transform=\"matrix(1,0,0,-1,21.895,265.803)\"/>\n",
       "<path style=\"fill:none;stroke-width:0.99628;stroke-linecap:butt;stroke-linejoin:miter;stroke:rgb(0%,60.559082%,97.866821%);stroke-opacity:1;stroke-miterlimit:10;\" d=\"M 230.112812 115.810812 L 230.112812 112.603781 \" transform=\"matrix(1,0,0,-1,21.895,265.803)\"/>\n",
       "<path style=\"fill:none;stroke-width:0.99628;stroke-linecap:butt;stroke-linejoin:miter;stroke:rgb(0%,60.559082%,97.866821%);stroke-opacity:1;stroke-miterlimit:10;\" d=\"M 233.765156 115.810812 L 233.765156 113.720969 \" transform=\"matrix(1,0,0,-1,21.895,265.803)\"/>\n",
       "<path style=\"fill:none;stroke-width:0.99628;stroke-linecap:butt;stroke-linejoin:miter;stroke:rgb(0%,60.559082%,97.866821%);stroke-opacity:1;stroke-miterlimit:10;\" d=\"M 237.4175 115.810812 L 237.4175 114.857687 \" transform=\"matrix(1,0,0,-1,21.895,265.803)\"/>\n",
       "<path style=\"fill:none;stroke-width:0.99628;stroke-linecap:butt;stroke-linejoin:miter;stroke:rgb(0%,60.559082%,97.866821%);stroke-opacity:1;stroke-miterlimit:10;\" d=\"M 241.069844 115.810812 L 241.069844 116.002219 \" transform=\"matrix(1,0,0,-1,21.895,265.803)\"/>\n",
       "<path style=\"fill:none;stroke-width:0.99628;stroke-linecap:butt;stroke-linejoin:miter;stroke:rgb(0%,60.559082%,97.866821%);stroke-opacity:1;stroke-miterlimit:10;\" d=\"M 244.722187 115.810812 L 244.722187 117.14675 \" transform=\"matrix(1,0,0,-1,21.895,265.803)\"/>\n",
       "<path style=\"fill:none;stroke-width:0.99628;stroke-linecap:butt;stroke-linejoin:miter;stroke:rgb(0%,60.559082%,97.866821%);stroke-opacity:1;stroke-miterlimit:10;\" d=\"M 248.374531 115.810812 L 248.374531 118.279562 \" transform=\"matrix(1,0,0,-1,21.895,265.803)\"/>\n",
       "<path style=\"fill:none;stroke-width:0.99628;stroke-linecap:butt;stroke-linejoin:miter;stroke:rgb(0%,60.559082%,97.866821%);stroke-opacity:1;stroke-miterlimit:10;\" d=\"M 252.026875 115.810812 L 252.026875 119.385031 \" transform=\"matrix(1,0,0,-1,21.895,265.803)\"/>\n",
       "<path style=\"fill:none;stroke-width:0.99628;stroke-linecap:butt;stroke-linejoin:miter;stroke:rgb(0%,60.559082%,97.866821%);stroke-opacity:1;stroke-miterlimit:10;\" d=\"M 255.679219 115.810812 L 255.679219 120.455344 \" transform=\"matrix(1,0,0,-1,21.895,265.803)\"/>\n",
       "<path style=\"fill:none;stroke-width:0.99628;stroke-linecap:butt;stroke-linejoin:miter;stroke:rgb(0%,60.559082%,97.866821%);stroke-opacity:1;stroke-miterlimit:10;\" d=\"M 259.331563 115.810812 L 259.331563 121.478781 \" transform=\"matrix(1,0,0,-1,21.895,265.803)\"/>\n",
       "<path style=\"fill:none;stroke-width:0.99628;stroke-linecap:butt;stroke-linejoin:miter;stroke:rgb(0%,60.559082%,97.866821%);stroke-opacity:1;stroke-miterlimit:10;\" d=\"M 262.983906 115.810812 L 262.983906 122.443625 \" transform=\"matrix(1,0,0,-1,21.895,265.803)\"/>\n",
       "<path style=\"fill:none;stroke-width:0.99628;stroke-linecap:butt;stroke-linejoin:miter;stroke:rgb(0%,60.559082%,97.866821%);stroke-opacity:1;stroke-miterlimit:10;\" d=\"M 266.63625 115.810812 L 266.63625 123.345969 \" transform=\"matrix(1,0,0,-1,21.895,265.803)\"/>\n",
       "<path style=\"fill:none;stroke-width:0.99628;stroke-linecap:butt;stroke-linejoin:miter;stroke:rgb(0%,60.559082%,97.866821%);stroke-opacity:1;stroke-miterlimit:10;\" d=\"M 270.288594 115.810812 L 270.288594 124.170187 \" transform=\"matrix(1,0,0,-1,21.895,265.803)\"/>\n",
       "<path style=\"fill:none;stroke-width:0.99628;stroke-linecap:butt;stroke-linejoin:miter;stroke:rgb(0%,60.559082%,97.866821%);stroke-opacity:1;stroke-miterlimit:10;\" d=\"M 273.940938 115.810812 L 273.940938 124.912375 \" transform=\"matrix(1,0,0,-1,21.895,265.803)\"/>\n",
       "<path style=\"fill:none;stroke-width:0.99628;stroke-linecap:butt;stroke-linejoin:miter;stroke:rgb(0%,60.559082%,97.866821%);stroke-opacity:1;stroke-miterlimit:10;\" d=\"M 277.593281 115.810812 L 277.593281 125.564719 \" transform=\"matrix(1,0,0,-1,21.895,265.803)\"/>\n",
       "<path style=\"fill:none;stroke-width:0.99628;stroke-linecap:butt;stroke-linejoin:miter;stroke:rgb(0%,60.559082%,97.866821%);stroke-opacity:1;stroke-miterlimit:10;\" d=\"M 281.245625 115.810812 L 281.245625 126.119406 \" transform=\"matrix(1,0,0,-1,21.895,265.803)\"/>\n",
       "<path style=\"fill:none;stroke-width:0.99628;stroke-linecap:butt;stroke-linejoin:miter;stroke:rgb(0%,60.559082%,97.866821%);stroke-opacity:1;stroke-miterlimit:10;\" d=\"M 284.897969 115.810812 L 284.897969 126.568625 \" transform=\"matrix(1,0,0,-1,21.895,265.803)\"/>\n",
       "<path style=\"fill:none;stroke-width:0.99628;stroke-linecap:butt;stroke-linejoin:miter;stroke:rgb(0%,60.559082%,97.866821%);stroke-opacity:1;stroke-miterlimit:10;\" d=\"M 288.550313 115.810812 L 288.550313 126.912375 \" transform=\"matrix(1,0,0,-1,21.895,265.803)\"/>\n",
       "<path style=\"fill:none;stroke-width:0.99628;stroke-linecap:butt;stroke-linejoin:miter;stroke:rgb(0%,60.559082%,97.866821%);stroke-opacity:1;stroke-miterlimit:10;\" d=\"M 292.206563 115.810812 L 292.206563 127.142844 \" transform=\"matrix(1,0,0,-1,21.895,265.803)\"/>\n",
       "<path style=\"fill:none;stroke-width:0.99628;stroke-linecap:butt;stroke-linejoin:miter;stroke:rgb(0%,60.559082%,97.866821%);stroke-opacity:1;stroke-miterlimit:10;\" d=\"M 295.858906 115.810812 L 295.858906 127.263937 \" transform=\"matrix(1,0,0,-1,21.895,265.803)\"/>\n",
       "<path style=\"fill:none;stroke-width:0.99628;stroke-linecap:butt;stroke-linejoin:miter;stroke:rgb(0%,60.559082%,97.866821%);stroke-opacity:1;stroke-miterlimit:10;\" d=\"M 299.51125 115.810812 L 299.51125 127.267844 \" transform=\"matrix(1,0,0,-1,21.895,265.803)\"/>\n",
       "<path style=\"fill:none;stroke-width:0.99628;stroke-linecap:butt;stroke-linejoin:miter;stroke:rgb(0%,60.559082%,97.866821%);stroke-opacity:1;stroke-miterlimit:10;\" d=\"M 303.163594 115.810812 L 303.163594 127.158469 \" transform=\"matrix(1,0,0,-1,21.895,265.803)\"/>\n",
       "<path style=\"fill:none;stroke-width:0.99628;stroke-linecap:butt;stroke-linejoin:miter;stroke:rgb(0%,60.559082%,97.866821%);stroke-opacity:1;stroke-miterlimit:10;\" d=\"M 306.815938 115.810812 L 306.815938 126.935812 \" transform=\"matrix(1,0,0,-1,21.895,265.803)\"/>\n",
       "<path style=\"fill:none;stroke-width:0.99628;stroke-linecap:butt;stroke-linejoin:miter;stroke:rgb(0%,60.559082%,97.866821%);stroke-opacity:1;stroke-miterlimit:10;\" d=\"M 310.468281 115.810812 L 310.468281 126.599875 \" transform=\"matrix(1,0,0,-1,21.895,265.803)\"/>\n",
       "<path style=\"fill:none;stroke-width:0.99628;stroke-linecap:butt;stroke-linejoin:miter;stroke:rgb(0%,60.559082%,97.866821%);stroke-opacity:1;stroke-miterlimit:10;\" d=\"M 314.120625 115.810812 L 314.120625 126.158469 \" transform=\"matrix(1,0,0,-1,21.895,265.803)\"/>\n",
       "<path style=\"fill:none;stroke-width:0.99628;stroke-linecap:butt;stroke-linejoin:miter;stroke:rgb(0%,60.559082%,97.866821%);stroke-opacity:1;stroke-miterlimit:10;\" d=\"M 317.772969 115.810812 L 317.772969 125.611594 \" transform=\"matrix(1,0,0,-1,21.895,265.803)\"/>\n",
       "<path style=\"fill:none;stroke-width:0.99628;stroke-linecap:butt;stroke-linejoin:miter;stroke:rgb(0%,60.559082%,97.866821%);stroke-opacity:1;stroke-miterlimit:10;\" d=\"M 321.425313 115.810812 L 321.425313 124.967062 \" transform=\"matrix(1,0,0,-1,21.895,265.803)\"/>\n",
       "<path style=\"fill:none;stroke-width:0.99628;stroke-linecap:butt;stroke-linejoin:miter;stroke:rgb(0%,60.559082%,97.866821%);stroke-opacity:1;stroke-miterlimit:10;\" d=\"M 325.077656 115.810812 L 325.077656 124.232687 \" transform=\"matrix(1,0,0,-1,21.895,265.803)\"/>\n",
       "<path style=\"fill:none;stroke-width:0.99628;stroke-linecap:butt;stroke-linejoin:miter;stroke:rgb(0%,60.559082%,97.866821%);stroke-opacity:1;stroke-miterlimit:10;\" d=\"M 328.73 115.810812 L 328.73 123.416281 \" transform=\"matrix(1,0,0,-1,21.895,265.803)\"/>\n",
       "<path style=\"fill:none;stroke-width:0.99628;stroke-linecap:butt;stroke-linejoin:miter;stroke:rgb(0%,60.559082%,97.866821%);stroke-opacity:1;stroke-miterlimit:10;\" d=\"M 332.382344 115.810812 L 332.382344 122.517844 \" transform=\"matrix(1,0,0,-1,21.895,265.803)\"/>\n",
       "<path style=\"fill:none;stroke-width:0.99628;stroke-linecap:butt;stroke-linejoin:miter;stroke:rgb(0%,60.559082%,97.866821%);stroke-opacity:1;stroke-miterlimit:10;\" d=\"M 336.034688 115.810812 L 336.034688 121.556906 \" transform=\"matrix(1,0,0,-1,21.895,265.803)\"/>\n",
       "<path style=\"fill:none;stroke-width:0.99628;stroke-linecap:butt;stroke-linejoin:miter;stroke:rgb(0%,60.559082%,97.866821%);stroke-opacity:1;stroke-miterlimit:10;\" d=\"M 339.687031 115.810812 L 339.687031 120.537375 \" transform=\"matrix(1,0,0,-1,21.895,265.803)\"/>\n",
       "<path style=\"fill:none;stroke-width:0.99628;stroke-linecap:butt;stroke-linejoin:miter;stroke:rgb(0%,60.559082%,97.866821%);stroke-opacity:1;stroke-miterlimit:10;\" d=\"M 343.339375 115.810812 L 343.339375 119.470969 \" transform=\"matrix(1,0,0,-1,21.895,265.803)\"/>\n",
       "<path style=\"fill:none;stroke-width:0.99628;stroke-linecap:butt;stroke-linejoin:miter;stroke:rgb(0%,60.559082%,97.866821%);stroke-opacity:1;stroke-miterlimit:10;\" d=\"M 346.991719 115.810812 L 346.991719 118.3655 \" transform=\"matrix(1,0,0,-1,21.895,265.803)\"/>\n",
       "<path style=\"fill:none;stroke-width:0.99628;stroke-linecap:butt;stroke-linejoin:miter;stroke:rgb(0%,60.559082%,97.866821%);stroke-opacity:1;stroke-miterlimit:10;\" d=\"M 350.644063 115.810812 L 350.644063 117.236594 \" transform=\"matrix(1,0,0,-1,21.895,265.803)\"/>\n",
       "<path style=\"fill:none;stroke-width:0.99628;stroke-linecap:butt;stroke-linejoin:miter;stroke:rgb(0%,60.559082%,97.866821%);stroke-opacity:1;stroke-miterlimit:10;\" d=\"M 354.296406 115.810812 L 354.296406 116.095969 \" transform=\"matrix(1,0,0,-1,21.895,265.803)\"/>\n",
       "<path style=\"fill:none;stroke-width:0.99628;stroke-linecap:butt;stroke-linejoin:miter;stroke:rgb(0%,60.559082%,97.866821%);stroke-opacity:1;stroke-miterlimit:10;\" d=\"M 357.952656 115.810812 L 357.952656 114.947531 \" transform=\"matrix(1,0,0,-1,21.895,265.803)\"/>\n",
       "<path style=\"fill:none;stroke-width:0.99628;stroke-linecap:butt;stroke-linejoin:miter;stroke:rgb(0%,60.559082%,97.866821%);stroke-opacity:1;stroke-miterlimit:10;\" d=\"M 361.605 115.810812 L 361.605 113.810812 \" transform=\"matrix(1,0,0,-1,21.895,265.803)\"/>\n",
       "<path style=\"fill:none;stroke-width:0.99628;stroke-linecap:butt;stroke-linejoin:miter;stroke:rgb(0%,60.559082%,97.866821%);stroke-opacity:1;stroke-miterlimit:10;\" d=\"M 365.257344 115.810812 L 365.257344 112.693625 \" transform=\"matrix(1,0,0,-1,21.895,265.803)\"/>\n",
       "<path style=\"fill:none;stroke-width:0.99628;stroke-linecap:butt;stroke-linejoin:miter;stroke:rgb(0%,60.559082%,97.866821%);stroke-opacity:1;stroke-miterlimit:10;\" d=\"M 368.909688 115.810812 L 368.909688 111.607687 \" transform=\"matrix(1,0,0,-1,21.895,265.803)\"/>\n",
       "<path style=\"fill:none;stroke-width:0.99628;stroke-linecap:butt;stroke-linejoin:miter;stroke:rgb(0%,60.559082%,97.866821%);stroke-opacity:1;stroke-miterlimit:10;\" d=\"M 372.562031 115.810812 L 372.562031 110.560812 \" transform=\"matrix(1,0,0,-1,21.895,265.803)\"/>\n",
       "<path style=\"fill:none;stroke-width:0.99628;stroke-linecap:butt;stroke-linejoin:miter;stroke:rgb(0%,60.559082%,97.866821%);stroke-opacity:1;stroke-miterlimit:10;\" d=\"M 376.214375 115.810812 L 376.214375 109.572531 \" transform=\"matrix(1,0,0,-1,21.895,265.803)\"/>\n",
       "<g clip-path=\"url(#clip-1575557357254146-4)\" clip-rule=\"nonzero\">\n",
       "<path style=\"fill:none;stroke-width:0.99628;stroke-linecap:butt;stroke-linejoin:miter;stroke:rgb(88.885498%,43.563843%,27.810669%);stroke-opacity:1;stroke-dasharray:2.98883,1.99255,0.99628,1.99255;stroke-miterlimit:10;\" d=\"M 10.956563 127.279562 L 14.608906 127.220969 L 18.26125 127.053 L 21.913594 126.767844 L 25.569844 126.373312 L 29.222188 125.877219 L 32.874531 125.275656 L 36.526875 124.58425 L 40.179219 123.803 L 43.831563 122.939719 L 47.483906 122.006125 L 51.13625 121.013937 L 54.788594 119.967062 L 58.440938 118.877219 L 62.093281 117.760031 L 65.745625 116.623312 L 69.397969 115.474875 L 73.050313 114.33425 L 76.702656 113.205344 L 80.355 112.103781 L 84.007344 111.037375 L 87.659688 110.02175 L 91.315938 109.060812 L 94.968281 108.170187 L 98.620625 107.353781 L 102.272969 106.623312 L 105.925313 105.982687 L 109.577656 105.439719 L 113.23 105.002219 L 116.882344 104.674094 L 120.534688 104.455344 L 124.187031 104.349875 L 127.839375 104.361594 L 131.491719 104.482687 L 135.144062 104.720969 L 138.796406 105.068625 L 142.44875 105.525656 L 146.101094 106.08425 L 149.753437 106.736594 L 153.405781 107.482687 L 157.062031 108.314719 L 160.714375 109.217062 L 164.366719 110.185812 L 168.019062 111.213156 L 171.671406 112.283469 L 175.32375 113.392844 L 178.976094 114.525656 L 186.280781 116.814719 L 189.933125 117.951437 L 193.585469 119.064719 L 197.237812 120.14675 L 200.890156 121.185812 L 204.5425 122.170187 L 208.194844 123.088156 L 211.847187 123.939719 L 215.499531 124.705344 L 219.151875 125.385031 L 222.804219 125.967062 L 226.460469 126.447531 L 230.112812 126.822531 L 233.765156 127.088156 L 237.4175 127.2405 L 241.069844 127.279562 L 244.722187 127.201437 L 248.374531 127.010031 L 252.026875 126.70925 L 255.679219 126.299094 L 259.331563 125.783469 L 262.983906 125.166281 L 266.63625 124.45925 L 270.288594 123.662375 L 273.940938 122.787375 L 277.593281 121.845969 L 281.245625 120.842062 L 284.897969 119.787375 L 288.550313 118.693625 L 292.206563 117.568625 L 295.858906 116.428 L 299.51125 115.283469 L 303.163594 114.142844 L 306.815938 113.017844 L 310.468281 111.920187 L 314.120625 110.861594 L 317.772969 109.853781 L 321.425313 108.904562 L 325.077656 108.025656 L 328.73 107.224875 L 332.382344 106.506125 L 336.034688 105.885031 L 339.687031 105.361594 L 343.339375 104.939719 L 346.991719 104.631125 L 350.644063 104.428 L 354.296406 104.345969 L 357.952656 104.373312 L 361.605 104.517844 L 365.257344 104.77175 L 368.909688 105.138937 L 372.562031 105.611594 L 376.214375 106.185812 \" transform=\"matrix(1,0,0,-1,21.895,265.803)\"/>\n",
       "</g>\n",
       "<g clip-path=\"url(#clip-1575557357254146-5)\" clip-rule=\"nonzero\">\n",
       "<path style=\"fill:none;stroke-width:0.99628;stroke-linecap:butt;stroke-linejoin:miter;stroke:rgb(24.221802%,64.326477%,30.44281%);stroke-opacity:1;stroke-dasharray:2.98883,1.99255,0.99628,1.99255,0.99628,1.99255;stroke-miterlimit:10;\" d=\"M 10.956563 127.279562 L 14.608906 138.693625 L 18.26125 149.931906 L 21.913594 160.888937 L 25.569844 171.455344 L 29.222188 181.52175 L 32.874531 190.986594 L 36.526875 199.760031 L 40.179219 207.748312 L 43.831563 214.881125 L 47.483906 221.076437 L 51.13625 226.279562 L 54.788594 230.435812 L 58.440938 233.502219 L 62.093281 235.451437 L 65.745625 236.263937 L 69.397969 235.928 L 73.050313 234.451437 L 76.702656 231.845969 L 80.355 228.138937 L 84.007344 223.3655 L 87.659688 217.572531 L 91.315938 210.826437 L 94.968281 203.181906 L 98.620625 194.724875 L 102.272969 185.537375 L 105.925313 175.70925 L 109.577656 165.338156 L 113.23 154.533469 L 116.882344 143.39675 L 120.534688 132.041281 L 124.187031 120.580344 L 127.839375 109.131125 L 131.491719 97.803 L 135.144062 86.717062 L 138.796406 75.974875 L 142.44875 65.689719 L 146.101094 55.963156 L 149.753437 46.888937 L 153.405781 38.564719 L 157.062031 31.064719 L 160.714375 24.474875 L 164.366719 18.849875 L 168.019062 14.252219 L 171.671406 10.728781 L 175.32375 8.310812 L 178.976094 7.025656 L 182.628437 6.881125 L 186.280781 7.885031 L 189.933125 10.025656 L 193.585469 13.279562 L 197.237812 17.6155 L 200.890156 22.986594 L 204.5425 29.345969 L 208.194844 36.627219 L 211.847187 44.752219 L 215.499531 53.650656 L 219.151875 63.224875 L 222.804219 73.381125 L 226.460469 84.017844 L 230.112812 95.029562 L 233.765156 106.306906 L 237.4175 117.736594 L 241.069844 129.205344 L 244.722187 140.595969 L 248.374531 151.799094 L 252.026875 162.697531 L 255.679219 173.185812 L 259.331563 183.158469 L 262.983906 192.513937 L 266.63625 201.158469 L 270.288594 209.010031 L 273.940938 215.9905 L 277.593281 222.02175 L 281.245625 227.053 L 284.897969 231.029562 L 288.550313 233.912375 L 292.206563 235.670187 L 295.858906 236.287375 L 299.51125 235.760031 L 303.163594 234.092062 L 306.815938 231.299094 L 310.468281 227.408469 L 314.120625 222.45925 L 317.772969 216.506125 L 321.425313 209.599875 L 325.077656 201.814719 L 328.73 193.228781 L 332.382344 183.924094 L 336.034688 173.998312 L 339.687031 163.549094 L 343.339375 152.678 L 346.991719 141.498312 L 350.644063 130.119406 L 354.296406 118.650656 L 357.952656 107.213156 L 361.605 95.920187 L 365.257344 84.881125 L 368.909688 74.20925 L 372.562031 64.010031 L 376.214375 54.388937 \" transform=\"matrix(1,0,0,-1,21.895,265.803)\"/>\n",
       "</g>\n",
       "<g style=\"fill:rgb(0%,0%,0%);fill-opacity:1;\">\n",
       "  <use xlink:href=\"#glyph-1575557357254146-3-1\" x=\"159.869\" y=\"13\"/>\n",
       "</g>\n",
       "<g style=\"fill:rgb(0%,0%,0%);fill-opacity:1;\">\n",
       "  <use xlink:href=\"#glyph-1575557357254146-3-2\" x=\"168.78158\" y=\"13\"/>\n",
       "  <use xlink:href=\"#glyph-1575557357254146-3-3\" x=\"174.84883\" y=\"13\"/>\n",
       "  <use xlink:href=\"#glyph-1575557357254146-3-4\" x=\"180.162903\" y=\"13\"/>\n",
       "  <use xlink:href=\"#glyph-1575557357254146-3-5\" x=\"183.956678\" y=\"13\"/>\n",
       "</g>\n",
       "<g style=\"fill:rgb(0%,0%,0%);fill-opacity:1;\">\n",
       "  <use xlink:href=\"#glyph-1575557357254146-3-6\" x=\"191.167639\" y=\"13\"/>\n",
       "  <use xlink:href=\"#glyph-1575557357254146-3-4\" x=\"198.755188\" y=\"13\"/>\n",
       "  <use xlink:href=\"#glyph-1575557357254146-3-7\" x=\"202.548962\" y=\"13\"/>\n",
       "</g>\n",
       "<g style=\"fill:rgb(0%,0%,0%);fill-opacity:1;\">\n",
       "  <use xlink:href=\"#glyph-1575557357254146-3-8\" x=\"213.163162\" y=\"13\"/>\n",
       "</g>\n",
       "<g style=\"fill:rgb(0%,0%,0%);fill-opacity:1;\">\n",
       "  <use xlink:href=\"#glyph-1575557357254146-3-9\" x=\"220.932031\" y=\"13\"/>\n",
       "  <use xlink:href=\"#glyph-1575557357254146-3-10\" x=\"228.519579\" y=\"13\"/>\n",
       "  <use xlink:href=\"#glyph-1575557357254146-3-7\" x=\"236.107128\" y=\"13\"/>\n",
       "  <use xlink:href=\"#glyph-1575557357254146-3-11\" x=\"242.174378\" y=\"13\"/>\n",
       "  <use xlink:href=\"#glyph-1575557357254146-3-4\" x=\"247.488451\" y=\"13\"/>\n",
       "  <use xlink:href=\"#glyph-1575557357254146-3-5\" x=\"251.282226\" y=\"13\"/>\n",
       "  <use xlink:href=\"#glyph-1575557357254146-3-10\" x=\"258.116599\" y=\"13\"/>\n",
       "  <use xlink:href=\"#glyph-1575557357254146-3-12\" x=\"265.704148\" y=\"13\"/>\n",
       "</g>\n",
       "<path style=\"fill-rule:nonzero;fill:rgb(100%,100%,100%);fill-opacity:1;stroke-width:0.99628;stroke-linecap:butt;stroke-linejoin:miter;stroke:rgb(0%,0%,0%);stroke-opacity:1;stroke-miterlimit:10;\" d=\"M 315.331563 199.920187 L 378.929219 199.920187 L 378.929219 237.806906 L 315.331563 237.806906 Z M 315.331563 199.920187 \" transform=\"matrix(1,0,0,-1,21.895,265.803)\"/>\n",
       "<path style=\"fill:none;stroke-width:0.99628;stroke-linecap:butt;stroke-linejoin:miter;stroke:rgb(0%,60.559082%,97.866821%);stroke-opacity:1;stroke-miterlimit:10;\" d=\"M 0.0019375 -0.00146875 L 17.00975 -0.00146875 \" transform=\"matrix(1,0,0,-1,340.709,35.354)\"/>\n",
       "<g style=\"fill:rgb(0%,0%,0%);fill-opacity:1;\">\n",
       "  <use xlink:href=\"#glyph-1575557357254146-4-1\" x=\"360.208\" y=\"37.229\"/>\n",
       "  <use xlink:href=\"#glyph-1575557357254146-4-2\" x=\"363.547476\" y=\"37.229\"/>\n",
       "  <use xlink:href=\"#glyph-1575557357254146-4-3\" x=\"365.898659\" y=\"37.229\"/>\n",
       "  <use xlink:href=\"#glyph-1575557357254146-4-4\" x=\"370.601023\" y=\"37.229\"/>\n",
       "</g>\n",
       "<g style=\"fill:rgb(0%,0%,0%);fill-opacity:1;\">\n",
       "  <use xlink:href=\"#glyph-1575557357254146-1-2\" x=\"377.184\" y=\"37.229\"/>\n",
       "</g>\n",
       "<path style=\"fill:none;stroke-width:0.99628;stroke-linecap:butt;stroke-linejoin:miter;stroke:rgb(88.885498%,43.563843%,27.810669%);stroke-opacity:1;stroke-dasharray:2.98883,1.99255,0.99628,1.99255;stroke-miterlimit:10;\" d=\"M 0.0019375 -0.000125 L 17.00975 -0.000125 \" transform=\"matrix(1,0,0,-1,340.709,46.078)\"/>\n",
       "<g style=\"fill:rgb(0%,0%,0%);fill-opacity:1;\">\n",
       "  <use xlink:href=\"#glyph-1575557357254146-4-5\" x=\"360.208\" y=\"47.953\"/>\n",
       "  <use xlink:href=\"#glyph-1575557357254146-4-6\" x=\"363.969892\" y=\"47.953\"/>\n",
       "  <use xlink:href=\"#glyph-1575557357254146-4-1\" x=\"368.20202\" y=\"47.953\"/>\n",
       "  <use xlink:href=\"#glyph-1575557357254146-4-2\" x=\"371.541496\" y=\"47.953\"/>\n",
       "  <use xlink:href=\"#glyph-1575557357254146-4-3\" x=\"373.892679\" y=\"47.953\"/>\n",
       "  <use xlink:href=\"#glyph-1575557357254146-4-4\" x=\"378.595044\" y=\"47.953\"/>\n",
       "</g>\n",
       "<path style=\"fill:none;stroke-width:0.99628;stroke-linecap:butt;stroke-linejoin:miter;stroke:rgb(24.221802%,64.326477%,30.44281%);stroke-opacity:1;stroke-dasharray:2.98883,1.99255,0.99628,1.99255,0.99628,1.99255;stroke-miterlimit:10;\" d=\"M 0.0019375 0.0019375 L 17.00975 0.0019375 \" transform=\"matrix(1,0,0,-1,340.709,57.666)\"/>\n",
       "<g style=\"fill:rgb(0%,0%,0%);fill-opacity:1;\">\n",
       "  <use xlink:href=\"#glyph-1575557357254146-5-1\" x=\"360.208\" y=\"53.432\"/>\n",
       "</g>\n",
       "<g style=\"fill:rgb(0%,0%,0%);fill-opacity:1;\">\n",
       "  <use xlink:href=\"#glyph-1575557357254146-1-3\" x=\"372.135\" y=\"60.406\"/>\n",
       "  <use xlink:href=\"#glyph-1575557357254146-1-4\" x=\"375.802845\" y=\"60.406\"/>\n",
       "  <use xlink:href=\"#glyph-1575557357254146-1-5\" x=\"379.895496\" y=\"60.406\"/>\n",
       "</g>\n",
       "<g style=\"fill:rgb(0%,0%,0%);fill-opacity:1;\">\n",
       "  <use xlink:href=\"#glyph-1575557357254146-0-6\" x=\"383.812\" y=\"60.406\"/>\n",
       "</g>\n",
       "<g style=\"fill:rgb(0%,0%,0%);fill-opacity:1;\">\n",
       "  <use xlink:href=\"#glyph-1575557357254146-1-2\" x=\"387.105\" y=\"60.406\"/>\n",
       "</g>\n",
       "<g style=\"fill:rgb(0%,0%,0%);fill-opacity:1;\">\n",
       "  <use xlink:href=\"#glyph-1575557357254146-0-7\" x=\"392.544\" y=\"60.406\"/>\n",
       "</g>\n",
       "</g>\n",
       "</svg>\n",
       "\n"
      ]
     },
     "execution_count": 62,
     "metadata": {},
     "output_type": "execute_result"
    }
   ],
   "source": [
    "plot(x, sin.(x), line=:stem, label=L\"sine $\\alpha$\", title=\"Periodic Functions\")\n",
    "plot!(x, cos.(x), style=:dashdot, label=\"cosine\")\n",
    "plot!(x, cumsum(cos.(x)), style=:dashdotdot, label=L\"$\\sum cos(\\alpha)$\")"
   ]
  },
  {
   "cell_type": "code",
   "execution_count": 46,
   "metadata": {
    "Collapsed": "false"
   },
   "outputs": [
    {
     "name": "stderr",
     "output_type": "stream",
     "text": [
      "┌ Info: Precompiling ImageMagick [6218d12a-5da1-5696-b52f-db25d2ecc6d1]\n",
      "└ @ Base loading.jl:1252\n"
     ]
    }
   ],
   "source": [
    "savefig(\"test_fig.png\")"
   ]
  },
  {
   "cell_type": "code",
   "execution_count": null,
   "metadata": {
    "Collapsed": "false"
   },
   "outputs": [],
   "source": []
  }
 ],
 "metadata": {
  "kernelspec": {
   "display_name": "Julia 6 Threads 1.4.0-DEV",
   "language": "julia",
   "name": "julia-6-threads-1.4"
  },
  "language_info": {
   "file_extension": ".jl",
   "mimetype": "application/julia",
   "name": "julia",
   "version": "1.4.0"
  },
  "widgets": {
   "application/vnd.jupyter.widget-state+json": {
    "state": {},
    "version_major": 2,
    "version_minor": 0
   }
  }
 },
 "nbformat": 4,
 "nbformat_minor": 4
}
